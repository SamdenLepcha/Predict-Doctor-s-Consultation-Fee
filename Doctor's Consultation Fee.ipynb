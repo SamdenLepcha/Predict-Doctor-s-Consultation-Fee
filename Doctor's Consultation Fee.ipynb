{
 "cells": [
  {
   "cell_type": "markdown",
   "metadata": {
    "_uuid": "68d3a11ef6e4a2042f278fef10c7659b00cec447"
   },
   "source": [
    "<h1>Importing Libraries</h1>"
   ]
  },
  {
   "cell_type": "code",
   "execution_count": 1,
   "metadata": {
    "_uuid": "64e9db38f4446c2a5a921ebb54c3707233a0ac60"
   },
   "outputs": [],
   "source": [
    "import pandas as pd\n",
    "import numpy as np\n",
    "import seaborn as sns\n",
    "import matplotlib.pyplot as plt\n",
    "import re\n",
    "import math"
   ]
  },
  {
   "cell_type": "code",
   "execution_count": 2,
   "metadata": {
    "_uuid": "5f9df7ad5d1157a556100a322f6f4d4bc385870b"
   },
   "outputs": [],
   "source": [
    "df=pd.read_excel(\"/home/nephalem/Desktop/Data Science/Datasets/Doctor's Consultation Fee/Train.xlsx\")"
   ]
  },
  {
   "cell_type": "code",
   "execution_count": 3,
   "metadata": {},
   "outputs": [
    {
     "data": {
      "text/html": [
       "<div>\n",
       "<style scoped>\n",
       "    .dataframe tbody tr th:only-of-type {\n",
       "        vertical-align: middle;\n",
       "    }\n",
       "\n",
       "    .dataframe tbody tr th {\n",
       "        vertical-align: top;\n",
       "    }\n",
       "\n",
       "    .dataframe thead th {\n",
       "        text-align: right;\n",
       "    }\n",
       "</style>\n",
       "<table border=\"1\" class=\"dataframe\">\n",
       "  <thead>\n",
       "    <tr style=\"text-align: right;\">\n",
       "      <th></th>\n",
       "      <th>Qualification</th>\n",
       "      <th>Experience</th>\n",
       "      <th>Rating</th>\n",
       "      <th>Place</th>\n",
       "      <th>Profile</th>\n",
       "      <th>Miscellaneous_Info</th>\n",
       "      <th>Fees</th>\n",
       "    </tr>\n",
       "  </thead>\n",
       "  <tbody>\n",
       "    <tr>\n",
       "      <th>0</th>\n",
       "      <td>BHMS, MD - Homeopathy</td>\n",
       "      <td>24 years experience</td>\n",
       "      <td>100%</td>\n",
       "      <td>Kakkanad, Ernakulam</td>\n",
       "      <td>Homeopath</td>\n",
       "      <td>100% 16 Feedback Kakkanad, Ernakulam</td>\n",
       "      <td>100</td>\n",
       "    </tr>\n",
       "    <tr>\n",
       "      <th>1</th>\n",
       "      <td>BAMS, MD - Ayurveda Medicine</td>\n",
       "      <td>12 years experience</td>\n",
       "      <td>98%</td>\n",
       "      <td>Whitefield, Bangalore</td>\n",
       "      <td>Ayurveda</td>\n",
       "      <td>98% 76 Feedback Whitefield, Bangalore</td>\n",
       "      <td>350</td>\n",
       "    </tr>\n",
       "    <tr>\n",
       "      <th>2</th>\n",
       "      <td>MBBS, MS - Otorhinolaryngology</td>\n",
       "      <td>9 years experience</td>\n",
       "      <td>NaN</td>\n",
       "      <td>Mathikere - BEL, Bangalore</td>\n",
       "      <td>ENT Specialist</td>\n",
       "      <td>NaN</td>\n",
       "      <td>300</td>\n",
       "    </tr>\n",
       "    <tr>\n",
       "      <th>3</th>\n",
       "      <td>BSc - Zoology, BAMS</td>\n",
       "      <td>12 years experience</td>\n",
       "      <td>NaN</td>\n",
       "      <td>Bannerghatta Road, Bangalore</td>\n",
       "      <td>Ayurveda</td>\n",
       "      <td>Bannerghatta Road, Bangalore ₹250 Available on...</td>\n",
       "      <td>250</td>\n",
       "    </tr>\n",
       "    <tr>\n",
       "      <th>4</th>\n",
       "      <td>BAMS</td>\n",
       "      <td>20 years experience</td>\n",
       "      <td>100%</td>\n",
       "      <td>Keelkattalai, Chennai</td>\n",
       "      <td>Ayurveda</td>\n",
       "      <td>100% 4 Feedback Keelkattalai, Chennai</td>\n",
       "      <td>250</td>\n",
       "    </tr>\n",
       "  </tbody>\n",
       "</table>\n",
       "</div>"
      ],
      "text/plain": [
       "                    Qualification           Experience Rating  \\\n",
       "0           BHMS, MD - Homeopathy  24 years experience   100%   \n",
       "1    BAMS, MD - Ayurveda Medicine  12 years experience    98%   \n",
       "2  MBBS, MS - Otorhinolaryngology   9 years experience    NaN   \n",
       "3             BSc - Zoology, BAMS  12 years experience    NaN   \n",
       "4                            BAMS  20 years experience   100%   \n",
       "\n",
       "                          Place         Profile  \\\n",
       "0           Kakkanad, Ernakulam       Homeopath   \n",
       "1         Whitefield, Bangalore        Ayurveda   \n",
       "2    Mathikere - BEL, Bangalore  ENT Specialist   \n",
       "3  Bannerghatta Road, Bangalore        Ayurveda   \n",
       "4         Keelkattalai, Chennai        Ayurveda   \n",
       "\n",
       "                                  Miscellaneous_Info  Fees  \n",
       "0               100% 16 Feedback Kakkanad, Ernakulam   100  \n",
       "1              98% 76 Feedback Whitefield, Bangalore   350  \n",
       "2                                                NaN   300  \n",
       "3  Bannerghatta Road, Bangalore ₹250 Available on...   250  \n",
       "4              100% 4 Feedback Keelkattalai, Chennai   250  "
      ]
     },
     "execution_count": 3,
     "metadata": {},
     "output_type": "execute_result"
    }
   ],
   "source": [
    "df.head()"
   ]
  },
  {
   "cell_type": "code",
   "execution_count": 3,
   "metadata": {
    "_uuid": "3b330df15d1a777dac04f317fb11e2a47d26e326"
   },
   "outputs": [
    {
     "data": {
      "text/plain": [
       "(5961, 7)"
      ]
     },
     "execution_count": 3,
     "metadata": {},
     "output_type": "execute_result"
    }
   ],
   "source": [
    "df.shape"
   ]
  },
  {
   "cell_type": "code",
   "execution_count": 4,
   "metadata": {
    "_uuid": "2854bf3c072c88c00131e39bd4eb7a3fbb44b6c2"
   },
   "outputs": [],
   "source": [
    "df1=pd.read_excel(\"/home/nephalem/Desktop/Data Science/Datasets/Doctor's Consultation Fee/Test.xlsx\")"
   ]
  },
  {
   "cell_type": "code",
   "execution_count": 5,
   "metadata": {
    "_uuid": "70e4610af3021e2df5e9d99c3bf9d8dff6f8b3e0"
   },
   "outputs": [
    {
     "name": "stderr",
     "output_type": "stream",
     "text": [
      "/home/nephalem/miniconda3/envs/AI/lib/python3.6/site-packages/ipykernel_launcher.py:2: FutureWarning: Sorting because non-concatenation axis is not aligned. A future version\n",
      "of pandas will change to not sort by default.\n",
      "\n",
      "To accept the future behavior, pass 'sort=False'.\n",
      "\n",
      "To retain the current behavior and silence the warning, pass 'sort=True'.\n",
      "\n",
      "  \n"
     ]
    }
   ],
   "source": [
    "#Combining test and train\n",
    "full=pd.concat([df,df1],ignore_index=True)"
   ]
  },
  {
   "cell_type": "markdown",
   "metadata": {
    "_uuid": "09ea2e45797618fdfd2d8ab5f40502a821626e8d"
   },
   "source": [
    "<h1>Preprocessing</h1>"
   ]
  },
  {
   "cell_type": "code",
   "execution_count": 6,
   "metadata": {
    "_uuid": "bf785aa1a0671cb4d36ccbc5f42073fa19f2774e"
   },
   "outputs": [],
   "source": [
    "miss=[]\n",
    "for i, row in full.iterrows():\n",
    "    miss.append(re.sub('[,]', ' ', str(row[\"Miscellaneous_Info\"])))"
   ]
  },
  {
   "cell_type": "code",
   "execution_count": 7,
   "metadata": {
    "_uuid": "16169dfeaa122d37e679d691dabfeeee7d49fc34"
   },
   "outputs": [],
   "source": [
    "full[\"Miss\"]=miss"
   ]
  },
  {
   "cell_type": "code",
   "execution_count": 8,
   "metadata": {
    "_uuid": "58be034bd503514183105d053f4698a101c19da1"
   },
   "outputs": [],
   "source": [
    "from nltk.corpus import stopwords\n",
    "import string\n",
    "import re\n",
    "import nltk\n",
    "from nltk.stem.porter import PorterStemmer"
   ]
  },
  {
   "cell_type": "code",
   "execution_count": 9,
   "metadata": {
    "_uuid": "5cfef1d24a25ca10ca54ba7a96ba9071621f3c21"
   },
   "outputs": [],
   "source": [
    "missi=[]\n",
    "for i, row in full.iterrows():\n",
    "    missi.append(re.sub('[,/]', '', str(row[\"Miscellaneous_Info\"])))"
   ]
  },
  {
   "cell_type": "code",
   "execution_count": 10,
   "metadata": {
    "_uuid": "f81a27241dcf4d9b17cf0acc1c2024b23d2dd7d8"
   },
   "outputs": [],
   "source": [
    "full[\"missi\"]=missi"
   ]
  },
  {
   "cell_type": "code",
   "execution_count": 11,
   "metadata": {
    "_uuid": "2aa8537ae1e84efbdb970429380e496208a7971d"
   },
   "outputs": [],
   "source": [
    "missi1=[]\n",
    "for i, row in full.iterrows():\n",
    "    missi1.append(re.sub(' +', ' ', str(row[\"missi\"])))"
   ]
  },
  {
   "cell_type": "code",
   "execution_count": 12,
   "metadata": {
    "_uuid": "5cb1ac3bb8c9b0626055bb308ae4e3781edad7f6"
   },
   "outputs": [],
   "source": [
    "full[\"Missi1\"]=missi1"
   ]
  },
  {
   "cell_type": "code",
   "execution_count": 13,
   "metadata": {
    "_uuid": "1c0bfb6f7d599f2e1b33a88f0a0ad20dfdb8f567"
   },
   "outputs": [],
   "source": [
    "full[\"Missi1\"].replace(\"nan\",\"####\",inplace=True)"
   ]
  },
  {
   "cell_type": "code",
   "execution_count": 14,
   "metadata": {
    "_uuid": "093a251d84b209b467973856a838b95cb97005d6"
   },
   "outputs": [],
   "source": [
    "from sklearn.feature_extraction.text import CountVectorizer\n",
    "cv1 = CountVectorizer(max_features=200)\n",
    "y = cv1.fit_transform(full[\"Missi1\"]).toarray()"
   ]
  },
  {
   "cell_type": "code",
   "execution_count": 15,
   "metadata": {
    "_uuid": "4ab83777524f0e44f78b1018dd47e4dd9ce06d9a"
   },
   "outputs": [
    {
     "data": {
      "text/plain": [
       "200"
      ]
     },
     "execution_count": 15,
     "metadata": {},
     "output_type": "execute_result"
    }
   ],
   "source": [
    "len(cv1.vocabulary_)"
   ]
  },
  {
   "cell_type": "code",
   "execution_count": 16,
   "metadata": {
    "_uuid": "e377c7aa0c018122166f036524628c9eebaea48d"
   },
   "outputs": [
    {
     "data": {
      "text/plain": [
       "(7948, 200)"
      ]
     },
     "execution_count": 16,
     "metadata": {},
     "output_type": "execute_result"
    }
   ],
   "source": [
    "y.shape"
   ]
  },
  {
   "cell_type": "code",
   "execution_count": 17,
   "metadata": {
    "_uuid": "478f51285699864c83994814f8e416d2dc264989"
   },
   "outputs": [],
   "source": [
    "thirty= list(y)\n",
    "thirty1=pd.DataFrame(thirty)"
   ]
  },
  {
   "cell_type": "code",
   "execution_count": 18,
   "metadata": {
    "_uuid": "c5989df4dc574cf0ee43ad1165aa669c7ac7a473"
   },
   "outputs": [],
   "source": [
    "qual=[]\n",
    "for i, row in full.iterrows():\n",
    "    qual.append(re.sub('[,]', ' ', str(row[\"Qualification\"])))"
   ]
  },
  {
   "cell_type": "code",
   "execution_count": 19,
   "metadata": {
    "_uuid": "761389ae50548646b0066d6a3e31d236a29147d6"
   },
   "outputs": [],
   "source": [
    "full[\"Qual\"]=qual"
   ]
  },
  {
   "cell_type": "code",
   "execution_count": 20,
   "metadata": {
    "_uuid": "8d29d6a212d424a97e8de99c469a8e5b19cfb8ea"
   },
   "outputs": [],
   "source": [
    "qual1=[]\n",
    "for i, row in full.iterrows():\n",
    "    qual1.append(re.sub('[-]', '', str(row[\"Qual\"])))"
   ]
  },
  {
   "cell_type": "code",
   "execution_count": 21,
   "metadata": {
    "_uuid": "3ccb0e63003960df257ee64323af5b4551690b67"
   },
   "outputs": [],
   "source": [
    "full[\"Qual1\"]=qual1"
   ]
  },
  {
   "cell_type": "code",
   "execution_count": 22,
   "metadata": {
    "_uuid": "271fef25686c915a4a4be8da8b91393787f91913"
   },
   "outputs": [],
   "source": [
    "qual2=[]\n",
    "for i, row in full.iterrows():\n",
    "    qual2.append(re.sub(' +', ' ', str(row[\"Qual1\"])))"
   ]
  },
  {
   "cell_type": "code",
   "execution_count": 24,
   "metadata": {
    "_uuid": "f78495975a8c3caa71636f5f1b942771e44ad53a"
   },
   "outputs": [],
   "source": [
    "full[\"Qual2\"]=qual2"
   ]
  },
  {
   "cell_type": "code",
   "execution_count": 25,
   "metadata": {
    "_uuid": "29780ab7b0803c056c52e032f4a85294e5dfa615"
   },
   "outputs": [],
   "source": [
    "#full[\"Qual2\"]"
   ]
  },
  {
   "cell_type": "code",
   "execution_count": 26,
   "metadata": {
    "_uuid": "d9562ef312a28380fa8561b252390f17cefb0e80"
   },
   "outputs": [],
   "source": [
    "full[\"Qual2\"].replace(\"nan\",\"####\",inplace=True)"
   ]
  },
  {
   "cell_type": "code",
   "execution_count": 27,
   "metadata": {
    "_uuid": "f18e44f87927867e9b1a60cc912f30822d7629fa"
   },
   "outputs": [],
   "source": [
    "from sklearn.feature_extraction.text import CountVectorizer\n",
    "cv = CountVectorizer(max_features=50)\n",
    "X = cv.fit_transform(full[\"Qual2\"]).toarray()"
   ]
  },
  {
   "cell_type": "code",
   "execution_count": 28,
   "metadata": {
    "_uuid": "4d39e337fbb18a9512ed87460ecbb432e38c8016"
   },
   "outputs": [],
   "source": [
    "twenty= list(X)\n",
    "twenty1=pd.DataFrame(twenty)"
   ]
  },
  {
   "cell_type": "code",
   "execution_count": 29,
   "metadata": {
    "_uuid": "0a25f5ed065e4244190d45ab5d534ff53f6505d9"
   },
   "outputs": [],
   "source": [
    "#plt.figure(figsize=(25,25))\n",
    "#sns.distplot(df[\"Fees\"])"
   ]
  },
  {
   "cell_type": "code",
   "execution_count": null,
   "metadata": {
    "_uuid": "1983ffe69fb6d399972436f9f426d5d6911f9b96"
   },
   "outputs": [],
   "source": [
    "#df.isna().sum()"
   ]
  },
  {
   "cell_type": "code",
   "execution_count": null,
   "metadata": {
    "_uuid": "58c90048b8c706a16018a28acdc4afc759b49181"
   },
   "outputs": [],
   "source": [
    "#df.shape"
   ]
  },
  {
   "cell_type": "code",
   "execution_count": null,
   "metadata": {
    "_uuid": "abd4b3f9fd31de6b430c755d7104fc951a78d4d1"
   },
   "outputs": [],
   "source": [
    "#df[\"Rating1\"].value_counts().sort_values()"
   ]
  },
  {
   "cell_type": "code",
   "execution_count": null,
   "metadata": {
    "_uuid": "8407d57f01ebe26ea9dd99f4c85fd179dfe6f5b8"
   },
   "outputs": [],
   "source": [
    "#plt.figure(figsize=(25,25))\n",
    "#sns.lineplot(x=\"Rating_\",y=\"Fees\",data=df)"
   ]
  },
  {
   "cell_type": "code",
   "execution_count": null,
   "metadata": {
    "_uuid": "80d310a5f43305da484458a6eeb0016334a8fa76"
   },
   "outputs": [],
   "source": [
    "#df[\"Experience\"].value_counts()"
   ]
  },
  {
   "cell_type": "code",
   "execution_count": 30,
   "metadata": {
    "_uuid": "9ba769c293daba9351825ffc9c7b446662b78eb0"
   },
   "outputs": [],
   "source": [
    "Rating1=[]\n",
    "for i, row in df.iterrows():\n",
    "    Rating1.append(re.sub('[%]', '', str(row[\"Rating\"])))\n"
   ]
  },
  {
   "cell_type": "code",
   "execution_count": 31,
   "metadata": {
    "_uuid": "04b7eb49d9ee16379741ef24c412b6941cc51456"
   },
   "outputs": [],
   "source": [
    "Rating1test=[]\n",
    "for i, row in df1.iterrows():\n",
    "    Rating1test.append(re.sub('[%]', '', str(row[\"Rating\"])))\n"
   ]
  },
  {
   "cell_type": "code",
   "execution_count": 32,
   "metadata": {
    "_uuid": "a43d77f8f27b7c1c08bd8517d71306d51d330b33"
   },
   "outputs": [],
   "source": [
    "Rating_=[]\n",
    "for i in range(0,len(Rating1)):\n",
    "    Rating_.append(float(Rating1[i]))"
   ]
  },
  {
   "cell_type": "code",
   "execution_count": 33,
   "metadata": {
    "_uuid": "6765283c767daeb8163befc267e4e5e259ff1f21"
   },
   "outputs": [],
   "source": [
    "Rating_test=[]\n",
    "for i in range(0,len(Rating1test)):\n",
    "    Rating_test.append(float(Rating1test[i]))"
   ]
  },
  {
   "cell_type": "code",
   "execution_count": 34,
   "metadata": {
    "_uuid": "9c4ee360bba39bc2a170727942240d45854b568c"
   },
   "outputs": [],
   "source": [
    "df[\"Rating_\"]=Rating_"
   ]
  },
  {
   "cell_type": "code",
   "execution_count": 35,
   "metadata": {
    "_uuid": "ae2eccdf1afaf7e10797b75e857ce1b86c38fb07"
   },
   "outputs": [],
   "source": [
    "df1[\"Rating_\"]=Rating_test"
   ]
  },
  {
   "cell_type": "code",
   "execution_count": 36,
   "metadata": {
    "_uuid": "2e705a7e84508b2a3d43ea08bb95a2d2e2723d3c"
   },
   "outputs": [],
   "source": [
    "df[\"Rating_NA\"]=df[\"Rating\"].isna()"
   ]
  },
  {
   "cell_type": "code",
   "execution_count": 37,
   "metadata": {
    "_uuid": "ca2101507a1f4fc8547246d669ac3f33f5d2a3cd"
   },
   "outputs": [],
   "source": [
    "df1[\"Rating_NA\"]=df1[\"Rating\"].isna()"
   ]
  },
  {
   "cell_type": "code",
   "execution_count": 38,
   "metadata": {
    "_uuid": "1d2d39d70ce9feefc8c8a5bf2a9311dc2ce93213"
   },
   "outputs": [],
   "source": [
    "df['Rating_'].fillna(int(-999),inplace=True)"
   ]
  },
  {
   "cell_type": "code",
   "execution_count": 39,
   "metadata": {
    "_uuid": "b9852ed230f4b05357f4d4036081222385a437e0"
   },
   "outputs": [],
   "source": [
    "df1['Rating_'].fillna(int(-999),inplace=True)"
   ]
  },
  {
   "cell_type": "code",
   "execution_count": 40,
   "metadata": {
    "_uuid": "169635c5bdf957b4ae2f3e79f1d09e1383e4ec61"
   },
   "outputs": [],
   "source": [
    "#sns.barplot(x=\"Profile\",y=\"Fees\", data=df)"
   ]
  },
  {
   "cell_type": "code",
   "execution_count": 41,
   "metadata": {
    "_uuid": "6b6d5aac58c4f2ad8f7e8fc42cf35e3a262bff60"
   },
   "outputs": [],
   "source": [
    "#df[df[\"Rating_\"]==76]"
   ]
  },
  {
   "cell_type": "code",
   "execution_count": 42,
   "metadata": {
    "_uuid": "2595ea004ec8c9b84e2c5069e9939ffaf59fac7e"
   },
   "outputs": [],
   "source": [
    "Experience1=[]\n",
    "for i, row in df.iterrows():\n",
    "    Experience1.append(re.sub('[ years experience]', '', str(row[\"Experience\"])))"
   ]
  },
  {
   "cell_type": "code",
   "execution_count": 43,
   "metadata": {
    "_uuid": "3ae4da540ecb7d70de7cdb3aa1e63b0913fb9112"
   },
   "outputs": [],
   "source": [
    "Experience1test=[]\n",
    "for i, row in df1.iterrows():\n",
    "    Experience1test.append(re.sub('[ years experience]', '', str(row[\"Experience\"])))"
   ]
  },
  {
   "cell_type": "code",
   "execution_count": 44,
   "metadata": {
    "_uuid": "5b627cbb1eabd50b36eb8a33a0dcd9fb9316b866"
   },
   "outputs": [],
   "source": [
    "Experience_=[]\n",
    "for i in range(0,len(Experience1)):\n",
    "    Experience_.append(float(Experience1[i]))"
   ]
  },
  {
   "cell_type": "code",
   "execution_count": 45,
   "metadata": {
    "_uuid": "e9c67a6926dd7bda1dccb3fde278a89e0176aa95"
   },
   "outputs": [],
   "source": [
    "Experience_test=[]\n",
    "for i in range(0,len(Experience1test)):\n",
    "    Experience_test.append(float(Experience1test[i]))"
   ]
  },
  {
   "cell_type": "code",
   "execution_count": 46,
   "metadata": {
    "_uuid": "2cbe91d4afb552a84fe0f6b5e8c449c2d91479e3"
   },
   "outputs": [],
   "source": [
    "df[\"Experience_\"]=Experience_"
   ]
  },
  {
   "cell_type": "code",
   "execution_count": 47,
   "metadata": {
    "_uuid": "88b751207aceeb15085f6d16e62663a5ce0efbd4"
   },
   "outputs": [],
   "source": [
    "df1[\"Experience_\"]=Experience_test"
   ]
  },
  {
   "cell_type": "code",
   "execution_count": 48,
   "metadata": {
    "_uuid": "6c69f305d32c77fd6e06d1c21ecf3bc68af41ac0"
   },
   "outputs": [],
   "source": [
    "#df"
   ]
  },
  {
   "cell_type": "code",
   "execution_count": 49,
   "metadata": {
    "_uuid": "ac4e073560a6a3537e45e35578f6ddca43b0ab19"
   },
   "outputs": [],
   "source": [
    "#plt.figure(figsize=(25,25))\n",
    "#sns.lineplot(x=\"Experience_\",y=\"Fees\",data=df)"
   ]
  },
  {
   "cell_type": "code",
   "execution_count": 50,
   "metadata": {
    "_uuid": "fc834ff7df21c573b86f80e3c650837986a9433b"
   },
   "outputs": [],
   "source": [
    "#sns.barplot(x=\"Experience_\",y=\"Fees\")"
   ]
  },
  {
   "cell_type": "code",
   "execution_count": 51,
   "metadata": {
    "_uuid": "adac337ed8ddee34d424c4fd67e65d38c398c0f1"
   },
   "outputs": [],
   "source": [
    "#df[\"Qualification\"].value_counts()"
   ]
  },
  {
   "cell_type": "code",
   "execution_count": 52,
   "metadata": {
    "_uuid": "8fec2c2433b892e6bc3f58c036b0c3e15dd97e01"
   },
   "outputs": [],
   "source": [
    "#df[\"Place\"].value_counts()"
   ]
  },
  {
   "cell_type": "code",
   "execution_count": 53,
   "metadata": {
    "_uuid": "051099cf24d566904cf4673d81fb9dbce3ac66d2"
   },
   "outputs": [],
   "source": [
    "lol=df[\"Place\"].str.split(\", \",n=1,expand=True)"
   ]
  },
  {
   "cell_type": "code",
   "execution_count": 54,
   "metadata": {
    "_uuid": "8edec7fb3da4010a9270963d19bb37f31044125c"
   },
   "outputs": [],
   "source": [
    "df[\"Location\"]=lol[0]"
   ]
  },
  {
   "cell_type": "code",
   "execution_count": 55,
   "metadata": {
    "_uuid": "5e78fe05039c026fdc32cd0442d13c4aea64989d"
   },
   "outputs": [],
   "source": [
    "df[\"City\"]=lol[1]"
   ]
  },
  {
   "cell_type": "code",
   "execution_count": 56,
   "metadata": {
    "_uuid": "51b516e857c3343b60c5877db0eb8ede55ec3aec"
   },
   "outputs": [],
   "source": [
    "lol1=df1[\"Place\"].str.split(\", \",n=1,expand=True)"
   ]
  },
  {
   "cell_type": "code",
   "execution_count": 57,
   "metadata": {
    "_uuid": "54417927611f572001933c2ce94fa38830dac88b"
   },
   "outputs": [],
   "source": [
    "df1[\"Location\"]=lol1[0]"
   ]
  },
  {
   "cell_type": "code",
   "execution_count": 58,
   "metadata": {
    "_uuid": "68ab5f1977ec386c701fca5a0662fe8e50b2a415"
   },
   "outputs": [],
   "source": [
    "df1[\"City\"]=lol1[1]"
   ]
  },
  {
   "cell_type": "code",
   "execution_count": 59,
   "metadata": {
    "_uuid": "844e0b67682ce8129e6953d8c1771a49927a8fb8"
   },
   "outputs": [],
   "source": [
    "unknownlocation=['Alipur',\n",
    " 'Aroor',\n",
    " 'Ayanambakkam',\n",
    " 'Ayyappankavu',\n",
    " 'BHEL',\n",
    " 'Bachupally',\n",
    " 'Bhandup',\n",
    " 'Bhogal',\n",
    " 'Burari',\n",
    " 'Chandrayangutta',\n",
    " 'Cheranalloor',\n",
    " 'Chickpet',\n",
    " 'Choolai',\n",
    " 'Delhi Cantonment',\n",
    " 'Dindarpur',\n",
    " 'Dwarka Sector 12',\n",
    " 'Ernakulam',\n",
    " 'Gamdevi',\n",
    " 'Hasthinapuram',\n",
    " 'Hastsal',\n",
    " 'Hongasandra',\n",
    " 'Hosur Road',\n",
    " 'Iyyappanthangal',\n",
    " 'JP Nagar 9 Phase',\n",
    " 'Jafferkhanpet',\n",
    " 'Jayanagar 2 Block',\n",
    " 'KH Road',\n",
    " 'Kadubeesanahalli',\n",
    " 'Kalu Sarai',\n",
    " 'Kanjoor',\n",
    " 'Kapra',\n",
    " 'Kaudiar',\n",
    " 'Khar East',\n",
    " 'Koramangala 7 Block',\n",
    " 'Kudlu',\n",
    " 'Kurla',\n",
    " 'Lingarajapuram',\n",
    " 'Madambakkam',\n",
    " 'Madhavaram',\n",
    " 'Mahavir Enclave',\n",
    " 'Mahipalpur',\n",
    " 'Manchavilakom',\n",
    " 'Meerpet',\n",
    " 'Nacharam',\n",
    " 'Nandambakkam',\n",
    " 'Nedumangad',\n",
    " 'Nedumbassery',\n",
    " 'Nemom',\n",
    " 'Outer Ring Road',\n",
    " 'Padi',\n",
    " 'Palghar',\n",
    " 'Pattabiram',\n",
    " 'Periyanaickenpalayam',\n",
    " 'Poothotta',\n",
    " 'Pratap Nagar',\n",
    " 'Ramakrishna Puram',\n",
    " 'Rohini Sector 20',\n",
    " 'Rohini West',\n",
    " 'Safilguda',\n",
    " 'Sagar Road',\n",
    " 'Sarvapriya Vihar',\n",
    " 'Seeranaickenpalayam',\n",
    " 'Sewri',\n",
    " 'Shadipur',\n",
    " 'Sriniwaspuri',\n",
    " 'Tavarekere',\n",
    " 'Tv Thampanoor',\n",
    " 'Vikas Nagar',\n",
    " 'Vishwas Nagar',\n",
    " 'Warasiguda',\n",
    " 'Yemalur']"
   ]
  },
  {
   "cell_type": "code",
   "execution_count": 60,
   "metadata": {
    "_uuid": "51f15490a51fb40c0891c5abe54b5e4e96231444"
   },
   "outputs": [
    {
     "data": {
      "text/plain": [
       "71"
      ]
     },
     "execution_count": 60,
     "metadata": {},
     "output_type": "execute_result"
    }
   ],
   "source": [
    "len(unknownlocation)"
   ]
  },
  {
   "cell_type": "code",
   "execution_count": 61,
   "metadata": {
    "_uuid": "cdb596bd0ba3f18619abc3c2db186afab6a75211"
   },
   "outputs": [],
   "source": [
    "twentytrain=twenty1.iloc[0:5961,:]"
   ]
  },
  {
   "cell_type": "code",
   "execution_count": 62,
   "metadata": {
    "_uuid": "ad95369fafe10deb811f8ab863b56bd18efca2e5"
   },
   "outputs": [],
   "source": [
    "twentytest=twenty1.iloc[5961:7949,:]"
   ]
  },
  {
   "cell_type": "code",
   "execution_count": 63,
   "metadata": {
    "_uuid": "384f3ea73a3c65933584214887b84705577e0eb0"
   },
   "outputs": [],
   "source": [
    "thritytrain1=thirty1.iloc[0:5961,:]"
   ]
  },
  {
   "cell_type": "code",
   "execution_count": 64,
   "metadata": {
    "_uuid": "2d1d06312e2f5480202ce2c711c605f432ffcf14"
   },
   "outputs": [],
   "source": [
    "thritytest1=thirty1.iloc[5961:7949,:]"
   ]
  },
  {
   "cell_type": "code",
   "execution_count": 65,
   "metadata": {
    "_uuid": "2dbe8c437a3fae106aa402fe6537756dc2939c4d"
   },
   "outputs": [],
   "source": [
    "thritytest1.reset_index(drop=True,inplace=True)"
   ]
  },
  {
   "cell_type": "code",
   "execution_count": 66,
   "metadata": {
    "_uuid": "0bdde834b291fb4d1c05bf844aeb7ae9a6201011"
   },
   "outputs": [],
   "source": [
    "twentytest.reset_index(drop=True,inplace=True)"
   ]
  },
  {
   "cell_type": "code",
   "execution_count": 67,
   "metadata": {
    "_uuid": "1c687fac1b5e477d7069880cf8dd2f2617122618"
   },
   "outputs": [],
   "source": [
    "df=pd.concat([df,twentytrain,thritytrain1],axis=1,ignore_index=True)"
   ]
  },
  {
   "cell_type": "code",
   "execution_count": 68,
   "metadata": {
    "_uuid": "7ca90c9af87c10ede25bb9e1821555a00f5dfb65"
   },
   "outputs": [],
   "source": [
    "lol=pd.concat([df1,twentytest,thritytest1],axis=1,ignore_index=True)"
   ]
  },
  {
   "cell_type": "code",
   "execution_count": 69,
   "metadata": {
    "_uuid": "75ada7c49e85af257d185a43051e6d61f5f82630"
   },
   "outputs": [],
   "source": [
    "#lol.iloc[:,0:10]"
   ]
  },
  {
   "cell_type": "code",
   "execution_count": 70,
   "metadata": {
    "_uuid": "9aec24629006ffa50083e7331413c203365db8a4"
   },
   "outputs": [],
   "source": [
    "#df.iloc[:,0:10]"
   ]
  },
  {
   "cell_type": "code",
   "execution_count": 71,
   "metadata": {
    "_uuid": "e30a09c1b21afe3f2493138599a411c75fd2dab2"
   },
   "outputs": [],
   "source": [
    "samekey=pd.DataFrame()"
   ]
  },
  {
   "cell_type": "code",
   "execution_count": 72,
   "metadata": {
    "_uuid": "696ac8ae8a527f9b91a6c2b678878ab2655aa577"
   },
   "outputs": [],
   "source": [
    "for i in range(0,len(unknownlocation)):\n",
    "    lol1=lol[lol[9] == unknownlocation[i]]\n",
    "    samekey=pd.concat([samekey,lol1],axis=0)"
   ]
  },
  {
   "cell_type": "code",
   "execution_count": 73,
   "metadata": {
    "_uuid": "db5bb21b2da0bd18e94519b7cf154610bdc63315"
   },
   "outputs": [],
   "source": [
    "#Getting Index and putting them onto a list\n",
    "index=samekey.index.tolist()"
   ]
  },
  {
   "cell_type": "code",
   "execution_count": 74,
   "metadata": {
    "_uuid": "413b68faab4518a26ca01bcef7148d4024e608dc"
   },
   "outputs": [
    {
     "data": {
      "text/plain": [
       "83"
      ]
     },
     "execution_count": 74,
     "metadata": {},
     "output_type": "execute_result"
    }
   ],
   "source": [
    "len(index)"
   ]
  },
  {
   "cell_type": "code",
   "execution_count": 75,
   "metadata": {
    "_uuid": "258cac17d4854e2246dc89474e6273e93820b1f1"
   },
   "outputs": [],
   "source": [
    "for i in range(0,len(unknownlocation)):\n",
    "    lol=lol[lol[9] != unknownlocation[i]]"
   ]
  },
  {
   "cell_type": "code",
   "execution_count": 76,
   "metadata": {
    "_uuid": "86560e225e7de7cfd06085b5dc725e41737c0093"
   },
   "outputs": [],
   "source": [
    "#for i in df.iterrows():\n",
    "#lol1=df[df['Location']]"
   ]
  },
  {
   "cell_type": "code",
   "execution_count": 77,
   "metadata": {
    "_uuid": "bee497123afd2cebff9b0a97ef85cb65636fb690"
   },
   "outputs": [],
   "source": [
    "#from sklearn.preprocessing import LabelEncoder\n",
    "#lbl=LabelEncoder()\n",
    "#lbl.fit(df[\"Qualification\"])\n"
   ]
  },
  {
   "cell_type": "code",
   "execution_count": 78,
   "metadata": {
    "_uuid": "eb45425f2dca519fa55ea052347507df04045a90"
   },
   "outputs": [],
   "source": [
    "#lbl.transform(df1[\"Qualification\"])"
   ]
  },
  {
   "cell_type": "code",
   "execution_count": 79,
   "metadata": {
    "_uuid": "5a90fc7cc16edcbf54bd462f749c25adeb26501a"
   },
   "outputs": [],
   "source": [
    "#set(df1[\"Qual2\"]).difference(set(df[\"Qual2\"]))"
   ]
  },
  {
   "cell_type": "code",
   "execution_count": 80,
   "metadata": {
    "_uuid": "f1a0b593f99b7f317f74ada5c88a4a3a71e91632"
   },
   "outputs": [],
   "source": [
    "#df[df[\"Qual2\"]=='BDS, MDS']"
   ]
  },
  {
   "cell_type": "code",
   "execution_count": 81,
   "metadata": {
    "_uuid": "7daa3749dd003918f1794d4970521c337c6fc20d"
   },
   "outputs": [],
   "source": [
    "#df[df[\"Qual2\"]==\"MD - Physician, DNB - General Medicine, Fellowship in Diabetology\"]"
   ]
  },
  {
   "cell_type": "code",
   "execution_count": 82,
   "metadata": {
    "_uuid": "943952532a758d5583a68e28ac20f3b2c3310679"
   },
   "outputs": [],
   "source": [
    "#df1[\"Qual1\"].unique()"
   ]
  },
  {
   "cell_type": "code",
   "execution_count": 83,
   "metadata": {
    "_uuid": "3361ef7a50b0ffb019da5254409486673323ecb2"
   },
   "outputs": [],
   "source": [
    "df.drop([0,1,2,3,5],axis=1,inplace=True)"
   ]
  },
  {
   "cell_type": "code",
   "execution_count": 84,
   "metadata": {
    "_uuid": "4c1a25556bf5ed30146edf5731d8a8e2d2a15d68"
   },
   "outputs": [],
   "source": [
    "lol.drop([0,1,2,3,5],axis=1,inplace=True)"
   ]
  },
  {
   "cell_type": "code",
   "execution_count": 85,
   "metadata": {
    "_uuid": "c548ea67fdc4f43b669b13afc5c426bea763704b"
   },
   "outputs": [],
   "source": [
    "samekey.drop([0,1,2,3,5],axis=1,inplace=True)"
   ]
  },
  {
   "cell_type": "code",
   "execution_count": 86,
   "metadata": {
    "_uuid": "b69d65c3a0427d2c6b66714a23bb4dda2fff60dd"
   },
   "outputs": [
    {
     "data": {
      "text/html": [
       "<div>\n",
       "<style scoped>\n",
       "    .dataframe tbody tr th:only-of-type {\n",
       "        vertical-align: middle;\n",
       "    }\n",
       "\n",
       "    .dataframe tbody tr th {\n",
       "        vertical-align: top;\n",
       "    }\n",
       "\n",
       "    .dataframe thead th {\n",
       "        text-align: right;\n",
       "    }\n",
       "</style>\n",
       "<table border=\"1\" class=\"dataframe\">\n",
       "  <thead>\n",
       "    <tr style=\"text-align: right;\">\n",
       "      <th></th>\n",
       "      <th>4</th>\n",
       "      <th>6</th>\n",
       "      <th>7</th>\n",
       "      <th>8</th>\n",
       "      <th>9</th>\n",
       "      <th>10</th>\n",
       "      <th>11</th>\n",
       "      <th>12</th>\n",
       "      <th>13</th>\n",
       "      <th>14</th>\n",
       "      <th>...</th>\n",
       "      <th>251</th>\n",
       "      <th>252</th>\n",
       "      <th>253</th>\n",
       "      <th>254</th>\n",
       "      <th>255</th>\n",
       "      <th>256</th>\n",
       "      <th>257</th>\n",
       "      <th>258</th>\n",
       "      <th>259</th>\n",
       "      <th>260</th>\n",
       "    </tr>\n",
       "  </thead>\n",
       "  <tbody>\n",
       "    <tr>\n",
       "      <th>0</th>\n",
       "      <td>General Medicine</td>\n",
       "      <td>-999.0</td>\n",
       "      <td>True</td>\n",
       "      <td>35.0</td>\n",
       "      <td>Ghatkopar East</td>\n",
       "      <td>Mumbai</td>\n",
       "      <td>0</td>\n",
       "      <td>0</td>\n",
       "      <td>0</td>\n",
       "      <td>0</td>\n",
       "      <td>...</td>\n",
       "      <td>0</td>\n",
       "      <td>0</td>\n",
       "      <td>0</td>\n",
       "      <td>0</td>\n",
       "      <td>0</td>\n",
       "      <td>0</td>\n",
       "      <td>0</td>\n",
       "      <td>0</td>\n",
       "      <td>0</td>\n",
       "      <td>0</td>\n",
       "    </tr>\n",
       "    <tr>\n",
       "      <th>1</th>\n",
       "      <td>ENT Specialist</td>\n",
       "      <td>-999.0</td>\n",
       "      <td>True</td>\n",
       "      <td>31.0</td>\n",
       "      <td>West Marredpally</td>\n",
       "      <td>Hyderabad</td>\n",
       "      <td>0</td>\n",
       "      <td>0</td>\n",
       "      <td>0</td>\n",
       "      <td>0</td>\n",
       "      <td>...</td>\n",
       "      <td>0</td>\n",
       "      <td>0</td>\n",
       "      <td>0</td>\n",
       "      <td>0</td>\n",
       "      <td>0</td>\n",
       "      <td>0</td>\n",
       "      <td>0</td>\n",
       "      <td>0</td>\n",
       "      <td>0</td>\n",
       "      <td>0</td>\n",
       "    </tr>\n",
       "    <tr>\n",
       "      <th>2</th>\n",
       "      <td>Dermatologists</td>\n",
       "      <td>70.0</td>\n",
       "      <td>False</td>\n",
       "      <td>40.0</td>\n",
       "      <td>KK Nagar</td>\n",
       "      <td>Chennai</td>\n",
       "      <td>0</td>\n",
       "      <td>0</td>\n",
       "      <td>0</td>\n",
       "      <td>0</td>\n",
       "      <td>...</td>\n",
       "      <td>0</td>\n",
       "      <td>0</td>\n",
       "      <td>0</td>\n",
       "      <td>0</td>\n",
       "      <td>0</td>\n",
       "      <td>0</td>\n",
       "      <td>0</td>\n",
       "      <td>0</td>\n",
       "      <td>0</td>\n",
       "      <td>0</td>\n",
       "    </tr>\n",
       "    <tr>\n",
       "      <th>3</th>\n",
       "      <td>Ayurveda</td>\n",
       "      <td>-999.0</td>\n",
       "      <td>True</td>\n",
       "      <td>0.0</td>\n",
       "      <td>New Ashok Nagar</td>\n",
       "      <td>Delhi</td>\n",
       "      <td>0</td>\n",
       "      <td>0</td>\n",
       "      <td>0</td>\n",
       "      <td>1</td>\n",
       "      <td>...</td>\n",
       "      <td>0</td>\n",
       "      <td>0</td>\n",
       "      <td>0</td>\n",
       "      <td>0</td>\n",
       "      <td>0</td>\n",
       "      <td>0</td>\n",
       "      <td>0</td>\n",
       "      <td>0</td>\n",
       "      <td>0</td>\n",
       "      <td>0</td>\n",
       "    </tr>\n",
       "    <tr>\n",
       "      <th>4</th>\n",
       "      <td>Dentist</td>\n",
       "      <td>100.0</td>\n",
       "      <td>False</td>\n",
       "      <td>16.0</td>\n",
       "      <td>Kanakpura Road</td>\n",
       "      <td>Bangalore</td>\n",
       "      <td>0</td>\n",
       "      <td>0</td>\n",
       "      <td>0</td>\n",
       "      <td>0</td>\n",
       "      <td>...</td>\n",
       "      <td>0</td>\n",
       "      <td>0</td>\n",
       "      <td>0</td>\n",
       "      <td>0</td>\n",
       "      <td>0</td>\n",
       "      <td>0</td>\n",
       "      <td>0</td>\n",
       "      <td>0</td>\n",
       "      <td>0</td>\n",
       "      <td>0</td>\n",
       "    </tr>\n",
       "  </tbody>\n",
       "</table>\n",
       "<p>5 rows × 256 columns</p>\n",
       "</div>"
      ],
      "text/plain": [
       "                4      6      7     8                 9          10   11   \\\n",
       "0  General Medicine -999.0   True  35.0    Ghatkopar East     Mumbai    0   \n",
       "1    ENT Specialist -999.0   True  31.0  West Marredpally  Hyderabad    0   \n",
       "2    Dermatologists   70.0  False  40.0          KK Nagar    Chennai    0   \n",
       "3          Ayurveda -999.0   True   0.0   New Ashok Nagar      Delhi    0   \n",
       "4           Dentist  100.0  False  16.0    Kanakpura Road  Bangalore    0   \n",
       "\n",
       "   12   13   14  ...   251  252  253  254  255  256  257  258  259  260  \n",
       "0    0    0    0 ...     0    0    0    0    0    0    0    0    0    0  \n",
       "1    0    0    0 ...     0    0    0    0    0    0    0    0    0    0  \n",
       "2    0    0    0 ...     0    0    0    0    0    0    0    0    0    0  \n",
       "3    0    0    1 ...     0    0    0    0    0    0    0    0    0    0  \n",
       "4    0    0    0 ...     0    0    0    0    0    0    0    0    0    0  \n",
       "\n",
       "[5 rows x 256 columns]"
      ]
     },
     "execution_count": 86,
     "metadata": {},
     "output_type": "execute_result"
    }
   ],
   "source": [
    "lol.head()"
   ]
  },
  {
   "cell_type": "code",
   "execution_count": 87,
   "metadata": {
    "_uuid": "6abe55e9b5d53d064a2e3cf30b070bf6fe246b5d"
   },
   "outputs": [
    {
     "data": {
      "text/html": [
       "<div>\n",
       "<style scoped>\n",
       "    .dataframe tbody tr th:only-of-type {\n",
       "        vertical-align: middle;\n",
       "    }\n",
       "\n",
       "    .dataframe tbody tr th {\n",
       "        vertical-align: top;\n",
       "    }\n",
       "\n",
       "    .dataframe thead th {\n",
       "        text-align: right;\n",
       "    }\n",
       "</style>\n",
       "<table border=\"1\" class=\"dataframe\">\n",
       "  <thead>\n",
       "    <tr style=\"text-align: right;\">\n",
       "      <th></th>\n",
       "      <th>4</th>\n",
       "      <th>6</th>\n",
       "      <th>7</th>\n",
       "      <th>8</th>\n",
       "      <th>9</th>\n",
       "      <th>10</th>\n",
       "      <th>11</th>\n",
       "      <th>12</th>\n",
       "      <th>13</th>\n",
       "      <th>14</th>\n",
       "      <th>...</th>\n",
       "      <th>252</th>\n",
       "      <th>253</th>\n",
       "      <th>254</th>\n",
       "      <th>255</th>\n",
       "      <th>256</th>\n",
       "      <th>257</th>\n",
       "      <th>258</th>\n",
       "      <th>259</th>\n",
       "      <th>260</th>\n",
       "      <th>261</th>\n",
       "    </tr>\n",
       "  </thead>\n",
       "  <tbody>\n",
       "    <tr>\n",
       "      <th>0</th>\n",
       "      <td>Homeopath</td>\n",
       "      <td>100</td>\n",
       "      <td>100.0</td>\n",
       "      <td>False</td>\n",
       "      <td>24.0</td>\n",
       "      <td>Kakkanad</td>\n",
       "      <td>Ernakulam</td>\n",
       "      <td>0</td>\n",
       "      <td>0</td>\n",
       "      <td>0</td>\n",
       "      <td>...</td>\n",
       "      <td>0</td>\n",
       "      <td>0</td>\n",
       "      <td>0</td>\n",
       "      <td>0</td>\n",
       "      <td>0</td>\n",
       "      <td>0</td>\n",
       "      <td>0</td>\n",
       "      <td>0</td>\n",
       "      <td>0</td>\n",
       "      <td>0</td>\n",
       "    </tr>\n",
       "    <tr>\n",
       "      <th>1</th>\n",
       "      <td>Ayurveda</td>\n",
       "      <td>350</td>\n",
       "      <td>98.0</td>\n",
       "      <td>False</td>\n",
       "      <td>12.0</td>\n",
       "      <td>Whitefield</td>\n",
       "      <td>Bangalore</td>\n",
       "      <td>0</td>\n",
       "      <td>0</td>\n",
       "      <td>1</td>\n",
       "      <td>...</td>\n",
       "      <td>0</td>\n",
       "      <td>0</td>\n",
       "      <td>0</td>\n",
       "      <td>0</td>\n",
       "      <td>0</td>\n",
       "      <td>0</td>\n",
       "      <td>1</td>\n",
       "      <td>0</td>\n",
       "      <td>0</td>\n",
       "      <td>0</td>\n",
       "    </tr>\n",
       "    <tr>\n",
       "      <th>2</th>\n",
       "      <td>ENT Specialist</td>\n",
       "      <td>300</td>\n",
       "      <td>-999.0</td>\n",
       "      <td>True</td>\n",
       "      <td>9.0</td>\n",
       "      <td>Mathikere - BEL</td>\n",
       "      <td>Bangalore</td>\n",
       "      <td>0</td>\n",
       "      <td>0</td>\n",
       "      <td>0</td>\n",
       "      <td>...</td>\n",
       "      <td>0</td>\n",
       "      <td>0</td>\n",
       "      <td>0</td>\n",
       "      <td>0</td>\n",
       "      <td>0</td>\n",
       "      <td>0</td>\n",
       "      <td>0</td>\n",
       "      <td>0</td>\n",
       "      <td>0</td>\n",
       "      <td>0</td>\n",
       "    </tr>\n",
       "    <tr>\n",
       "      <th>3</th>\n",
       "      <td>Ayurveda</td>\n",
       "      <td>250</td>\n",
       "      <td>-999.0</td>\n",
       "      <td>True</td>\n",
       "      <td>12.0</td>\n",
       "      <td>Bannerghatta Road</td>\n",
       "      <td>Bangalore</td>\n",
       "      <td>0</td>\n",
       "      <td>0</td>\n",
       "      <td>0</td>\n",
       "      <td>...</td>\n",
       "      <td>0</td>\n",
       "      <td>0</td>\n",
       "      <td>0</td>\n",
       "      <td>0</td>\n",
       "      <td>0</td>\n",
       "      <td>0</td>\n",
       "      <td>0</td>\n",
       "      <td>0</td>\n",
       "      <td>0</td>\n",
       "      <td>0</td>\n",
       "    </tr>\n",
       "    <tr>\n",
       "      <th>4</th>\n",
       "      <td>Ayurveda</td>\n",
       "      <td>250</td>\n",
       "      <td>100.0</td>\n",
       "      <td>False</td>\n",
       "      <td>20.0</td>\n",
       "      <td>Keelkattalai</td>\n",
       "      <td>Chennai</td>\n",
       "      <td>0</td>\n",
       "      <td>0</td>\n",
       "      <td>0</td>\n",
       "      <td>...</td>\n",
       "      <td>0</td>\n",
       "      <td>0</td>\n",
       "      <td>0</td>\n",
       "      <td>0</td>\n",
       "      <td>0</td>\n",
       "      <td>0</td>\n",
       "      <td>0</td>\n",
       "      <td>0</td>\n",
       "      <td>0</td>\n",
       "      <td>0</td>\n",
       "    </tr>\n",
       "  </tbody>\n",
       "</table>\n",
       "<p>5 rows × 257 columns</p>\n",
       "</div>"
      ],
      "text/plain": [
       "              4    6      7      8     9                  10         11   12   \\\n",
       "0       Homeopath  100  100.0  False  24.0           Kakkanad  Ernakulam    0   \n",
       "1        Ayurveda  350   98.0  False  12.0         Whitefield  Bangalore    0   \n",
       "2  ENT Specialist  300 -999.0   True   9.0    Mathikere - BEL  Bangalore    0   \n",
       "3        Ayurveda  250 -999.0   True  12.0  Bannerghatta Road  Bangalore    0   \n",
       "4        Ayurveda  250  100.0  False  20.0       Keelkattalai    Chennai    0   \n",
       "\n",
       "   13   14  ...   252  253  254  255  256  257  258  259  260  261  \n",
       "0    0    0 ...     0    0    0    0    0    0    0    0    0    0  \n",
       "1    0    1 ...     0    0    0    0    0    0    1    0    0    0  \n",
       "2    0    0 ...     0    0    0    0    0    0    0    0    0    0  \n",
       "3    0    0 ...     0    0    0    0    0    0    0    0    0    0  \n",
       "4    0    0 ...     0    0    0    0    0    0    0    0    0    0  \n",
       "\n",
       "[5 rows x 257 columns]"
      ]
     },
     "execution_count": 87,
     "metadata": {},
     "output_type": "execute_result"
    }
   ],
   "source": [
    "df.head()"
   ]
  },
  {
   "cell_type": "code",
   "execution_count": 88,
   "metadata": {
    "_uuid": "eb2463e5b98c868f77e9740af70c87e638261ac1"
   },
   "outputs": [],
   "source": [
    "df2=df.drop([10],axis=1)"
   ]
  },
  {
   "cell_type": "code",
   "execution_count": 89,
   "metadata": {
    "_uuid": "244d093ee871f10b618586329e105ccdb7deac5c"
   },
   "outputs": [],
   "source": [
    "#df.drop(\"Place\",axis=1,inplace=True)"
   ]
  },
  {
   "cell_type": "code",
   "execution_count": 90,
   "metadata": {
    "_uuid": "ed3630bff92b68bbdb36287a96065c3041a5c06a"
   },
   "outputs": [],
   "source": [
    "#df.head()"
   ]
  },
  {
   "cell_type": "code",
   "execution_count": 91,
   "metadata": {
    "_uuid": "c7f8f80f22ae285706d4d89ca84f7110e0ff7b17"
   },
   "outputs": [],
   "source": [
    "#df.isna().sum()"
   ]
  },
  {
   "cell_type": "code",
   "execution_count": 92,
   "metadata": {
    "_uuid": "528602a8196365d51821f43eb3847171f0df366c"
   },
   "outputs": [],
   "source": [
    "#df[\"Qual2\"].fillna(\"Nothing\",inplace=True)"
   ]
  },
  {
   "cell_type": "code",
   "execution_count": 93,
   "metadata": {
    "_uuid": "648c0a40174df1546437c6af1d1ea5c8e2677c69"
   },
   "outputs": [],
   "source": [
    "#df1[\"Qual2\"].fillna(\"Nothing\",inplace=True)"
   ]
  },
  {
   "cell_type": "code",
   "execution_count": 94,
   "metadata": {
    "_uuid": "a8dac51494dc8cc75a7d3d6d5684d963ada26c73"
   },
   "outputs": [],
   "source": [
    "df1=lol"
   ]
  },
  {
   "cell_type": "code",
   "execution_count": 95,
   "metadata": {
    "_uuid": "321ea89163a7e29cded165808c212158e8c010c7"
   },
   "outputs": [],
   "source": [
    "df[\"LocationNA\"]=df[10].isna()\n",
    "df1[\"LocationNA\"]=df1[9].isna()"
   ]
  },
  {
   "cell_type": "code",
   "execution_count": 96,
   "metadata": {
    "_uuid": "a9b707e6e28a837574b9942182e68750b2ad0910"
   },
   "outputs": [],
   "source": [
    "df[\"CityNA\"]=df[11].isna()\n",
    "df1[\"CityNA\"]=df1[10].isna()"
   ]
  },
  {
   "cell_type": "code",
   "execution_count": 97,
   "metadata": {
    "_uuid": "db5f165ce4f7d4582c358c9e79ab310eafa2a4e0"
   },
   "outputs": [],
   "source": [
    "df[11].fillna(\"UnknownCity\",inplace=True)\n",
    "df1[10].fillna(\"UnknownCity\",inplace=True)\n",
    "df2[11].fillna(\"UnknownCity\",inplace=True)"
   ]
  },
  {
   "cell_type": "code",
   "execution_count": 98,
   "metadata": {
    "_uuid": "5205fdfc28d231401365f0e87c9436b6d6913a67"
   },
   "outputs": [],
   "source": [
    "#df2.drop([\"CityNA\"],axis=1,inplace=True)"
   ]
  },
  {
   "cell_type": "code",
   "execution_count": 99,
   "metadata": {
    "_uuid": "bbe48a4188f8ad25b4d79fb1404120c489d95aa4"
   },
   "outputs": [],
   "source": [
    "df[10].fillna(\"UnknownLocation\",inplace=True)\n",
    "df1[9].fillna(\"UnknownLocation\",inplace=True)"
   ]
  },
  {
   "cell_type": "code",
   "execution_count": 100,
   "metadata": {
    "_uuid": "966618bd5ea86f314ce79ebdf2f586afcea5e5b9"
   },
   "outputs": [],
   "source": [
    "groupbylocation=df.groupby(10)[6].mean()\n",
    "df['LOCDmean']=df[10].map(groupbylocation)\n",
    "df1['LOCDmean']=df1[9].map(groupbylocation)"
   ]
  },
  {
   "cell_type": "code",
   "execution_count": 101,
   "metadata": {
    "_uuid": "ee564ff2c88f7853e856776918d9f6c8301348a4"
   },
   "outputs": [],
   "source": [
    "groupbylocationmin=df.groupby(10)[6].min()\n",
    "df['LOCDmin']=df[10].map(groupbylocationmin)\n",
    "df1['LOCDmin']=df1[9].map(groupbylocationmin)"
   ]
  },
  {
   "cell_type": "code",
   "execution_count": 102,
   "metadata": {
    "_uuid": "f032829d0e6fc1181d0f22fc7373a44ccd52b9d9"
   },
   "outputs": [],
   "source": [
    "groupbylocationmax=df.groupby(10)[6].max()\n",
    "df['LOCDmax']=df[10].map(groupbylocationmax)\n",
    "df1['LOCDmax']=df1[9].map(groupbylocationmax)"
   ]
  },
  {
   "cell_type": "code",
   "execution_count": 103,
   "metadata": {
    "_uuid": "aece4381de92134a3e02230b2777c7d4d561ccd2"
   },
   "outputs": [],
   "source": [
    "#Some instances only one Location causing Null Values\n",
    "#groupbylocationdev=df.groupby(10)[6].std()\n",
    "#df['LOCDstdev']=df[10].map(groupbylocationdev)\n",
    "#df1['LOCDstdev']=df1[9].map(groupbylocationdev)"
   ]
  },
  {
   "cell_type": "code",
   "execution_count": 104,
   "metadata": {
    "_uuid": "4f618185adf8630d983e44bac0971128a9e5f99c"
   },
   "outputs": [],
   "source": [
    "#Dropping location\n",
    "samekey.drop([9],axis=1,inplace=True)"
   ]
  },
  {
   "cell_type": "code",
   "execution_count": 105,
   "metadata": {
    "_uuid": "72a1b7f5ed879e3576f20fbcb1b40549d00dc7b6"
   },
   "outputs": [],
   "source": [
    "groupbycitymean=df.groupby(11)[6].mean()\n",
    "df['Citymean']=df[11].map(groupbycitymean)\n",
    "df1['Citymean']=df1[10].map(groupbycitymean)\n",
    "df2['Citymean']=df2[11].map(groupbycitymean)"
   ]
  },
  {
   "cell_type": "code",
   "execution_count": 106,
   "metadata": {
    "_uuid": "202d41f29e571843f1e7b5ca921fdaf62cebd8c5"
   },
   "outputs": [],
   "source": [
    "groupbycitymin=df.groupby(11)[6].min()\n",
    "df['Citymin']=df[11].map(groupbycitymin)\n",
    "df1['Citymin']=df1[10].map(groupbycitymin)\n",
    "df2['Citymin']=df2[11].map(groupbycitymin)"
   ]
  },
  {
   "cell_type": "code",
   "execution_count": 107,
   "metadata": {
    "_uuid": "b5344b7ee2f8538d2d8a0a58390d64c40ee0b291"
   },
   "outputs": [],
   "source": [
    "groupbycitymax=df.groupby(11)[6].max()\n",
    "df['Citymax']=df[11].map(groupbycitymax)\n",
    "df1['Citymax']=df1[10].map(groupbycitymax)\n",
    "df2['Citymax']=df2[11].map(groupbycitymax)"
   ]
  },
  {
   "cell_type": "code",
   "execution_count": 108,
   "metadata": {
    "_uuid": "8a9553ec3f4db6ae93f8c5593848907f8ca6931f"
   },
   "outputs": [],
   "source": [
    "groupbycitydev=df.groupby(11)[6].std()\n",
    "df['Citystdev']=df[11].map(groupbycitydev)\n",
    "df1['Citystdev']=df1[10].map(groupbycitydev)\n",
    "df2['Citystdev']=df2[11].map(groupbycitydev)"
   ]
  },
  {
   "cell_type": "code",
   "execution_count": 109,
   "metadata": {
    "_uuid": "ce3e08ad7e352c8d91d6574f20d676162c5d1669"
   },
   "outputs": [],
   "source": [
    "samekey['Citymean']=samekey[10].map(groupbycitymean)\n",
    "samekey['Citymin']=samekey[10].map(groupbycitymin)\n",
    "samekey['Citymax']=samekey[10].map(groupbycitymax)\n",
    "samekey['Citystdev']=samekey[10].map(groupbycitydev)"
   ]
  },
  {
   "cell_type": "code",
   "execution_count": 110,
   "metadata": {
    "_uuid": "31f52e20748f7515307883031c621fc17418c6b9"
   },
   "outputs": [],
   "source": [
    "stdev=df['Citystdev'].std()\n",
    "stdev2=df2['Citystdev'].std()"
   ]
  },
  {
   "cell_type": "code",
   "execution_count": 111,
   "metadata": {
    "_uuid": "c002eddd59a0a8798eae8bbd9b21ead0a639dc88"
   },
   "outputs": [],
   "source": [
    "df['Citystdev']=df['Citystdev'].fillna(stdev,axis=0)\n",
    "df2['Citystdev']=df2['Citystdev'].fillna(stdev,axis=0)"
   ]
  },
  {
   "cell_type": "markdown",
   "metadata": {
    "_uuid": "0449a95ef2ca04795f216f77d2c562d0d6c32edc"
   },
   "source": [
    "Creating Profile_Location "
   ]
  },
  {
   "cell_type": "code",
   "execution_count": 112,
   "metadata": {
    "_uuid": "587e4e463a3704c90cc5db3161401bd235d1af59"
   },
   "outputs": [
    {
     "data": {
      "text/html": [
       "<div>\n",
       "<style scoped>\n",
       "    .dataframe tbody tr th:only-of-type {\n",
       "        vertical-align: middle;\n",
       "    }\n",
       "\n",
       "    .dataframe tbody tr th {\n",
       "        vertical-align: top;\n",
       "    }\n",
       "\n",
       "    .dataframe thead th {\n",
       "        text-align: right;\n",
       "    }\n",
       "</style>\n",
       "<table border=\"1\" class=\"dataframe\">\n",
       "  <thead>\n",
       "    <tr style=\"text-align: right;\">\n",
       "      <th></th>\n",
       "      <th>4</th>\n",
       "      <th>6</th>\n",
       "      <th>7</th>\n",
       "      <th>8</th>\n",
       "      <th>9</th>\n",
       "      <th>10</th>\n",
       "      <th>11</th>\n",
       "      <th>12</th>\n",
       "      <th>13</th>\n",
       "      <th>14</th>\n",
       "      <th>...</th>\n",
       "      <th>260</th>\n",
       "      <th>LocationNA</th>\n",
       "      <th>CityNA</th>\n",
       "      <th>LOCDmean</th>\n",
       "      <th>LOCDmin</th>\n",
       "      <th>LOCDmax</th>\n",
       "      <th>Citymean</th>\n",
       "      <th>Citymin</th>\n",
       "      <th>Citymax</th>\n",
       "      <th>Citystdev</th>\n",
       "    </tr>\n",
       "  </thead>\n",
       "  <tbody>\n",
       "    <tr>\n",
       "      <th>0</th>\n",
       "      <td>General Medicine</td>\n",
       "      <td>-999.0</td>\n",
       "      <td>True</td>\n",
       "      <td>35.0</td>\n",
       "      <td>Ghatkopar East</td>\n",
       "      <td>Mumbai</td>\n",
       "      <td>0</td>\n",
       "      <td>0</td>\n",
       "      <td>0</td>\n",
       "      <td>0</td>\n",
       "      <td>...</td>\n",
       "      <td>0</td>\n",
       "      <td>False</td>\n",
       "      <td>False</td>\n",
       "      <td>333.684211</td>\n",
       "      <td>50</td>\n",
       "      <td>800</td>\n",
       "      <td>308.292863</td>\n",
       "      <td>10</td>\n",
       "      <td>920</td>\n",
       "      <td>234.584964</td>\n",
       "    </tr>\n",
       "    <tr>\n",
       "      <th>1</th>\n",
       "      <td>ENT Specialist</td>\n",
       "      <td>-999.0</td>\n",
       "      <td>True</td>\n",
       "      <td>31.0</td>\n",
       "      <td>West Marredpally</td>\n",
       "      <td>Hyderabad</td>\n",
       "      <td>0</td>\n",
       "      <td>0</td>\n",
       "      <td>0</td>\n",
       "      <td>0</td>\n",
       "      <td>...</td>\n",
       "      <td>0</td>\n",
       "      <td>False</td>\n",
       "      <td>False</td>\n",
       "      <td>361.111111</td>\n",
       "      <td>150</td>\n",
       "      <td>500</td>\n",
       "      <td>307.507886</td>\n",
       "      <td>20</td>\n",
       "      <td>800</td>\n",
       "      <td>152.340317</td>\n",
       "    </tr>\n",
       "    <tr>\n",
       "      <th>2</th>\n",
       "      <td>Dermatologists</td>\n",
       "      <td>70.0</td>\n",
       "      <td>False</td>\n",
       "      <td>40.0</td>\n",
       "      <td>KK Nagar</td>\n",
       "      <td>Chennai</td>\n",
       "      <td>0</td>\n",
       "      <td>0</td>\n",
       "      <td>0</td>\n",
       "      <td>0</td>\n",
       "      <td>...</td>\n",
       "      <td>0</td>\n",
       "      <td>False</td>\n",
       "      <td>False</td>\n",
       "      <td>271.428571</td>\n",
       "      <td>100</td>\n",
       "      <td>500</td>\n",
       "      <td>283.602339</td>\n",
       "      <td>50</td>\n",
       "      <td>950</td>\n",
       "      <td>167.797081</td>\n",
       "    </tr>\n",
       "    <tr>\n",
       "      <th>3</th>\n",
       "      <td>Ayurveda</td>\n",
       "      <td>-999.0</td>\n",
       "      <td>True</td>\n",
       "      <td>0.0</td>\n",
       "      <td>New Ashok Nagar</td>\n",
       "      <td>Delhi</td>\n",
       "      <td>0</td>\n",
       "      <td>0</td>\n",
       "      <td>0</td>\n",
       "      <td>1</td>\n",
       "      <td>...</td>\n",
       "      <td>0</td>\n",
       "      <td>False</td>\n",
       "      <td>False</td>\n",
       "      <td>233.333333</td>\n",
       "      <td>100</td>\n",
       "      <td>300</td>\n",
       "      <td>363.006757</td>\n",
       "      <td>50</td>\n",
       "      <td>900</td>\n",
       "      <td>212.523175</td>\n",
       "    </tr>\n",
       "    <tr>\n",
       "      <th>4</th>\n",
       "      <td>Dentist</td>\n",
       "      <td>100.0</td>\n",
       "      <td>False</td>\n",
       "      <td>16.0</td>\n",
       "      <td>Kanakpura Road</td>\n",
       "      <td>Bangalore</td>\n",
       "      <td>0</td>\n",
       "      <td>0</td>\n",
       "      <td>0</td>\n",
       "      <td>0</td>\n",
       "      <td>...</td>\n",
       "      <td>0</td>\n",
       "      <td>False</td>\n",
       "      <td>False</td>\n",
       "      <td>345.000000</td>\n",
       "      <td>250</td>\n",
       "      <td>500</td>\n",
       "      <td>328.842607</td>\n",
       "      <td>30</td>\n",
       "      <td>900</td>\n",
       "      <td>159.136744</td>\n",
       "    </tr>\n",
       "  </tbody>\n",
       "</table>\n",
       "<p>5 rows × 265 columns</p>\n",
       "</div>"
      ],
      "text/plain": [
       "                  4      6      7     8                 9         10  11  12  \\\n",
       "0  General Medicine -999.0   True  35.0    Ghatkopar East     Mumbai   0   0   \n",
       "1    ENT Specialist -999.0   True  31.0  West Marredpally  Hyderabad   0   0   \n",
       "2    Dermatologists   70.0  False  40.0          KK Nagar    Chennai   0   0   \n",
       "3          Ayurveda -999.0   True   0.0   New Ashok Nagar      Delhi   0   0   \n",
       "4           Dentist  100.0  False  16.0    Kanakpura Road  Bangalore   0   0   \n",
       "\n",
       "   13  14     ...      260  LocationNA  CityNA    LOCDmean  LOCDmin  LOCDmax  \\\n",
       "0   0   0     ...        0       False   False  333.684211       50      800   \n",
       "1   0   0     ...        0       False   False  361.111111      150      500   \n",
       "2   0   0     ...        0       False   False  271.428571      100      500   \n",
       "3   0   1     ...        0       False   False  233.333333      100      300   \n",
       "4   0   0     ...        0       False   False  345.000000      250      500   \n",
       "\n",
       "     Citymean  Citymin  Citymax   Citystdev  \n",
       "0  308.292863       10      920  234.584964  \n",
       "1  307.507886       20      800  152.340317  \n",
       "2  283.602339       50      950  167.797081  \n",
       "3  363.006757       50      900  212.523175  \n",
       "4  328.842607       30      900  159.136744  \n",
       "\n",
       "[5 rows x 265 columns]"
      ]
     },
     "execution_count": 112,
     "metadata": {},
     "output_type": "execute_result"
    }
   ],
   "source": [
    "df1.head()"
   ]
  },
  {
   "cell_type": "code",
   "execution_count": 113,
   "metadata": {
    "_uuid": "da1eb8ef84868627c4f3f4719174b7eed693b3cd"
   },
   "outputs": [],
   "source": [
    "df[\"ProfLoc\"]=df[4].astype(str) + \"_\" + df[10].astype(str)\n",
    "df1[\"ProfLoc\"]=df1[4].astype(str) + \"_\" + df1[9].astype(str)"
   ]
  },
  {
   "cell_type": "code",
   "execution_count": 114,
   "metadata": {
    "_uuid": "dff0fa2e65a328bda1917f4e26913f658e3acc06"
   },
   "outputs": [],
   "source": [
    "groupbyprofloc=df.groupby('ProfLoc')[6].mean()\n",
    "df['PLocmean']=df['ProfLoc'].map(groupbyprofloc)\n",
    "df1['PLocmean']=df1['ProfLoc'].map(groupbyprofloc)"
   ]
  },
  {
   "cell_type": "code",
   "execution_count": 115,
   "metadata": {
    "_uuid": "c777dee88c5f781e9e9760517a200bbcfa59dbbc"
   },
   "outputs": [
    {
     "data": {
      "text/plain": [
       "0"
      ]
     },
     "execution_count": 115,
     "metadata": {},
     "output_type": "execute_result"
    }
   ],
   "source": [
    "df1['ProfLoc'].isnull().sum()"
   ]
  },
  {
   "cell_type": "code",
   "execution_count": 116,
   "metadata": {
    "_uuid": "1d2d932df0a2fd93c874f8007a7391b445854328"
   },
   "outputs": [
    {
     "data": {
      "text/html": [
       "<div>\n",
       "<style scoped>\n",
       "    .dataframe tbody tr th:only-of-type {\n",
       "        vertical-align: middle;\n",
       "    }\n",
       "\n",
       "    .dataframe tbody tr th {\n",
       "        vertical-align: top;\n",
       "    }\n",
       "\n",
       "    .dataframe thead th {\n",
       "        text-align: right;\n",
       "    }\n",
       "</style>\n",
       "<table border=\"1\" class=\"dataframe\">\n",
       "  <thead>\n",
       "    <tr style=\"text-align: right;\">\n",
       "      <th></th>\n",
       "      <th>4</th>\n",
       "      <th>6</th>\n",
       "      <th>7</th>\n",
       "      <th>8</th>\n",
       "      <th>9</th>\n",
       "      <th>10</th>\n",
       "      <th>11</th>\n",
       "      <th>12</th>\n",
       "      <th>13</th>\n",
       "      <th>14</th>\n",
       "      <th>...</th>\n",
       "      <th>CityNA</th>\n",
       "      <th>LOCDmean</th>\n",
       "      <th>LOCDmin</th>\n",
       "      <th>LOCDmax</th>\n",
       "      <th>Citymean</th>\n",
       "      <th>Citymin</th>\n",
       "      <th>Citymax</th>\n",
       "      <th>Citystdev</th>\n",
       "      <th>ProfLoc</th>\n",
       "      <th>PLocmean</th>\n",
       "    </tr>\n",
       "  </thead>\n",
       "  <tbody>\n",
       "    <tr>\n",
       "      <th>2</th>\n",
       "      <td>Dermatologists</td>\n",
       "      <td>70.0</td>\n",
       "      <td>False</td>\n",
       "      <td>40.0</td>\n",
       "      <td>KK Nagar</td>\n",
       "      <td>Chennai</td>\n",
       "      <td>0</td>\n",
       "      <td>0</td>\n",
       "      <td>0</td>\n",
       "      <td>0</td>\n",
       "      <td>...</td>\n",
       "      <td>False</td>\n",
       "      <td>271.428571</td>\n",
       "      <td>100</td>\n",
       "      <td>500</td>\n",
       "      <td>283.602339</td>\n",
       "      <td>50</td>\n",
       "      <td>950</td>\n",
       "      <td>167.797081</td>\n",
       "      <td>Dermatologists_KK Nagar</td>\n",
       "      <td>NaN</td>\n",
       "    </tr>\n",
       "    <tr>\n",
       "      <th>3</th>\n",
       "      <td>Ayurveda</td>\n",
       "      <td>-999.0</td>\n",
       "      <td>True</td>\n",
       "      <td>0.0</td>\n",
       "      <td>New Ashok Nagar</td>\n",
       "      <td>Delhi</td>\n",
       "      <td>0</td>\n",
       "      <td>0</td>\n",
       "      <td>0</td>\n",
       "      <td>1</td>\n",
       "      <td>...</td>\n",
       "      <td>False</td>\n",
       "      <td>233.333333</td>\n",
       "      <td>100</td>\n",
       "      <td>300</td>\n",
       "      <td>363.006757</td>\n",
       "      <td>50</td>\n",
       "      <td>900</td>\n",
       "      <td>212.523175</td>\n",
       "      <td>Ayurveda_New Ashok Nagar</td>\n",
       "      <td>NaN</td>\n",
       "    </tr>\n",
       "    <tr>\n",
       "      <th>10</th>\n",
       "      <td>Dentist</td>\n",
       "      <td>100.0</td>\n",
       "      <td>False</td>\n",
       "      <td>4.0</td>\n",
       "      <td>Erragadda</td>\n",
       "      <td>Hyderabad</td>\n",
       "      <td>0</td>\n",
       "      <td>0</td>\n",
       "      <td>0</td>\n",
       "      <td>0</td>\n",
       "      <td>...</td>\n",
       "      <td>False</td>\n",
       "      <td>358.333333</td>\n",
       "      <td>100</td>\n",
       "      <td>500</td>\n",
       "      <td>307.507886</td>\n",
       "      <td>20</td>\n",
       "      <td>800</td>\n",
       "      <td>152.340317</td>\n",
       "      <td>Dentist_Erragadda</td>\n",
       "      <td>NaN</td>\n",
       "    </tr>\n",
       "    <tr>\n",
       "      <th>14</th>\n",
       "      <td>ENT Specialist</td>\n",
       "      <td>-999.0</td>\n",
       "      <td>True</td>\n",
       "      <td>4.0</td>\n",
       "      <td>Madandapuram</td>\n",
       "      <td>Chennai</td>\n",
       "      <td>0</td>\n",
       "      <td>0</td>\n",
       "      <td>0</td>\n",
       "      <td>0</td>\n",
       "      <td>...</td>\n",
       "      <td>False</td>\n",
       "      <td>200.000000</td>\n",
       "      <td>200</td>\n",
       "      <td>200</td>\n",
       "      <td>283.602339</td>\n",
       "      <td>50</td>\n",
       "      <td>950</td>\n",
       "      <td>167.797081</td>\n",
       "      <td>ENT Specialist_Madandapuram</td>\n",
       "      <td>NaN</td>\n",
       "    </tr>\n",
       "    <tr>\n",
       "      <th>16</th>\n",
       "      <td>Dermatologists</td>\n",
       "      <td>87.0</td>\n",
       "      <td>False</td>\n",
       "      <td>16.0</td>\n",
       "      <td>Tis Hazari</td>\n",
       "      <td>Delhi</td>\n",
       "      <td>0</td>\n",
       "      <td>0</td>\n",
       "      <td>0</td>\n",
       "      <td>0</td>\n",
       "      <td>...</td>\n",
       "      <td>False</td>\n",
       "      <td>550.000000</td>\n",
       "      <td>550</td>\n",
       "      <td>550</td>\n",
       "      <td>363.006757</td>\n",
       "      <td>50</td>\n",
       "      <td>900</td>\n",
       "      <td>212.523175</td>\n",
       "      <td>Dermatologists_Tis Hazari</td>\n",
       "      <td>NaN</td>\n",
       "    </tr>\n",
       "    <tr>\n",
       "      <th>20</th>\n",
       "      <td>Homeopath</td>\n",
       "      <td>-999.0</td>\n",
       "      <td>True</td>\n",
       "      <td>11.0</td>\n",
       "      <td>Dadar</td>\n",
       "      <td>Mumbai</td>\n",
       "      <td>0</td>\n",
       "      <td>1</td>\n",
       "      <td>0</td>\n",
       "      <td>0</td>\n",
       "      <td>...</td>\n",
       "      <td>False</td>\n",
       "      <td>480.000000</td>\n",
       "      <td>100</td>\n",
       "      <td>800</td>\n",
       "      <td>308.292863</td>\n",
       "      <td>10</td>\n",
       "      <td>920</td>\n",
       "      <td>234.584964</td>\n",
       "      <td>Homeopath_Dadar</td>\n",
       "      <td>NaN</td>\n",
       "    </tr>\n",
       "    <tr>\n",
       "      <th>31</th>\n",
       "      <td>Ayurveda</td>\n",
       "      <td>100.0</td>\n",
       "      <td>False</td>\n",
       "      <td>36.0</td>\n",
       "      <td>Chandni Chowk</td>\n",
       "      <td>Delhi</td>\n",
       "      <td>0</td>\n",
       "      <td>0</td>\n",
       "      <td>0</td>\n",
       "      <td>1</td>\n",
       "      <td>...</td>\n",
       "      <td>False</td>\n",
       "      <td>250.000000</td>\n",
       "      <td>250</td>\n",
       "      <td>250</td>\n",
       "      <td>363.006757</td>\n",
       "      <td>50</td>\n",
       "      <td>900</td>\n",
       "      <td>212.523175</td>\n",
       "      <td>Ayurveda_Chandni Chowk</td>\n",
       "      <td>NaN</td>\n",
       "    </tr>\n",
       "    <tr>\n",
       "      <th>33</th>\n",
       "      <td>ENT Specialist</td>\n",
       "      <td>95.0</td>\n",
       "      <td>False</td>\n",
       "      <td>17.0</td>\n",
       "      <td>Sakinaka</td>\n",
       "      <td>Mumbai</td>\n",
       "      <td>0</td>\n",
       "      <td>0</td>\n",
       "      <td>0</td>\n",
       "      <td>0</td>\n",
       "      <td>...</td>\n",
       "      <td>False</td>\n",
       "      <td>124.444444</td>\n",
       "      <td>50</td>\n",
       "      <td>500</td>\n",
       "      <td>308.292863</td>\n",
       "      <td>10</td>\n",
       "      <td>920</td>\n",
       "      <td>234.584964</td>\n",
       "      <td>ENT Specialist_Sakinaka</td>\n",
       "      <td>NaN</td>\n",
       "    </tr>\n",
       "    <tr>\n",
       "      <th>36</th>\n",
       "      <td>Homeopath</td>\n",
       "      <td>-999.0</td>\n",
       "      <td>True</td>\n",
       "      <td>8.0</td>\n",
       "      <td>Kolathur</td>\n",
       "      <td>Chennai</td>\n",
       "      <td>0</td>\n",
       "      <td>0</td>\n",
       "      <td>0</td>\n",
       "      <td>0</td>\n",
       "      <td>...</td>\n",
       "      <td>False</td>\n",
       "      <td>184.615385</td>\n",
       "      <td>50</td>\n",
       "      <td>300</td>\n",
       "      <td>283.602339</td>\n",
       "      <td>50</td>\n",
       "      <td>950</td>\n",
       "      <td>167.797081</td>\n",
       "      <td>Homeopath_Kolathur</td>\n",
       "      <td>NaN</td>\n",
       "    </tr>\n",
       "    <tr>\n",
       "      <th>41</th>\n",
       "      <td>Ayurveda</td>\n",
       "      <td>-999.0</td>\n",
       "      <td>True</td>\n",
       "      <td>18.0</td>\n",
       "      <td>LB Nagar</td>\n",
       "      <td>Hyderabad</td>\n",
       "      <td>0</td>\n",
       "      <td>0</td>\n",
       "      <td>1</td>\n",
       "      <td>1</td>\n",
       "      <td>...</td>\n",
       "      <td>False</td>\n",
       "      <td>275.000000</td>\n",
       "      <td>200</td>\n",
       "      <td>500</td>\n",
       "      <td>307.507886</td>\n",
       "      <td>20</td>\n",
       "      <td>800</td>\n",
       "      <td>152.340317</td>\n",
       "      <td>Ayurveda_LB Nagar</td>\n",
       "      <td>NaN</td>\n",
       "    </tr>\n",
       "    <tr>\n",
       "      <th>42</th>\n",
       "      <td>Ayurveda</td>\n",
       "      <td>-999.0</td>\n",
       "      <td>True</td>\n",
       "      <td>18.0</td>\n",
       "      <td>Jayanagar 4 Block</td>\n",
       "      <td>Bangalore</td>\n",
       "      <td>0</td>\n",
       "      <td>0</td>\n",
       "      <td>0</td>\n",
       "      <td>1</td>\n",
       "      <td>...</td>\n",
       "      <td>False</td>\n",
       "      <td>364.285714</td>\n",
       "      <td>100</td>\n",
       "      <td>750</td>\n",
       "      <td>328.842607</td>\n",
       "      <td>30</td>\n",
       "      <td>900</td>\n",
       "      <td>159.136744</td>\n",
       "      <td>Ayurveda_Jayanagar 4 Block</td>\n",
       "      <td>NaN</td>\n",
       "    </tr>\n",
       "    <tr>\n",
       "      <th>45</th>\n",
       "      <td>Homeopath</td>\n",
       "      <td>-999.0</td>\n",
       "      <td>True</td>\n",
       "      <td>29.0</td>\n",
       "      <td>Ganesh Nagar</td>\n",
       "      <td>Delhi</td>\n",
       "      <td>0</td>\n",
       "      <td>0</td>\n",
       "      <td>0</td>\n",
       "      <td>0</td>\n",
       "      <td>...</td>\n",
       "      <td>False</td>\n",
       "      <td>275.000000</td>\n",
       "      <td>50</td>\n",
       "      <td>500</td>\n",
       "      <td>363.006757</td>\n",
       "      <td>50</td>\n",
       "      <td>900</td>\n",
       "      <td>212.523175</td>\n",
       "      <td>Homeopath_Ganesh Nagar</td>\n",
       "      <td>NaN</td>\n",
       "    </tr>\n",
       "    <tr>\n",
       "      <th>49</th>\n",
       "      <td>Homeopath</td>\n",
       "      <td>-999.0</td>\n",
       "      <td>True</td>\n",
       "      <td>9.0</td>\n",
       "      <td>Thanisandra</td>\n",
       "      <td>Bangalore</td>\n",
       "      <td>0</td>\n",
       "      <td>0</td>\n",
       "      <td>0</td>\n",
       "      <td>0</td>\n",
       "      <td>...</td>\n",
       "      <td>False</td>\n",
       "      <td>300.000000</td>\n",
       "      <td>300</td>\n",
       "      <td>300</td>\n",
       "      <td>328.842607</td>\n",
       "      <td>30</td>\n",
       "      <td>900</td>\n",
       "      <td>159.136744</td>\n",
       "      <td>Homeopath_Thanisandra</td>\n",
       "      <td>NaN</td>\n",
       "    </tr>\n",
       "    <tr>\n",
       "      <th>50</th>\n",
       "      <td>Dentist</td>\n",
       "      <td>100.0</td>\n",
       "      <td>False</td>\n",
       "      <td>19.0</td>\n",
       "      <td>Gulmohar Park</td>\n",
       "      <td>Delhi</td>\n",
       "      <td>0</td>\n",
       "      <td>0</td>\n",
       "      <td>0</td>\n",
       "      <td>0</td>\n",
       "      <td>...</td>\n",
       "      <td>False</td>\n",
       "      <td>100.000000</td>\n",
       "      <td>100</td>\n",
       "      <td>100</td>\n",
       "      <td>363.006757</td>\n",
       "      <td>50</td>\n",
       "      <td>900</td>\n",
       "      <td>212.523175</td>\n",
       "      <td>Dentist_Gulmohar Park</td>\n",
       "      <td>NaN</td>\n",
       "    </tr>\n",
       "    <tr>\n",
       "      <th>58</th>\n",
       "      <td>Ayurveda</td>\n",
       "      <td>93.0</td>\n",
       "      <td>False</td>\n",
       "      <td>30.0</td>\n",
       "      <td>Aluva</td>\n",
       "      <td>Ernakulam</td>\n",
       "      <td>0</td>\n",
       "      <td>0</td>\n",
       "      <td>0</td>\n",
       "      <td>1</td>\n",
       "      <td>...</td>\n",
       "      <td>False</td>\n",
       "      <td>200.000000</td>\n",
       "      <td>100</td>\n",
       "      <td>300</td>\n",
       "      <td>188.431373</td>\n",
       "      <td>10</td>\n",
       "      <td>600</td>\n",
       "      <td>111.474080</td>\n",
       "      <td>Ayurveda_Aluva</td>\n",
       "      <td>NaN</td>\n",
       "    </tr>\n",
       "    <tr>\n",
       "      <th>67</th>\n",
       "      <td>General Medicine</td>\n",
       "      <td>95.0</td>\n",
       "      <td>False</td>\n",
       "      <td>18.0</td>\n",
       "      <td>Ashok Vihar</td>\n",
       "      <td>Delhi</td>\n",
       "      <td>0</td>\n",
       "      <td>0</td>\n",
       "      <td>0</td>\n",
       "      <td>0</td>\n",
       "      <td>...</td>\n",
       "      <td>False</td>\n",
       "      <td>385.714286</td>\n",
       "      <td>200</td>\n",
       "      <td>500</td>\n",
       "      <td>363.006757</td>\n",
       "      <td>50</td>\n",
       "      <td>900</td>\n",
       "      <td>212.523175</td>\n",
       "      <td>General Medicine_Ashok Vihar</td>\n",
       "      <td>NaN</td>\n",
       "    </tr>\n",
       "    <tr>\n",
       "      <th>83</th>\n",
       "      <td>Dentist</td>\n",
       "      <td>100.0</td>\n",
       "      <td>False</td>\n",
       "      <td>8.0</td>\n",
       "      <td>Balkampet</td>\n",
       "      <td>Hyderabad</td>\n",
       "      <td>0</td>\n",
       "      <td>0</td>\n",
       "      <td>0</td>\n",
       "      <td>0</td>\n",
       "      <td>...</td>\n",
       "      <td>False</td>\n",
       "      <td>400.000000</td>\n",
       "      <td>300</td>\n",
       "      <td>500</td>\n",
       "      <td>307.507886</td>\n",
       "      <td>20</td>\n",
       "      <td>800</td>\n",
       "      <td>152.340317</td>\n",
       "      <td>Dentist_Balkampet</td>\n",
       "      <td>NaN</td>\n",
       "    </tr>\n",
       "    <tr>\n",
       "      <th>88</th>\n",
       "      <td>Ayurveda</td>\n",
       "      <td>-999.0</td>\n",
       "      <td>True</td>\n",
       "      <td>27.0</td>\n",
       "      <td>Badarpur</td>\n",
       "      <td>Delhi</td>\n",
       "      <td>0</td>\n",
       "      <td>0</td>\n",
       "      <td>0</td>\n",
       "      <td>1</td>\n",
       "      <td>...</td>\n",
       "      <td>False</td>\n",
       "      <td>200.000000</td>\n",
       "      <td>200</td>\n",
       "      <td>200</td>\n",
       "      <td>363.006757</td>\n",
       "      <td>50</td>\n",
       "      <td>900</td>\n",
       "      <td>212.523175</td>\n",
       "      <td>Ayurveda_Badarpur</td>\n",
       "      <td>NaN</td>\n",
       "    </tr>\n",
       "    <tr>\n",
       "      <th>89</th>\n",
       "      <td>General Medicine</td>\n",
       "      <td>-999.0</td>\n",
       "      <td>True</td>\n",
       "      <td>16.0</td>\n",
       "      <td>Navalur</td>\n",
       "      <td>Chennai</td>\n",
       "      <td>0</td>\n",
       "      <td>0</td>\n",
       "      <td>0</td>\n",
       "      <td>0</td>\n",
       "      <td>...</td>\n",
       "      <td>False</td>\n",
       "      <td>400.000000</td>\n",
       "      <td>400</td>\n",
       "      <td>400</td>\n",
       "      <td>283.602339</td>\n",
       "      <td>50</td>\n",
       "      <td>950</td>\n",
       "      <td>167.797081</td>\n",
       "      <td>General Medicine_Navalur</td>\n",
       "      <td>NaN</td>\n",
       "    </tr>\n",
       "    <tr>\n",
       "      <th>94</th>\n",
       "      <td>Homeopath</td>\n",
       "      <td>-999.0</td>\n",
       "      <td>True</td>\n",
       "      <td>5.0</td>\n",
       "      <td>Badarpur</td>\n",
       "      <td>Delhi</td>\n",
       "      <td>0</td>\n",
       "      <td>0</td>\n",
       "      <td>0</td>\n",
       "      <td>0</td>\n",
       "      <td>...</td>\n",
       "      <td>False</td>\n",
       "      <td>200.000000</td>\n",
       "      <td>200</td>\n",
       "      <td>200</td>\n",
       "      <td>363.006757</td>\n",
       "      <td>50</td>\n",
       "      <td>900</td>\n",
       "      <td>212.523175</td>\n",
       "      <td>Homeopath_Badarpur</td>\n",
       "      <td>NaN</td>\n",
       "    </tr>\n",
       "    <tr>\n",
       "      <th>97</th>\n",
       "      <td>Homeopath</td>\n",
       "      <td>-999.0</td>\n",
       "      <td>True</td>\n",
       "      <td>6.0</td>\n",
       "      <td>Peddar Road</td>\n",
       "      <td>Mumbai</td>\n",
       "      <td>0</td>\n",
       "      <td>0</td>\n",
       "      <td>0</td>\n",
       "      <td>0</td>\n",
       "      <td>...</td>\n",
       "      <td>False</td>\n",
       "      <td>260.000000</td>\n",
       "      <td>100</td>\n",
       "      <td>500</td>\n",
       "      <td>308.292863</td>\n",
       "      <td>10</td>\n",
       "      <td>920</td>\n",
       "      <td>234.584964</td>\n",
       "      <td>Homeopath_Peddar Road</td>\n",
       "      <td>NaN</td>\n",
       "    </tr>\n",
       "    <tr>\n",
       "      <th>107</th>\n",
       "      <td>General Medicine</td>\n",
       "      <td>97.0</td>\n",
       "      <td>False</td>\n",
       "      <td>24.0</td>\n",
       "      <td>Miyapur</td>\n",
       "      <td>Hyderabad</td>\n",
       "      <td>0</td>\n",
       "      <td>0</td>\n",
       "      <td>0</td>\n",
       "      <td>0</td>\n",
       "      <td>...</td>\n",
       "      <td>False</td>\n",
       "      <td>246.153846</td>\n",
       "      <td>100</td>\n",
       "      <td>500</td>\n",
       "      <td>307.507886</td>\n",
       "      <td>20</td>\n",
       "      <td>800</td>\n",
       "      <td>152.340317</td>\n",
       "      <td>General Medicine_Miyapur</td>\n",
       "      <td>NaN</td>\n",
       "    </tr>\n",
       "    <tr>\n",
       "      <th>124</th>\n",
       "      <td>ENT Specialist</td>\n",
       "      <td>-999.0</td>\n",
       "      <td>True</td>\n",
       "      <td>11.0</td>\n",
       "      <td>Horamavu</td>\n",
       "      <td>Bangalore</td>\n",
       "      <td>0</td>\n",
       "      <td>0</td>\n",
       "      <td>0</td>\n",
       "      <td>0</td>\n",
       "      <td>...</td>\n",
       "      <td>False</td>\n",
       "      <td>380.000000</td>\n",
       "      <td>200</td>\n",
       "      <td>600</td>\n",
       "      <td>328.842607</td>\n",
       "      <td>30</td>\n",
       "      <td>900</td>\n",
       "      <td>159.136744</td>\n",
       "      <td>ENT Specialist_Horamavu</td>\n",
       "      <td>NaN</td>\n",
       "    </tr>\n",
       "    <tr>\n",
       "      <th>127</th>\n",
       "      <td>General Medicine</td>\n",
       "      <td>99.0</td>\n",
       "      <td>False</td>\n",
       "      <td>16.0</td>\n",
       "      <td>Dwarka Sector 6</td>\n",
       "      <td>Delhi</td>\n",
       "      <td>0</td>\n",
       "      <td>0</td>\n",
       "      <td>0</td>\n",
       "      <td>0</td>\n",
       "      <td>...</td>\n",
       "      <td>False</td>\n",
       "      <td>566.666667</td>\n",
       "      <td>300</td>\n",
       "      <td>700</td>\n",
       "      <td>363.006757</td>\n",
       "      <td>50</td>\n",
       "      <td>900</td>\n",
       "      <td>212.523175</td>\n",
       "      <td>General Medicine_Dwarka Sector 6</td>\n",
       "      <td>NaN</td>\n",
       "    </tr>\n",
       "    <tr>\n",
       "      <th>128</th>\n",
       "      <td>General Medicine</td>\n",
       "      <td>-999.0</td>\n",
       "      <td>True</td>\n",
       "      <td>38.0</td>\n",
       "      <td>Peeragarhi</td>\n",
       "      <td>Delhi</td>\n",
       "      <td>0</td>\n",
       "      <td>0</td>\n",
       "      <td>0</td>\n",
       "      <td>0</td>\n",
       "      <td>...</td>\n",
       "      <td>False</td>\n",
       "      <td>400.000000</td>\n",
       "      <td>400</td>\n",
       "      <td>400</td>\n",
       "      <td>363.006757</td>\n",
       "      <td>50</td>\n",
       "      <td>900</td>\n",
       "      <td>212.523175</td>\n",
       "      <td>General Medicine_Peeragarhi</td>\n",
       "      <td>NaN</td>\n",
       "    </tr>\n",
       "    <tr>\n",
       "      <th>129</th>\n",
       "      <td>General Medicine</td>\n",
       "      <td>-999.0</td>\n",
       "      <td>True</td>\n",
       "      <td>19.0</td>\n",
       "      <td>Himayat Nagar</td>\n",
       "      <td>Hyderabad</td>\n",
       "      <td>0</td>\n",
       "      <td>0</td>\n",
       "      <td>0</td>\n",
       "      <td>0</td>\n",
       "      <td>...</td>\n",
       "      <td>False</td>\n",
       "      <td>395.833333</td>\n",
       "      <td>300</td>\n",
       "      <td>500</td>\n",
       "      <td>307.507886</td>\n",
       "      <td>20</td>\n",
       "      <td>800</td>\n",
       "      <td>152.340317</td>\n",
       "      <td>General Medicine_Himayat Nagar</td>\n",
       "      <td>NaN</td>\n",
       "    </tr>\n",
       "    <tr>\n",
       "      <th>144</th>\n",
       "      <td>Dentist</td>\n",
       "      <td>88.0</td>\n",
       "      <td>False</td>\n",
       "      <td>12.0</td>\n",
       "      <td>Nangloi</td>\n",
       "      <td>Delhi</td>\n",
       "      <td>0</td>\n",
       "      <td>0</td>\n",
       "      <td>0</td>\n",
       "      <td>0</td>\n",
       "      <td>...</td>\n",
       "      <td>False</td>\n",
       "      <td>300.000000</td>\n",
       "      <td>300</td>\n",
       "      <td>300</td>\n",
       "      <td>363.006757</td>\n",
       "      <td>50</td>\n",
       "      <td>900</td>\n",
       "      <td>212.523175</td>\n",
       "      <td>Dentist_Nangloi</td>\n",
       "      <td>NaN</td>\n",
       "    </tr>\n",
       "    <tr>\n",
       "      <th>154</th>\n",
       "      <td>Homeopath</td>\n",
       "      <td>-999.0</td>\n",
       "      <td>True</td>\n",
       "      <td>12.0</td>\n",
       "      <td>Ganapathy</td>\n",
       "      <td>Coimbatore</td>\n",
       "      <td>0</td>\n",
       "      <td>0</td>\n",
       "      <td>0</td>\n",
       "      <td>0</td>\n",
       "      <td>...</td>\n",
       "      <td>False</td>\n",
       "      <td>127.058824</td>\n",
       "      <td>50</td>\n",
       "      <td>200</td>\n",
       "      <td>154.298246</td>\n",
       "      <td>50</td>\n",
       "      <td>700</td>\n",
       "      <td>77.339794</td>\n",
       "      <td>Homeopath_Ganapathy</td>\n",
       "      <td>NaN</td>\n",
       "    </tr>\n",
       "    <tr>\n",
       "      <th>161</th>\n",
       "      <td>Dentist</td>\n",
       "      <td>-999.0</td>\n",
       "      <td>True</td>\n",
       "      <td>9.0</td>\n",
       "      <td>Churchgate</td>\n",
       "      <td>Mumbai</td>\n",
       "      <td>0</td>\n",
       "      <td>0</td>\n",
       "      <td>0</td>\n",
       "      <td>0</td>\n",
       "      <td>...</td>\n",
       "      <td>False</td>\n",
       "      <td>100.000000</td>\n",
       "      <td>100</td>\n",
       "      <td>100</td>\n",
       "      <td>308.292863</td>\n",
       "      <td>10</td>\n",
       "      <td>920</td>\n",
       "      <td>234.584964</td>\n",
       "      <td>Dentist_Churchgate</td>\n",
       "      <td>NaN</td>\n",
       "    </tr>\n",
       "    <tr>\n",
       "      <th>170</th>\n",
       "      <td>Dermatologists</td>\n",
       "      <td>97.0</td>\n",
       "      <td>False</td>\n",
       "      <td>9.0</td>\n",
       "      <td>Borivali East</td>\n",
       "      <td>Mumbai</td>\n",
       "      <td>0</td>\n",
       "      <td>0</td>\n",
       "      <td>0</td>\n",
       "      <td>0</td>\n",
       "      <td>...</td>\n",
       "      <td>False</td>\n",
       "      <td>280.000000</td>\n",
       "      <td>60</td>\n",
       "      <td>750</td>\n",
       "      <td>308.292863</td>\n",
       "      <td>10</td>\n",
       "      <td>920</td>\n",
       "      <td>234.584964</td>\n",
       "      <td>Dermatologists_Borivali East</td>\n",
       "      <td>NaN</td>\n",
       "    </tr>\n",
       "    <tr>\n",
       "      <th>...</th>\n",
       "      <td>...</td>\n",
       "      <td>...</td>\n",
       "      <td>...</td>\n",
       "      <td>...</td>\n",
       "      <td>...</td>\n",
       "      <td>...</td>\n",
       "      <td>...</td>\n",
       "      <td>...</td>\n",
       "      <td>...</td>\n",
       "      <td>...</td>\n",
       "      <td>...</td>\n",
       "      <td>...</td>\n",
       "      <td>...</td>\n",
       "      <td>...</td>\n",
       "      <td>...</td>\n",
       "      <td>...</td>\n",
       "      <td>...</td>\n",
       "      <td>...</td>\n",
       "      <td>...</td>\n",
       "      <td>...</td>\n",
       "      <td>...</td>\n",
       "    </tr>\n",
       "    <tr>\n",
       "      <th>1813</th>\n",
       "      <td>General Medicine</td>\n",
       "      <td>93.0</td>\n",
       "      <td>False</td>\n",
       "      <td>30.0</td>\n",
       "      <td>Virugambakkam</td>\n",
       "      <td>Chennai</td>\n",
       "      <td>0</td>\n",
       "      <td>0</td>\n",
       "      <td>0</td>\n",
       "      <td>0</td>\n",
       "      <td>...</td>\n",
       "      <td>False</td>\n",
       "      <td>250.000000</td>\n",
       "      <td>100</td>\n",
       "      <td>600</td>\n",
       "      <td>283.602339</td>\n",
       "      <td>50</td>\n",
       "      <td>950</td>\n",
       "      <td>167.797081</td>\n",
       "      <td>General Medicine_Virugambakkam</td>\n",
       "      <td>NaN</td>\n",
       "    </tr>\n",
       "    <tr>\n",
       "      <th>1814</th>\n",
       "      <td>ENT Specialist</td>\n",
       "      <td>-999.0</td>\n",
       "      <td>True</td>\n",
       "      <td>8.0</td>\n",
       "      <td>Ramapuram</td>\n",
       "      <td>Chennai</td>\n",
       "      <td>0</td>\n",
       "      <td>0</td>\n",
       "      <td>0</td>\n",
       "      <td>0</td>\n",
       "      <td>...</td>\n",
       "      <td>False</td>\n",
       "      <td>200.000000</td>\n",
       "      <td>200</td>\n",
       "      <td>200</td>\n",
       "      <td>283.602339</td>\n",
       "      <td>50</td>\n",
       "      <td>950</td>\n",
       "      <td>167.797081</td>\n",
       "      <td>ENT Specialist_Ramapuram</td>\n",
       "      <td>NaN</td>\n",
       "    </tr>\n",
       "    <tr>\n",
       "      <th>1821</th>\n",
       "      <td>General Medicine</td>\n",
       "      <td>86.0</td>\n",
       "      <td>False</td>\n",
       "      <td>41.0</td>\n",
       "      <td>Perungalathur</td>\n",
       "      <td>Chennai</td>\n",
       "      <td>0</td>\n",
       "      <td>0</td>\n",
       "      <td>0</td>\n",
       "      <td>0</td>\n",
       "      <td>...</td>\n",
       "      <td>False</td>\n",
       "      <td>200.000000</td>\n",
       "      <td>200</td>\n",
       "      <td>200</td>\n",
       "      <td>283.602339</td>\n",
       "      <td>50</td>\n",
       "      <td>950</td>\n",
       "      <td>167.797081</td>\n",
       "      <td>General Medicine_Perungalathur</td>\n",
       "      <td>NaN</td>\n",
       "    </tr>\n",
       "    <tr>\n",
       "      <th>1823</th>\n",
       "      <td>Ayurveda</td>\n",
       "      <td>-999.0</td>\n",
       "      <td>True</td>\n",
       "      <td>11.0</td>\n",
       "      <td>Kamla Nagar</td>\n",
       "      <td>Delhi</td>\n",
       "      <td>0</td>\n",
       "      <td>0</td>\n",
       "      <td>0</td>\n",
       "      <td>1</td>\n",
       "      <td>...</td>\n",
       "      <td>False</td>\n",
       "      <td>470.000000</td>\n",
       "      <td>200</td>\n",
       "      <td>800</td>\n",
       "      <td>363.006757</td>\n",
       "      <td>50</td>\n",
       "      <td>900</td>\n",
       "      <td>212.523175</td>\n",
       "      <td>Ayurveda_Kamla Nagar</td>\n",
       "      <td>NaN</td>\n",
       "    </tr>\n",
       "    <tr>\n",
       "      <th>1824</th>\n",
       "      <td>Homeopath</td>\n",
       "      <td>94.0</td>\n",
       "      <td>False</td>\n",
       "      <td>25.0</td>\n",
       "      <td>Sion East</td>\n",
       "      <td>Mumbai</td>\n",
       "      <td>0</td>\n",
       "      <td>0</td>\n",
       "      <td>0</td>\n",
       "      <td>0</td>\n",
       "      <td>...</td>\n",
       "      <td>False</td>\n",
       "      <td>233.333333</td>\n",
       "      <td>100</td>\n",
       "      <td>500</td>\n",
       "      <td>308.292863</td>\n",
       "      <td>10</td>\n",
       "      <td>920</td>\n",
       "      <td>234.584964</td>\n",
       "      <td>Homeopath_Sion East</td>\n",
       "      <td>NaN</td>\n",
       "    </tr>\n",
       "    <tr>\n",
       "      <th>1833</th>\n",
       "      <td>Dentist</td>\n",
       "      <td>92.0</td>\n",
       "      <td>False</td>\n",
       "      <td>9.0</td>\n",
       "      <td>Model Town</td>\n",
       "      <td>Delhi</td>\n",
       "      <td>0</td>\n",
       "      <td>0</td>\n",
       "      <td>0</td>\n",
       "      <td>0</td>\n",
       "      <td>...</td>\n",
       "      <td>False</td>\n",
       "      <td>340.000000</td>\n",
       "      <td>100</td>\n",
       "      <td>900</td>\n",
       "      <td>363.006757</td>\n",
       "      <td>50</td>\n",
       "      <td>900</td>\n",
       "      <td>212.523175</td>\n",
       "      <td>Dentist_Model Town</td>\n",
       "      <td>NaN</td>\n",
       "    </tr>\n",
       "    <tr>\n",
       "      <th>1837</th>\n",
       "      <td>Ayurveda</td>\n",
       "      <td>-999.0</td>\n",
       "      <td>True</td>\n",
       "      <td>10.0</td>\n",
       "      <td>Kochi M.G.Road</td>\n",
       "      <td>Ernakulam</td>\n",
       "      <td>0</td>\n",
       "      <td>0</td>\n",
       "      <td>0</td>\n",
       "      <td>1</td>\n",
       "      <td>...</td>\n",
       "      <td>False</td>\n",
       "      <td>150.000000</td>\n",
       "      <td>150</td>\n",
       "      <td>150</td>\n",
       "      <td>188.431373</td>\n",
       "      <td>10</td>\n",
       "      <td>600</td>\n",
       "      <td>111.474080</td>\n",
       "      <td>Ayurveda_Kochi M.G.Road</td>\n",
       "      <td>NaN</td>\n",
       "    </tr>\n",
       "    <tr>\n",
       "      <th>1841</th>\n",
       "      <td>Homeopath</td>\n",
       "      <td>-999.0</td>\n",
       "      <td>True</td>\n",
       "      <td>9.0</td>\n",
       "      <td>Sion East</td>\n",
       "      <td>Mumbai</td>\n",
       "      <td>0</td>\n",
       "      <td>0</td>\n",
       "      <td>0</td>\n",
       "      <td>0</td>\n",
       "      <td>...</td>\n",
       "      <td>False</td>\n",
       "      <td>233.333333</td>\n",
       "      <td>100</td>\n",
       "      <td>500</td>\n",
       "      <td>308.292863</td>\n",
       "      <td>10</td>\n",
       "      <td>920</td>\n",
       "      <td>234.584964</td>\n",
       "      <td>Homeopath_Sion East</td>\n",
       "      <td>NaN</td>\n",
       "    </tr>\n",
       "    <tr>\n",
       "      <th>1845</th>\n",
       "      <td>Dentist</td>\n",
       "      <td>-999.0</td>\n",
       "      <td>True</td>\n",
       "      <td>9.0</td>\n",
       "      <td>Pappanaickenpudur</td>\n",
       "      <td>Coimbatore</td>\n",
       "      <td>0</td>\n",
       "      <td>0</td>\n",
       "      <td>0</td>\n",
       "      <td>0</td>\n",
       "      <td>...</td>\n",
       "      <td>False</td>\n",
       "      <td>150.000000</td>\n",
       "      <td>150</td>\n",
       "      <td>150</td>\n",
       "      <td>154.298246</td>\n",
       "      <td>50</td>\n",
       "      <td>700</td>\n",
       "      <td>77.339794</td>\n",
       "      <td>Dentist_Pappanaickenpudur</td>\n",
       "      <td>NaN</td>\n",
       "    </tr>\n",
       "    <tr>\n",
       "      <th>1846</th>\n",
       "      <td>ENT Specialist</td>\n",
       "      <td>93.0</td>\n",
       "      <td>False</td>\n",
       "      <td>30.0</td>\n",
       "      <td>Hauz Khas</td>\n",
       "      <td>Delhi</td>\n",
       "      <td>0</td>\n",
       "      <td>0</td>\n",
       "      <td>0</td>\n",
       "      <td>0</td>\n",
       "      <td>...</td>\n",
       "      <td>False</td>\n",
       "      <td>428.571429</td>\n",
       "      <td>100</td>\n",
       "      <td>500</td>\n",
       "      <td>363.006757</td>\n",
       "      <td>50</td>\n",
       "      <td>900</td>\n",
       "      <td>212.523175</td>\n",
       "      <td>ENT Specialist_Hauz Khas</td>\n",
       "      <td>NaN</td>\n",
       "    </tr>\n",
       "    <tr>\n",
       "      <th>1847</th>\n",
       "      <td>Dermatologists</td>\n",
       "      <td>94.0</td>\n",
       "      <td>False</td>\n",
       "      <td>14.0</td>\n",
       "      <td>JP Nagar</td>\n",
       "      <td>Bangalore</td>\n",
       "      <td>0</td>\n",
       "      <td>0</td>\n",
       "      <td>0</td>\n",
       "      <td>0</td>\n",
       "      <td>...</td>\n",
       "      <td>False</td>\n",
       "      <td>262.500000</td>\n",
       "      <td>100</td>\n",
       "      <td>500</td>\n",
       "      <td>328.842607</td>\n",
       "      <td>30</td>\n",
       "      <td>900</td>\n",
       "      <td>159.136744</td>\n",
       "      <td>Dermatologists_JP Nagar</td>\n",
       "      <td>NaN</td>\n",
       "    </tr>\n",
       "    <tr>\n",
       "      <th>1859</th>\n",
       "      <td>Homeopath</td>\n",
       "      <td>-999.0</td>\n",
       "      <td>True</td>\n",
       "      <td>12.0</td>\n",
       "      <td>Kadavanthra</td>\n",
       "      <td>Ernakulam</td>\n",
       "      <td>0</td>\n",
       "      <td>0</td>\n",
       "      <td>0</td>\n",
       "      <td>0</td>\n",
       "      <td>...</td>\n",
       "      <td>False</td>\n",
       "      <td>300.000000</td>\n",
       "      <td>150</td>\n",
       "      <td>500</td>\n",
       "      <td>188.431373</td>\n",
       "      <td>10</td>\n",
       "      <td>600</td>\n",
       "      <td>111.474080</td>\n",
       "      <td>Homeopath_Kadavanthra</td>\n",
       "      <td>NaN</td>\n",
       "    </tr>\n",
       "    <tr>\n",
       "      <th>1872</th>\n",
       "      <td>General Medicine</td>\n",
       "      <td>-999.0</td>\n",
       "      <td>True</td>\n",
       "      <td>18.0</td>\n",
       "      <td>Virugambakkam</td>\n",
       "      <td>Chennai</td>\n",
       "      <td>0</td>\n",
       "      <td>0</td>\n",
       "      <td>0</td>\n",
       "      <td>0</td>\n",
       "      <td>...</td>\n",
       "      <td>False</td>\n",
       "      <td>250.000000</td>\n",
       "      <td>100</td>\n",
       "      <td>600</td>\n",
       "      <td>283.602339</td>\n",
       "      <td>50</td>\n",
       "      <td>950</td>\n",
       "      <td>167.797081</td>\n",
       "      <td>General Medicine_Virugambakkam</td>\n",
       "      <td>NaN</td>\n",
       "    </tr>\n",
       "    <tr>\n",
       "      <th>1874</th>\n",
       "      <td>Homeopath</td>\n",
       "      <td>-999.0</td>\n",
       "      <td>True</td>\n",
       "      <td>16.0</td>\n",
       "      <td>Erragadda</td>\n",
       "      <td>Hyderabad</td>\n",
       "      <td>0</td>\n",
       "      <td>0</td>\n",
       "      <td>0</td>\n",
       "      <td>0</td>\n",
       "      <td>...</td>\n",
       "      <td>False</td>\n",
       "      <td>358.333333</td>\n",
       "      <td>100</td>\n",
       "      <td>500</td>\n",
       "      <td>307.507886</td>\n",
       "      <td>20</td>\n",
       "      <td>800</td>\n",
       "      <td>152.340317</td>\n",
       "      <td>Homeopath_Erragadda</td>\n",
       "      <td>NaN</td>\n",
       "    </tr>\n",
       "    <tr>\n",
       "      <th>1875</th>\n",
       "      <td>ENT Specialist</td>\n",
       "      <td>55.0</td>\n",
       "      <td>False</td>\n",
       "      <td>31.0</td>\n",
       "      <td>Tilak Nagar</td>\n",
       "      <td>Delhi</td>\n",
       "      <td>0</td>\n",
       "      <td>0</td>\n",
       "      <td>0</td>\n",
       "      <td>0</td>\n",
       "      <td>...</td>\n",
       "      <td>False</td>\n",
       "      <td>330.000000</td>\n",
       "      <td>100</td>\n",
       "      <td>800</td>\n",
       "      <td>363.006757</td>\n",
       "      <td>50</td>\n",
       "      <td>900</td>\n",
       "      <td>212.523175</td>\n",
       "      <td>ENT Specialist_Tilak Nagar</td>\n",
       "      <td>NaN</td>\n",
       "    </tr>\n",
       "    <tr>\n",
       "      <th>1889</th>\n",
       "      <td>General Medicine</td>\n",
       "      <td>-999.0</td>\n",
       "      <td>True</td>\n",
       "      <td>23.0</td>\n",
       "      <td>Cunningham Road</td>\n",
       "      <td>Bangalore</td>\n",
       "      <td>0</td>\n",
       "      <td>0</td>\n",
       "      <td>0</td>\n",
       "      <td>0</td>\n",
       "      <td>...</td>\n",
       "      <td>False</td>\n",
       "      <td>600.000000</td>\n",
       "      <td>600</td>\n",
       "      <td>600</td>\n",
       "      <td>328.842607</td>\n",
       "      <td>30</td>\n",
       "      <td>900</td>\n",
       "      <td>159.136744</td>\n",
       "      <td>General Medicine_Cunningham Road</td>\n",
       "      <td>NaN</td>\n",
       "    </tr>\n",
       "    <tr>\n",
       "      <th>1890</th>\n",
       "      <td>Dermatologists</td>\n",
       "      <td>-999.0</td>\n",
       "      <td>True</td>\n",
       "      <td>7.0</td>\n",
       "      <td>Ashok Vihar</td>\n",
       "      <td>Delhi</td>\n",
       "      <td>0</td>\n",
       "      <td>0</td>\n",
       "      <td>0</td>\n",
       "      <td>0</td>\n",
       "      <td>...</td>\n",
       "      <td>False</td>\n",
       "      <td>385.714286</td>\n",
       "      <td>200</td>\n",
       "      <td>500</td>\n",
       "      <td>363.006757</td>\n",
       "      <td>50</td>\n",
       "      <td>900</td>\n",
       "      <td>212.523175</td>\n",
       "      <td>Dermatologists_Ashok Vihar</td>\n",
       "      <td>NaN</td>\n",
       "    </tr>\n",
       "    <tr>\n",
       "      <th>1891</th>\n",
       "      <td>Ayurveda</td>\n",
       "      <td>-999.0</td>\n",
       "      <td>True</td>\n",
       "      <td>6.0</td>\n",
       "      <td>Manikonda</td>\n",
       "      <td>Hyderabad</td>\n",
       "      <td>0</td>\n",
       "      <td>0</td>\n",
       "      <td>0</td>\n",
       "      <td>1</td>\n",
       "      <td>...</td>\n",
       "      <td>False</td>\n",
       "      <td>276.190476</td>\n",
       "      <td>100</td>\n",
       "      <td>500</td>\n",
       "      <td>307.507886</td>\n",
       "      <td>20</td>\n",
       "      <td>800</td>\n",
       "      <td>152.340317</td>\n",
       "      <td>Ayurveda_Manikonda</td>\n",
       "      <td>NaN</td>\n",
       "    </tr>\n",
       "    <tr>\n",
       "      <th>1893</th>\n",
       "      <td>General Medicine</td>\n",
       "      <td>100.0</td>\n",
       "      <td>False</td>\n",
       "      <td>13.0</td>\n",
       "      <td>LB Nagar</td>\n",
       "      <td>Hyderabad</td>\n",
       "      <td>0</td>\n",
       "      <td>0</td>\n",
       "      <td>0</td>\n",
       "      <td>0</td>\n",
       "      <td>...</td>\n",
       "      <td>False</td>\n",
       "      <td>275.000000</td>\n",
       "      <td>200</td>\n",
       "      <td>500</td>\n",
       "      <td>307.507886</td>\n",
       "      <td>20</td>\n",
       "      <td>800</td>\n",
       "      <td>152.340317</td>\n",
       "      <td>General Medicine_LB Nagar</td>\n",
       "      <td>NaN</td>\n",
       "    </tr>\n",
       "    <tr>\n",
       "      <th>1903</th>\n",
       "      <td>ENT Specialist</td>\n",
       "      <td>91.0</td>\n",
       "      <td>False</td>\n",
       "      <td>18.0</td>\n",
       "      <td>JP Nagar 5 Phase</td>\n",
       "      <td>Bangalore</td>\n",
       "      <td>0</td>\n",
       "      <td>0</td>\n",
       "      <td>0</td>\n",
       "      <td>0</td>\n",
       "      <td>...</td>\n",
       "      <td>False</td>\n",
       "      <td>164.285714</td>\n",
       "      <td>100</td>\n",
       "      <td>350</td>\n",
       "      <td>328.842607</td>\n",
       "      <td>30</td>\n",
       "      <td>900</td>\n",
       "      <td>159.136744</td>\n",
       "      <td>ENT Specialist_JP Nagar 5 Phase</td>\n",
       "      <td>NaN</td>\n",
       "    </tr>\n",
       "    <tr>\n",
       "      <th>1904</th>\n",
       "      <td>General Medicine</td>\n",
       "      <td>-999.0</td>\n",
       "      <td>True</td>\n",
       "      <td>6.0</td>\n",
       "      <td>Kachiguda</td>\n",
       "      <td>Hyderabad</td>\n",
       "      <td>0</td>\n",
       "      <td>0</td>\n",
       "      <td>0</td>\n",
       "      <td>0</td>\n",
       "      <td>...</td>\n",
       "      <td>False</td>\n",
       "      <td>233.333333</td>\n",
       "      <td>100</td>\n",
       "      <td>500</td>\n",
       "      <td>307.507886</td>\n",
       "      <td>20</td>\n",
       "      <td>800</td>\n",
       "      <td>152.340317</td>\n",
       "      <td>General Medicine_Kachiguda</td>\n",
       "      <td>NaN</td>\n",
       "    </tr>\n",
       "    <tr>\n",
       "      <th>1906</th>\n",
       "      <td>ENT Specialist</td>\n",
       "      <td>94.0</td>\n",
       "      <td>False</td>\n",
       "      <td>13.0</td>\n",
       "      <td>Dahisar East</td>\n",
       "      <td>Mumbai</td>\n",
       "      <td>0</td>\n",
       "      <td>0</td>\n",
       "      <td>0</td>\n",
       "      <td>0</td>\n",
       "      <td>...</td>\n",
       "      <td>False</td>\n",
       "      <td>250.625000</td>\n",
       "      <td>80</td>\n",
       "      <td>600</td>\n",
       "      <td>308.292863</td>\n",
       "      <td>10</td>\n",
       "      <td>920</td>\n",
       "      <td>234.584964</td>\n",
       "      <td>ENT Specialist_Dahisar East</td>\n",
       "      <td>NaN</td>\n",
       "    </tr>\n",
       "    <tr>\n",
       "      <th>1911</th>\n",
       "      <td>Homeopath</td>\n",
       "      <td>-999.0</td>\n",
       "      <td>True</td>\n",
       "      <td>21.0</td>\n",
       "      <td>Vasundhra Enclave</td>\n",
       "      <td>Delhi</td>\n",
       "      <td>0</td>\n",
       "      <td>0</td>\n",
       "      <td>0</td>\n",
       "      <td>0</td>\n",
       "      <td>...</td>\n",
       "      <td>False</td>\n",
       "      <td>400.000000</td>\n",
       "      <td>300</td>\n",
       "      <td>500</td>\n",
       "      <td>363.006757</td>\n",
       "      <td>50</td>\n",
       "      <td>900</td>\n",
       "      <td>212.523175</td>\n",
       "      <td>Homeopath_Vasundhra Enclave</td>\n",
       "      <td>NaN</td>\n",
       "    </tr>\n",
       "    <tr>\n",
       "      <th>1939</th>\n",
       "      <td>Homeopath</td>\n",
       "      <td>-999.0</td>\n",
       "      <td>True</td>\n",
       "      <td>14.0</td>\n",
       "      <td>Boduppal</td>\n",
       "      <td>Hyderabad</td>\n",
       "      <td>0</td>\n",
       "      <td>0</td>\n",
       "      <td>0</td>\n",
       "      <td>0</td>\n",
       "      <td>...</td>\n",
       "      <td>False</td>\n",
       "      <td>200.000000</td>\n",
       "      <td>150</td>\n",
       "      <td>250</td>\n",
       "      <td>307.507886</td>\n",
       "      <td>20</td>\n",
       "      <td>800</td>\n",
       "      <td>152.340317</td>\n",
       "      <td>Homeopath_Boduppal</td>\n",
       "      <td>NaN</td>\n",
       "    </tr>\n",
       "    <tr>\n",
       "      <th>1946</th>\n",
       "      <td>Dermatologists</td>\n",
       "      <td>95.0</td>\n",
       "      <td>False</td>\n",
       "      <td>22.0</td>\n",
       "      <td>Kaloor</td>\n",
       "      <td>Ernakulam</td>\n",
       "      <td>0</td>\n",
       "      <td>0</td>\n",
       "      <td>0</td>\n",
       "      <td>0</td>\n",
       "      <td>...</td>\n",
       "      <td>False</td>\n",
       "      <td>210.000000</td>\n",
       "      <td>50</td>\n",
       "      <td>500</td>\n",
       "      <td>188.431373</td>\n",
       "      <td>10</td>\n",
       "      <td>600</td>\n",
       "      <td>111.474080</td>\n",
       "      <td>Dermatologists_Kaloor</td>\n",
       "      <td>NaN</td>\n",
       "    </tr>\n",
       "    <tr>\n",
       "      <th>1949</th>\n",
       "      <td>Dermatologists</td>\n",
       "      <td>-999.0</td>\n",
       "      <td>True</td>\n",
       "      <td>6.0</td>\n",
       "      <td>Ramapuram</td>\n",
       "      <td>Chennai</td>\n",
       "      <td>0</td>\n",
       "      <td>0</td>\n",
       "      <td>0</td>\n",
       "      <td>0</td>\n",
       "      <td>...</td>\n",
       "      <td>False</td>\n",
       "      <td>200.000000</td>\n",
       "      <td>200</td>\n",
       "      <td>200</td>\n",
       "      <td>283.602339</td>\n",
       "      <td>50</td>\n",
       "      <td>950</td>\n",
       "      <td>167.797081</td>\n",
       "      <td>Dermatologists_Ramapuram</td>\n",
       "      <td>NaN</td>\n",
       "    </tr>\n",
       "    <tr>\n",
       "      <th>1967</th>\n",
       "      <td>Dentist</td>\n",
       "      <td>98.0</td>\n",
       "      <td>False</td>\n",
       "      <td>13.0</td>\n",
       "      <td>Yelahanka</td>\n",
       "      <td>Bangalore</td>\n",
       "      <td>0</td>\n",
       "      <td>0</td>\n",
       "      <td>0</td>\n",
       "      <td>0</td>\n",
       "      <td>...</td>\n",
       "      <td>False</td>\n",
       "      <td>329.333333</td>\n",
       "      <td>150</td>\n",
       "      <td>750</td>\n",
       "      <td>328.842607</td>\n",
       "      <td>30</td>\n",
       "      <td>900</td>\n",
       "      <td>159.136744</td>\n",
       "      <td>Dentist_Yelahanka</td>\n",
       "      <td>NaN</td>\n",
       "    </tr>\n",
       "    <tr>\n",
       "      <th>1970</th>\n",
       "      <td>Dentist</td>\n",
       "      <td>-999.0</td>\n",
       "      <td>True</td>\n",
       "      <td>7.0</td>\n",
       "      <td>Sundarapuram</td>\n",
       "      <td>Coimbatore</td>\n",
       "      <td>0</td>\n",
       "      <td>1</td>\n",
       "      <td>0</td>\n",
       "      <td>0</td>\n",
       "      <td>...</td>\n",
       "      <td>False</td>\n",
       "      <td>200.000000</td>\n",
       "      <td>200</td>\n",
       "      <td>200</td>\n",
       "      <td>154.298246</td>\n",
       "      <td>50</td>\n",
       "      <td>700</td>\n",
       "      <td>77.339794</td>\n",
       "      <td>Dentist_Sundarapuram</td>\n",
       "      <td>NaN</td>\n",
       "    </tr>\n",
       "    <tr>\n",
       "      <th>1974</th>\n",
       "      <td>ENT Specialist</td>\n",
       "      <td>-999.0</td>\n",
       "      <td>True</td>\n",
       "      <td>19.0</td>\n",
       "      <td>Munirka</td>\n",
       "      <td>Delhi</td>\n",
       "      <td>0</td>\n",
       "      <td>0</td>\n",
       "      <td>0</td>\n",
       "      <td>0</td>\n",
       "      <td>...</td>\n",
       "      <td>False</td>\n",
       "      <td>460.000000</td>\n",
       "      <td>300</td>\n",
       "      <td>600</td>\n",
       "      <td>363.006757</td>\n",
       "      <td>50</td>\n",
       "      <td>900</td>\n",
       "      <td>212.523175</td>\n",
       "      <td>ENT Specialist_Munirka</td>\n",
       "      <td>NaN</td>\n",
       "    </tr>\n",
       "    <tr>\n",
       "      <th>1986</th>\n",
       "      <td>Dermatologists</td>\n",
       "      <td>-999.0</td>\n",
       "      <td>True</td>\n",
       "      <td>8.0</td>\n",
       "      <td>Pallikaranai</td>\n",
       "      <td>Chennai</td>\n",
       "      <td>0</td>\n",
       "      <td>0</td>\n",
       "      <td>0</td>\n",
       "      <td>0</td>\n",
       "      <td>...</td>\n",
       "      <td>False</td>\n",
       "      <td>356.666667</td>\n",
       "      <td>100</td>\n",
       "      <td>600</td>\n",
       "      <td>283.602339</td>\n",
       "      <td>50</td>\n",
       "      <td>950</td>\n",
       "      <td>167.797081</td>\n",
       "      <td>Dermatologists_Pallikaranai</td>\n",
       "      <td>NaN</td>\n",
       "    </tr>\n",
       "  </tbody>\n",
       "</table>\n",
       "<p>339 rows × 267 columns</p>\n",
       "</div>"
      ],
      "text/plain": [
       "                     4      6      7     8                  9          10  11  \\\n",
       "2       Dermatologists   70.0  False  40.0           KK Nagar     Chennai   0   \n",
       "3             Ayurveda -999.0   True   0.0    New Ashok Nagar       Delhi   0   \n",
       "10             Dentist  100.0  False   4.0          Erragadda   Hyderabad   0   \n",
       "14      ENT Specialist -999.0   True   4.0       Madandapuram     Chennai   0   \n",
       "16      Dermatologists   87.0  False  16.0         Tis Hazari       Delhi   0   \n",
       "20           Homeopath -999.0   True  11.0              Dadar      Mumbai   0   \n",
       "31            Ayurveda  100.0  False  36.0      Chandni Chowk       Delhi   0   \n",
       "33      ENT Specialist   95.0  False  17.0           Sakinaka      Mumbai   0   \n",
       "36           Homeopath -999.0   True   8.0           Kolathur     Chennai   0   \n",
       "41            Ayurveda -999.0   True  18.0           LB Nagar   Hyderabad   0   \n",
       "42            Ayurveda -999.0   True  18.0  Jayanagar 4 Block   Bangalore   0   \n",
       "45           Homeopath -999.0   True  29.0       Ganesh Nagar       Delhi   0   \n",
       "49           Homeopath -999.0   True   9.0        Thanisandra   Bangalore   0   \n",
       "50             Dentist  100.0  False  19.0      Gulmohar Park       Delhi   0   \n",
       "58            Ayurveda   93.0  False  30.0              Aluva   Ernakulam   0   \n",
       "67    General Medicine   95.0  False  18.0        Ashok Vihar       Delhi   0   \n",
       "83             Dentist  100.0  False   8.0          Balkampet   Hyderabad   0   \n",
       "88            Ayurveda -999.0   True  27.0           Badarpur       Delhi   0   \n",
       "89    General Medicine -999.0   True  16.0            Navalur     Chennai   0   \n",
       "94           Homeopath -999.0   True   5.0           Badarpur       Delhi   0   \n",
       "97           Homeopath -999.0   True   6.0        Peddar Road      Mumbai   0   \n",
       "107   General Medicine   97.0  False  24.0            Miyapur   Hyderabad   0   \n",
       "124     ENT Specialist -999.0   True  11.0           Horamavu   Bangalore   0   \n",
       "127   General Medicine   99.0  False  16.0    Dwarka Sector 6       Delhi   0   \n",
       "128   General Medicine -999.0   True  38.0         Peeragarhi       Delhi   0   \n",
       "129   General Medicine -999.0   True  19.0      Himayat Nagar   Hyderabad   0   \n",
       "144            Dentist   88.0  False  12.0            Nangloi       Delhi   0   \n",
       "154          Homeopath -999.0   True  12.0          Ganapathy  Coimbatore   0   \n",
       "161            Dentist -999.0   True   9.0         Churchgate      Mumbai   0   \n",
       "170     Dermatologists   97.0  False   9.0      Borivali East      Mumbai   0   \n",
       "...                ...    ...    ...   ...                ...         ...  ..   \n",
       "1813  General Medicine   93.0  False  30.0      Virugambakkam     Chennai   0   \n",
       "1814    ENT Specialist -999.0   True   8.0          Ramapuram     Chennai   0   \n",
       "1821  General Medicine   86.0  False  41.0      Perungalathur     Chennai   0   \n",
       "1823          Ayurveda -999.0   True  11.0        Kamla Nagar       Delhi   0   \n",
       "1824         Homeopath   94.0  False  25.0          Sion East      Mumbai   0   \n",
       "1833           Dentist   92.0  False   9.0         Model Town       Delhi   0   \n",
       "1837          Ayurveda -999.0   True  10.0     Kochi M.G.Road   Ernakulam   0   \n",
       "1841         Homeopath -999.0   True   9.0          Sion East      Mumbai   0   \n",
       "1845           Dentist -999.0   True   9.0  Pappanaickenpudur  Coimbatore   0   \n",
       "1846    ENT Specialist   93.0  False  30.0          Hauz Khas       Delhi   0   \n",
       "1847    Dermatologists   94.0  False  14.0           JP Nagar   Bangalore   0   \n",
       "1859         Homeopath -999.0   True  12.0        Kadavanthra   Ernakulam   0   \n",
       "1872  General Medicine -999.0   True  18.0      Virugambakkam     Chennai   0   \n",
       "1874         Homeopath -999.0   True  16.0          Erragadda   Hyderabad   0   \n",
       "1875    ENT Specialist   55.0  False  31.0        Tilak Nagar       Delhi   0   \n",
       "1889  General Medicine -999.0   True  23.0    Cunningham Road   Bangalore   0   \n",
       "1890    Dermatologists -999.0   True   7.0        Ashok Vihar       Delhi   0   \n",
       "1891          Ayurveda -999.0   True   6.0          Manikonda   Hyderabad   0   \n",
       "1893  General Medicine  100.0  False  13.0           LB Nagar   Hyderabad   0   \n",
       "1903    ENT Specialist   91.0  False  18.0   JP Nagar 5 Phase   Bangalore   0   \n",
       "1904  General Medicine -999.0   True   6.0          Kachiguda   Hyderabad   0   \n",
       "1906    ENT Specialist   94.0  False  13.0       Dahisar East      Mumbai   0   \n",
       "1911         Homeopath -999.0   True  21.0  Vasundhra Enclave       Delhi   0   \n",
       "1939         Homeopath -999.0   True  14.0           Boduppal   Hyderabad   0   \n",
       "1946    Dermatologists   95.0  False  22.0             Kaloor   Ernakulam   0   \n",
       "1949    Dermatologists -999.0   True   6.0          Ramapuram     Chennai   0   \n",
       "1967           Dentist   98.0  False  13.0          Yelahanka   Bangalore   0   \n",
       "1970           Dentist -999.0   True   7.0       Sundarapuram  Coimbatore   0   \n",
       "1974    ENT Specialist -999.0   True  19.0            Munirka       Delhi   0   \n",
       "1986    Dermatologists -999.0   True   8.0       Pallikaranai     Chennai   0   \n",
       "\n",
       "      12  13  14    ...     CityNA    LOCDmean  LOCDmin  LOCDmax    Citymean  \\\n",
       "2      0   0   0    ...      False  271.428571      100      500  283.602339   \n",
       "3      0   0   1    ...      False  233.333333      100      300  363.006757   \n",
       "10     0   0   0    ...      False  358.333333      100      500  307.507886   \n",
       "14     0   0   0    ...      False  200.000000      200      200  283.602339   \n",
       "16     0   0   0    ...      False  550.000000      550      550  363.006757   \n",
       "20     1   0   0    ...      False  480.000000      100      800  308.292863   \n",
       "31     0   0   1    ...      False  250.000000      250      250  363.006757   \n",
       "33     0   0   0    ...      False  124.444444       50      500  308.292863   \n",
       "36     0   0   0    ...      False  184.615385       50      300  283.602339   \n",
       "41     0   1   1    ...      False  275.000000      200      500  307.507886   \n",
       "42     0   0   1    ...      False  364.285714      100      750  328.842607   \n",
       "45     0   0   0    ...      False  275.000000       50      500  363.006757   \n",
       "49     0   0   0    ...      False  300.000000      300      300  328.842607   \n",
       "50     0   0   0    ...      False  100.000000      100      100  363.006757   \n",
       "58     0   0   1    ...      False  200.000000      100      300  188.431373   \n",
       "67     0   0   0    ...      False  385.714286      200      500  363.006757   \n",
       "83     0   0   0    ...      False  400.000000      300      500  307.507886   \n",
       "88     0   0   1    ...      False  200.000000      200      200  363.006757   \n",
       "89     0   0   0    ...      False  400.000000      400      400  283.602339   \n",
       "94     0   0   0    ...      False  200.000000      200      200  363.006757   \n",
       "97     0   0   0    ...      False  260.000000      100      500  308.292863   \n",
       "107    0   0   0    ...      False  246.153846      100      500  307.507886   \n",
       "124    0   0   0    ...      False  380.000000      200      600  328.842607   \n",
       "127    0   0   0    ...      False  566.666667      300      700  363.006757   \n",
       "128    0   0   0    ...      False  400.000000      400      400  363.006757   \n",
       "129    0   0   0    ...      False  395.833333      300      500  307.507886   \n",
       "144    0   0   0    ...      False  300.000000      300      300  363.006757   \n",
       "154    0   0   0    ...      False  127.058824       50      200  154.298246   \n",
       "161    0   0   0    ...      False  100.000000      100      100  308.292863   \n",
       "170    0   0   0    ...      False  280.000000       60      750  308.292863   \n",
       "...   ..  ..  ..    ...        ...         ...      ...      ...         ...   \n",
       "1813   0   0   0    ...      False  250.000000      100      600  283.602339   \n",
       "1814   0   0   0    ...      False  200.000000      200      200  283.602339   \n",
       "1821   0   0   0    ...      False  200.000000      200      200  283.602339   \n",
       "1823   0   0   1    ...      False  470.000000      200      800  363.006757   \n",
       "1824   0   0   0    ...      False  233.333333      100      500  308.292863   \n",
       "1833   0   0   0    ...      False  340.000000      100      900  363.006757   \n",
       "1837   0   0   1    ...      False  150.000000      150      150  188.431373   \n",
       "1841   0   0   0    ...      False  233.333333      100      500  308.292863   \n",
       "1845   0   0   0    ...      False  150.000000      150      150  154.298246   \n",
       "1846   0   0   0    ...      False  428.571429      100      500  363.006757   \n",
       "1847   0   0   0    ...      False  262.500000      100      500  328.842607   \n",
       "1859   0   0   0    ...      False  300.000000      150      500  188.431373   \n",
       "1872   0   0   0    ...      False  250.000000      100      600  283.602339   \n",
       "1874   0   0   0    ...      False  358.333333      100      500  307.507886   \n",
       "1875   0   0   0    ...      False  330.000000      100      800  363.006757   \n",
       "1889   0   0   0    ...      False  600.000000      600      600  328.842607   \n",
       "1890   0   0   0    ...      False  385.714286      200      500  363.006757   \n",
       "1891   0   0   1    ...      False  276.190476      100      500  307.507886   \n",
       "1893   0   0   0    ...      False  275.000000      200      500  307.507886   \n",
       "1903   0   0   0    ...      False  164.285714      100      350  328.842607   \n",
       "1904   0   0   0    ...      False  233.333333      100      500  307.507886   \n",
       "1906   0   0   0    ...      False  250.625000       80      600  308.292863   \n",
       "1911   0   0   0    ...      False  400.000000      300      500  363.006757   \n",
       "1939   0   0   0    ...      False  200.000000      150      250  307.507886   \n",
       "1946   0   0   0    ...      False  210.000000       50      500  188.431373   \n",
       "1949   0   0   0    ...      False  200.000000      200      200  283.602339   \n",
       "1967   0   0   0    ...      False  329.333333      150      750  328.842607   \n",
       "1970   1   0   0    ...      False  200.000000      200      200  154.298246   \n",
       "1974   0   0   0    ...      False  460.000000      300      600  363.006757   \n",
       "1986   0   0   0    ...      False  356.666667      100      600  283.602339   \n",
       "\n",
       "      Citymin  Citymax   Citystdev                           ProfLoc  PLocmean  \n",
       "2          50      950  167.797081           Dermatologists_KK Nagar       NaN  \n",
       "3          50      900  212.523175          Ayurveda_New Ashok Nagar       NaN  \n",
       "10         20      800  152.340317                 Dentist_Erragadda       NaN  \n",
       "14         50      950  167.797081       ENT Specialist_Madandapuram       NaN  \n",
       "16         50      900  212.523175         Dermatologists_Tis Hazari       NaN  \n",
       "20         10      920  234.584964                   Homeopath_Dadar       NaN  \n",
       "31         50      900  212.523175            Ayurveda_Chandni Chowk       NaN  \n",
       "33         10      920  234.584964           ENT Specialist_Sakinaka       NaN  \n",
       "36         50      950  167.797081                Homeopath_Kolathur       NaN  \n",
       "41         20      800  152.340317                 Ayurveda_LB Nagar       NaN  \n",
       "42         30      900  159.136744        Ayurveda_Jayanagar 4 Block       NaN  \n",
       "45         50      900  212.523175            Homeopath_Ganesh Nagar       NaN  \n",
       "49         30      900  159.136744             Homeopath_Thanisandra       NaN  \n",
       "50         50      900  212.523175             Dentist_Gulmohar Park       NaN  \n",
       "58         10      600  111.474080                    Ayurveda_Aluva       NaN  \n",
       "67         50      900  212.523175      General Medicine_Ashok Vihar       NaN  \n",
       "83         20      800  152.340317                 Dentist_Balkampet       NaN  \n",
       "88         50      900  212.523175                 Ayurveda_Badarpur       NaN  \n",
       "89         50      950  167.797081          General Medicine_Navalur       NaN  \n",
       "94         50      900  212.523175                Homeopath_Badarpur       NaN  \n",
       "97         10      920  234.584964             Homeopath_Peddar Road       NaN  \n",
       "107        20      800  152.340317          General Medicine_Miyapur       NaN  \n",
       "124        30      900  159.136744           ENT Specialist_Horamavu       NaN  \n",
       "127        50      900  212.523175  General Medicine_Dwarka Sector 6       NaN  \n",
       "128        50      900  212.523175       General Medicine_Peeragarhi       NaN  \n",
       "129        20      800  152.340317    General Medicine_Himayat Nagar       NaN  \n",
       "144        50      900  212.523175                   Dentist_Nangloi       NaN  \n",
       "154        50      700   77.339794               Homeopath_Ganapathy       NaN  \n",
       "161        10      920  234.584964                Dentist_Churchgate       NaN  \n",
       "170        10      920  234.584964      Dermatologists_Borivali East       NaN  \n",
       "...       ...      ...         ...                               ...       ...  \n",
       "1813       50      950  167.797081    General Medicine_Virugambakkam       NaN  \n",
       "1814       50      950  167.797081          ENT Specialist_Ramapuram       NaN  \n",
       "1821       50      950  167.797081    General Medicine_Perungalathur       NaN  \n",
       "1823       50      900  212.523175              Ayurveda_Kamla Nagar       NaN  \n",
       "1824       10      920  234.584964               Homeopath_Sion East       NaN  \n",
       "1833       50      900  212.523175                Dentist_Model Town       NaN  \n",
       "1837       10      600  111.474080           Ayurveda_Kochi M.G.Road       NaN  \n",
       "1841       10      920  234.584964               Homeopath_Sion East       NaN  \n",
       "1845       50      700   77.339794         Dentist_Pappanaickenpudur       NaN  \n",
       "1846       50      900  212.523175          ENT Specialist_Hauz Khas       NaN  \n",
       "1847       30      900  159.136744           Dermatologists_JP Nagar       NaN  \n",
       "1859       10      600  111.474080             Homeopath_Kadavanthra       NaN  \n",
       "1872       50      950  167.797081    General Medicine_Virugambakkam       NaN  \n",
       "1874       20      800  152.340317               Homeopath_Erragadda       NaN  \n",
       "1875       50      900  212.523175        ENT Specialist_Tilak Nagar       NaN  \n",
       "1889       30      900  159.136744  General Medicine_Cunningham Road       NaN  \n",
       "1890       50      900  212.523175        Dermatologists_Ashok Vihar       NaN  \n",
       "1891       20      800  152.340317                Ayurveda_Manikonda       NaN  \n",
       "1893       20      800  152.340317         General Medicine_LB Nagar       NaN  \n",
       "1903       30      900  159.136744   ENT Specialist_JP Nagar 5 Phase       NaN  \n",
       "1904       20      800  152.340317        General Medicine_Kachiguda       NaN  \n",
       "1906       10      920  234.584964       ENT Specialist_Dahisar East       NaN  \n",
       "1911       50      900  212.523175       Homeopath_Vasundhra Enclave       NaN  \n",
       "1939       20      800  152.340317                Homeopath_Boduppal       NaN  \n",
       "1946       10      600  111.474080             Dermatologists_Kaloor       NaN  \n",
       "1949       50      950  167.797081          Dermatologists_Ramapuram       NaN  \n",
       "1967       30      900  159.136744                 Dentist_Yelahanka       NaN  \n",
       "1970       50      700   77.339794              Dentist_Sundarapuram       NaN  \n",
       "1974       50      900  212.523175            ENT Specialist_Munirka       NaN  \n",
       "1986       50      950  167.797081       Dermatologists_Pallikaranai       NaN  \n",
       "\n",
       "[339 rows x 267 columns]"
      ]
     },
     "execution_count": 116,
     "metadata": {},
     "output_type": "execute_result"
    }
   ],
   "source": [
    "df1[df1['PLocmean'].isna()]"
   ]
  },
  {
   "cell_type": "code",
   "execution_count": 117,
   "metadata": {
    "_uuid": "69f9c9ac00d603a19c76d596f994fd53d8d3e087"
   },
   "outputs": [
    {
     "data": {
      "text/plain": [
       "339"
      ]
     },
     "execution_count": 117,
     "metadata": {},
     "output_type": "execute_result"
    }
   ],
   "source": [
    "df1['PLocmean'].isnull().sum()"
   ]
  },
  {
   "cell_type": "code",
   "execution_count": 118,
   "metadata": {
    "_uuid": "17d4a203541886d48fb13127416294261b2f607e"
   },
   "outputs": [
    {
     "data": {
      "text/plain": [
       "(1904, 267)"
      ]
     },
     "execution_count": 118,
     "metadata": {},
     "output_type": "execute_result"
    }
   ],
   "source": [
    "df1.shape"
   ]
  },
  {
   "cell_type": "code",
   "execution_count": 119,
   "metadata": {
    "_uuid": "64ab456e9d3509080441038a5af5cc5da69a9e3d"
   },
   "outputs": [
    {
     "data": {
      "text/plain": [
       "307.9446401610468"
      ]
     },
     "execution_count": 119,
     "metadata": {},
     "output_type": "execute_result"
    }
   ],
   "source": [
    "df['PLocmean'].mean()"
   ]
  },
  {
   "cell_type": "code",
   "execution_count": 120,
   "metadata": {
    "_uuid": "f3fa260e06446ffe28024471ae48f9fdbb9dc518"
   },
   "outputs": [],
   "source": [
    "mean=df1['PLocmean'].mean()"
   ]
  },
  {
   "cell_type": "code",
   "execution_count": 121,
   "metadata": {
    "_uuid": "9ace2c9604daa0323873bd78d87a701db2940f5c"
   },
   "outputs": [
    {
     "data": {
      "text/plain": [
       "322.89764783225047"
      ]
     },
     "execution_count": 121,
     "metadata": {},
     "output_type": "execute_result"
    }
   ],
   "source": [
    "mean"
   ]
  },
  {
   "cell_type": "code",
   "execution_count": 122,
   "metadata": {
    "_uuid": "871543818b68509e7f60c8cfe5d119a83634cdf0"
   },
   "outputs": [],
   "source": [
    "df1['PLocmean']=df1['PLocmean'].fillna(mean,axis=0)"
   ]
  },
  {
   "cell_type": "code",
   "execution_count": null,
   "metadata": {
    "_uuid": "c400dfb91b10c4ed62f943917ee9d8352b6842e1"
   },
   "outputs": [],
   "source": [
    "df1['PLocmean'].isnull().sum()"
   ]
  },
  {
   "cell_type": "code",
   "execution_count": 123,
   "metadata": {
    "_uuid": "1de4b9be8e6270abff78b52549be1a0b772f6a67"
   },
   "outputs": [],
   "source": [
    "df.drop(['ProfLoc'],axis=1,inplace=True)\n",
    "df1.drop(['ProfLoc'],axis=1,inplace=True)"
   ]
  },
  {
   "cell_type": "code",
   "execution_count": 124,
   "metadata": {
    "_uuid": "a4dd21f22410b1b268971b27b89e87804aeb39c5"
   },
   "outputs": [],
   "source": [
    "#groupbyprofloc=df.groupby(4)[6].mean()\n",
    "#df['ProfMean']=df[4].map(groupbyprofloc)\n",
    "#df1['ProfMean']=df1[4].map(groupbyprofloc)"
   ]
  },
  {
   "cell_type": "code",
   "execution_count": 125,
   "metadata": {
    "_uuid": "e9a33575de59941f258d0c791024b19da1d6d136"
   },
   "outputs": [],
   "source": [
    "#df1['ProfMean'].isnull().sum()"
   ]
  },
  {
   "cell_type": "code",
   "execution_count": 126,
   "metadata": {
    "_uuid": "ace1a6888e36acce4ad23be3bca6a22fb7f0b678"
   },
   "outputs": [],
   "source": [
    "#df1[\"Profile\"]"
   ]
  },
  {
   "cell_type": "code",
   "execution_count": 127,
   "metadata": {
    "_uuid": "18738c0319542af59fe2790cc3346a1a1ba321a5"
   },
   "outputs": [],
   "source": [
    "#groupbyQualification1=df.groupby('Qual1')['Fees'].mean()\n",
    "#df['Qualification1mean']=df['Qual1'].map(groupbyQualification1)\n",
    "#df1['Qualification1mean']=df1['Qual1'].map(groupbyQualification1)"
   ]
  },
  {
   "cell_type": "code",
   "execution_count": 128,
   "metadata": {
    "_uuid": "3ae91052ab11548a9d9fd3776a9249148bb57e00"
   },
   "outputs": [],
   "source": [
    "#groupbyQualification2=df.groupby('Qual2')['Fees'].mean()\n",
    "#df['Qualification2mean']=df['Qual2'].map(groupbyQualification2)\n",
    "#df1['Qualification2mean']=df1['Qual2'].map(groupbyQualification2)"
   ]
  },
  {
   "cell_type": "code",
   "execution_count": 129,
   "metadata": {
    "_uuid": "5a5ab0e81335b35c50bac391a76e02c6cf72f706"
   },
   "outputs": [],
   "source": [
    "#df.drop([\"Location\",\"LocationNA\"],axis=1,inplace=True)\n",
    "#df1.drop([\"Location\",\"LocationNA\"],axis=1,inplace=True)"
   ]
  },
  {
   "cell_type": "code",
   "execution_count": 130,
   "metadata": {
    "_uuid": "d992d9db7fe77be13de938d2a12fd66c4738670a"
   },
   "outputs": [],
   "source": [
    "#df.drop([\"Qual2\"],axis=1,inplace=True)\n",
    "#df1.drop([\"Qual2\"],axis=1,inplace=True)"
   ]
  },
  {
   "cell_type": "code",
   "execution_count": 131,
   "metadata": {
    "_uuid": "34b5946e3b80bffb57e61ad8acb994d1ad941e33"
   },
   "outputs": [],
   "source": [
    "#df.isnull().sum()"
   ]
  },
  {
   "cell_type": "code",
   "execution_count": 132,
   "metadata": {
    "_uuid": "6b68102992f17319e42192e371d2a61c2bf013a7"
   },
   "outputs": [],
   "source": [
    "X=df.drop([6],axis=1)"
   ]
  },
  {
   "cell_type": "code",
   "execution_count": 133,
   "metadata": {
    "_uuid": "d34816e403eaa761102ff601d293939c6fc7e0ef"
   },
   "outputs": [],
   "source": [
    "X1=df2.drop([6],axis=1)"
   ]
  },
  {
   "cell_type": "code",
   "execution_count": 134,
   "metadata": {
    "_uuid": "2c534ebd1f32dbba180d50c77bb04e00ba16b7f6"
   },
   "outputs": [],
   "source": [
    "y=df[6]"
   ]
  },
  {
   "cell_type": "code",
   "execution_count": 135,
   "metadata": {
    "_uuid": "39a206449b10feb3543d5a7a5ef972021b214c65"
   },
   "outputs": [],
   "source": [
    "y1=df2[6]"
   ]
  },
  {
   "cell_type": "code",
   "execution_count": 136,
   "metadata": {
    "_uuid": "44da6f86726f02277cb93dd47de4a38d3f5a9bb2"
   },
   "outputs": [],
   "source": [
    "test=df1"
   ]
  },
  {
   "cell_type": "code",
   "execution_count": 137,
   "metadata": {
    "_uuid": "513e3874861f7d9dcef5649e1edd07deb2871020"
   },
   "outputs": [],
   "source": [
    "test2=samekey"
   ]
  },
  {
   "cell_type": "code",
   "execution_count": 138,
   "metadata": {
    "_uuid": "1f5186b5ffd88fee2059973e326bf78efafae245"
   },
   "outputs": [],
   "source": [
    "X.columns=range(X.shape[1])"
   ]
  },
  {
   "cell_type": "code",
   "execution_count": 139,
   "metadata": {
    "_uuid": "2368274dd07816aa9c03b79c319ec84bfc873c53"
   },
   "outputs": [],
   "source": [
    "X1.columns=range(X1.shape[1])"
   ]
  },
  {
   "cell_type": "code",
   "execution_count": 140,
   "metadata": {
    "_uuid": "ef2a03f12188b2876e9a1af516710d357c06a8b0"
   },
   "outputs": [],
   "source": [
    "test.columns=range(test.shape[1])"
   ]
  },
  {
   "cell_type": "code",
   "execution_count": 141,
   "metadata": {
    "_uuid": "7cd6b95d74386d2aaa8a2fbb04d663029cb0f721"
   },
   "outputs": [],
   "source": [
    "test2.columns=range(test2.shape[1])"
   ]
  },
  {
   "cell_type": "code",
   "execution_count": 142,
   "metadata": {
    "_uuid": "1f15c87a88768e2c57da17c1477c15abf7ad178d"
   },
   "outputs": [
    {
     "data": {
      "text/html": [
       "<div>\n",
       "<style scoped>\n",
       "    .dataframe tbody tr th:only-of-type {\n",
       "        vertical-align: middle;\n",
       "    }\n",
       "\n",
       "    .dataframe tbody tr th {\n",
       "        vertical-align: top;\n",
       "    }\n",
       "\n",
       "    .dataframe thead th {\n",
       "        text-align: right;\n",
       "    }\n",
       "</style>\n",
       "<table border=\"1\" class=\"dataframe\">\n",
       "  <thead>\n",
       "    <tr style=\"text-align: right;\">\n",
       "      <th></th>\n",
       "      <th>0</th>\n",
       "      <th>1</th>\n",
       "      <th>2</th>\n",
       "      <th>3</th>\n",
       "      <th>4</th>\n",
       "      <th>5</th>\n",
       "      <th>6</th>\n",
       "      <th>7</th>\n",
       "      <th>8</th>\n",
       "      <th>9</th>\n",
       "      <th>...</th>\n",
       "      <th>256</th>\n",
       "      <th>257</th>\n",
       "      <th>258</th>\n",
       "      <th>259</th>\n",
       "      <th>260</th>\n",
       "      <th>261</th>\n",
       "      <th>262</th>\n",
       "      <th>263</th>\n",
       "      <th>264</th>\n",
       "      <th>265</th>\n",
       "    </tr>\n",
       "  </thead>\n",
       "  <tbody>\n",
       "    <tr>\n",
       "      <th>0</th>\n",
       "      <td>General Medicine</td>\n",
       "      <td>-999.0</td>\n",
       "      <td>True</td>\n",
       "      <td>35.0</td>\n",
       "      <td>Ghatkopar East</td>\n",
       "      <td>Mumbai</td>\n",
       "      <td>0</td>\n",
       "      <td>0</td>\n",
       "      <td>0</td>\n",
       "      <td>0</td>\n",
       "      <td>...</td>\n",
       "      <td>False</td>\n",
       "      <td>False</td>\n",
       "      <td>333.684211</td>\n",
       "      <td>50</td>\n",
       "      <td>800</td>\n",
       "      <td>308.292863</td>\n",
       "      <td>10</td>\n",
       "      <td>920</td>\n",
       "      <td>234.584964</td>\n",
       "      <td>350.000000</td>\n",
       "    </tr>\n",
       "    <tr>\n",
       "      <th>1</th>\n",
       "      <td>ENT Specialist</td>\n",
       "      <td>-999.0</td>\n",
       "      <td>True</td>\n",
       "      <td>31.0</td>\n",
       "      <td>West Marredpally</td>\n",
       "      <td>Hyderabad</td>\n",
       "      <td>0</td>\n",
       "      <td>0</td>\n",
       "      <td>0</td>\n",
       "      <td>0</td>\n",
       "      <td>...</td>\n",
       "      <td>False</td>\n",
       "      <td>False</td>\n",
       "      <td>361.111111</td>\n",
       "      <td>150</td>\n",
       "      <td>500</td>\n",
       "      <td>307.507886</td>\n",
       "      <td>20</td>\n",
       "      <td>800</td>\n",
       "      <td>152.340317</td>\n",
       "      <td>400.000000</td>\n",
       "    </tr>\n",
       "    <tr>\n",
       "      <th>2</th>\n",
       "      <td>Dermatologists</td>\n",
       "      <td>70.0</td>\n",
       "      <td>False</td>\n",
       "      <td>40.0</td>\n",
       "      <td>KK Nagar</td>\n",
       "      <td>Chennai</td>\n",
       "      <td>0</td>\n",
       "      <td>0</td>\n",
       "      <td>0</td>\n",
       "      <td>0</td>\n",
       "      <td>...</td>\n",
       "      <td>False</td>\n",
       "      <td>False</td>\n",
       "      <td>271.428571</td>\n",
       "      <td>100</td>\n",
       "      <td>500</td>\n",
       "      <td>283.602339</td>\n",
       "      <td>50</td>\n",
       "      <td>950</td>\n",
       "      <td>167.797081</td>\n",
       "      <td>322.897648</td>\n",
       "    </tr>\n",
       "    <tr>\n",
       "      <th>3</th>\n",
       "      <td>Ayurveda</td>\n",
       "      <td>-999.0</td>\n",
       "      <td>True</td>\n",
       "      <td>0.0</td>\n",
       "      <td>New Ashok Nagar</td>\n",
       "      <td>Delhi</td>\n",
       "      <td>0</td>\n",
       "      <td>0</td>\n",
       "      <td>0</td>\n",
       "      <td>1</td>\n",
       "      <td>...</td>\n",
       "      <td>False</td>\n",
       "      <td>False</td>\n",
       "      <td>233.333333</td>\n",
       "      <td>100</td>\n",
       "      <td>300</td>\n",
       "      <td>363.006757</td>\n",
       "      <td>50</td>\n",
       "      <td>900</td>\n",
       "      <td>212.523175</td>\n",
       "      <td>322.897648</td>\n",
       "    </tr>\n",
       "    <tr>\n",
       "      <th>4</th>\n",
       "      <td>Dentist</td>\n",
       "      <td>100.0</td>\n",
       "      <td>False</td>\n",
       "      <td>16.0</td>\n",
       "      <td>Kanakpura Road</td>\n",
       "      <td>Bangalore</td>\n",
       "      <td>0</td>\n",
       "      <td>0</td>\n",
       "      <td>0</td>\n",
       "      <td>0</td>\n",
       "      <td>...</td>\n",
       "      <td>False</td>\n",
       "      <td>False</td>\n",
       "      <td>345.000000</td>\n",
       "      <td>250</td>\n",
       "      <td>500</td>\n",
       "      <td>328.842607</td>\n",
       "      <td>30</td>\n",
       "      <td>900</td>\n",
       "      <td>159.136744</td>\n",
       "      <td>300.000000</td>\n",
       "    </tr>\n",
       "  </tbody>\n",
       "</table>\n",
       "<p>5 rows × 266 columns</p>\n",
       "</div>"
      ],
      "text/plain": [
       "                0      1      2     3                 4          5    6    \\\n",
       "0  General Medicine -999.0   True  35.0    Ghatkopar East     Mumbai    0   \n",
       "1    ENT Specialist -999.0   True  31.0  West Marredpally  Hyderabad    0   \n",
       "2    Dermatologists   70.0  False  40.0          KK Nagar    Chennai    0   \n",
       "3          Ayurveda -999.0   True   0.0   New Ashok Nagar      Delhi    0   \n",
       "4           Dentist  100.0  False  16.0    Kanakpura Road  Bangalore    0   \n",
       "\n",
       "   7    8    9       ...        256    257         258  259  260         261  \\\n",
       "0    0    0    0     ...      False  False  333.684211   50  800  308.292863   \n",
       "1    0    0    0     ...      False  False  361.111111  150  500  307.507886   \n",
       "2    0    0    0     ...      False  False  271.428571  100  500  283.602339   \n",
       "3    0    0    1     ...      False  False  233.333333  100  300  363.006757   \n",
       "4    0    0    0     ...      False  False  345.000000  250  500  328.842607   \n",
       "\n",
       "   262  263         264         265  \n",
       "0   10  920  234.584964  350.000000  \n",
       "1   20  800  152.340317  400.000000  \n",
       "2   50  950  167.797081  322.897648  \n",
       "3   50  900  212.523175  322.897648  \n",
       "4   30  900  159.136744  300.000000  \n",
       "\n",
       "[5 rows x 266 columns]"
      ]
     },
     "execution_count": 142,
     "metadata": {},
     "output_type": "execute_result"
    }
   ],
   "source": [
    "test.head()"
   ]
  },
  {
   "cell_type": "code",
   "execution_count": 143,
   "metadata": {
    "_uuid": "c96ecdf01027e1978ee736509a2497ad84654d8c"
   },
   "outputs": [],
   "source": [
    "from sklearn.preprocessing import LabelEncoder\n",
    "cols=(0,2,4,5,256,257)\n",
    "for c in cols:\n",
    "    lbl=LabelEncoder()\n",
    "    lbl.fit(list(X[c].values))\n",
    "    X[c]=lbl.transform(list(X[c].values))\n",
    "    test[c]=lbl.transform(list(test[c].values))"
   ]
  },
  {
   "cell_type": "code",
   "execution_count": 144,
   "metadata": {
    "_uuid": "eab1b36d8a1a71d9a8720088cdc743a72a1853d7"
   },
   "outputs": [
    {
     "data": {
      "text/html": [
       "<div>\n",
       "<style scoped>\n",
       "    .dataframe tbody tr th:only-of-type {\n",
       "        vertical-align: middle;\n",
       "    }\n",
       "\n",
       "    .dataframe tbody tr th {\n",
       "        vertical-align: top;\n",
       "    }\n",
       "\n",
       "    .dataframe thead th {\n",
       "        text-align: right;\n",
       "    }\n",
       "</style>\n",
       "<table border=\"1\" class=\"dataframe\">\n",
       "  <thead>\n",
       "    <tr style=\"text-align: right;\">\n",
       "      <th></th>\n",
       "      <th>0</th>\n",
       "      <th>1</th>\n",
       "      <th>2</th>\n",
       "      <th>3</th>\n",
       "      <th>4</th>\n",
       "      <th>5</th>\n",
       "      <th>6</th>\n",
       "      <th>7</th>\n",
       "      <th>8</th>\n",
       "      <th>9</th>\n",
       "      <th>...</th>\n",
       "      <th>249</th>\n",
       "      <th>250</th>\n",
       "      <th>251</th>\n",
       "      <th>252</th>\n",
       "      <th>253</th>\n",
       "      <th>254</th>\n",
       "      <th>255</th>\n",
       "      <th>256</th>\n",
       "      <th>257</th>\n",
       "      <th>258</th>\n",
       "    </tr>\n",
       "  </thead>\n",
       "  <tbody>\n",
       "    <tr>\n",
       "      <th>0</th>\n",
       "      <td>Homeopath</td>\n",
       "      <td>100.0</td>\n",
       "      <td>False</td>\n",
       "      <td>24.0</td>\n",
       "      <td>Ernakulam</td>\n",
       "      <td>0</td>\n",
       "      <td>0</td>\n",
       "      <td>0</td>\n",
       "      <td>0</td>\n",
       "      <td>0</td>\n",
       "      <td>...</td>\n",
       "      <td>0</td>\n",
       "      <td>0</td>\n",
       "      <td>0</td>\n",
       "      <td>0</td>\n",
       "      <td>0</td>\n",
       "      <td>0</td>\n",
       "      <td>188.431373</td>\n",
       "      <td>10</td>\n",
       "      <td>600</td>\n",
       "      <td>111.474080</td>\n",
       "    </tr>\n",
       "    <tr>\n",
       "      <th>1</th>\n",
       "      <td>Ayurveda</td>\n",
       "      <td>98.0</td>\n",
       "      <td>False</td>\n",
       "      <td>12.0</td>\n",
       "      <td>Bangalore</td>\n",
       "      <td>0</td>\n",
       "      <td>0</td>\n",
       "      <td>1</td>\n",
       "      <td>1</td>\n",
       "      <td>0</td>\n",
       "      <td>...</td>\n",
       "      <td>0</td>\n",
       "      <td>0</td>\n",
       "      <td>1</td>\n",
       "      <td>0</td>\n",
       "      <td>0</td>\n",
       "      <td>0</td>\n",
       "      <td>328.842607</td>\n",
       "      <td>30</td>\n",
       "      <td>900</td>\n",
       "      <td>159.136744</td>\n",
       "    </tr>\n",
       "    <tr>\n",
       "      <th>2</th>\n",
       "      <td>ENT Specialist</td>\n",
       "      <td>-999.0</td>\n",
       "      <td>True</td>\n",
       "      <td>9.0</td>\n",
       "      <td>Bangalore</td>\n",
       "      <td>0</td>\n",
       "      <td>0</td>\n",
       "      <td>0</td>\n",
       "      <td>0</td>\n",
       "      <td>0</td>\n",
       "      <td>...</td>\n",
       "      <td>0</td>\n",
       "      <td>0</td>\n",
       "      <td>0</td>\n",
       "      <td>0</td>\n",
       "      <td>0</td>\n",
       "      <td>0</td>\n",
       "      <td>328.842607</td>\n",
       "      <td>30</td>\n",
       "      <td>900</td>\n",
       "      <td>159.136744</td>\n",
       "    </tr>\n",
       "    <tr>\n",
       "      <th>3</th>\n",
       "      <td>Ayurveda</td>\n",
       "      <td>-999.0</td>\n",
       "      <td>True</td>\n",
       "      <td>12.0</td>\n",
       "      <td>Bangalore</td>\n",
       "      <td>0</td>\n",
       "      <td>0</td>\n",
       "      <td>0</td>\n",
       "      <td>1</td>\n",
       "      <td>0</td>\n",
       "      <td>...</td>\n",
       "      <td>0</td>\n",
       "      <td>0</td>\n",
       "      <td>0</td>\n",
       "      <td>0</td>\n",
       "      <td>0</td>\n",
       "      <td>0</td>\n",
       "      <td>328.842607</td>\n",
       "      <td>30</td>\n",
       "      <td>900</td>\n",
       "      <td>159.136744</td>\n",
       "    </tr>\n",
       "    <tr>\n",
       "      <th>4</th>\n",
       "      <td>Ayurveda</td>\n",
       "      <td>100.0</td>\n",
       "      <td>False</td>\n",
       "      <td>20.0</td>\n",
       "      <td>Chennai</td>\n",
       "      <td>0</td>\n",
       "      <td>0</td>\n",
       "      <td>0</td>\n",
       "      <td>1</td>\n",
       "      <td>0</td>\n",
       "      <td>...</td>\n",
       "      <td>0</td>\n",
       "      <td>0</td>\n",
       "      <td>0</td>\n",
       "      <td>0</td>\n",
       "      <td>0</td>\n",
       "      <td>0</td>\n",
       "      <td>283.602339</td>\n",
       "      <td>50</td>\n",
       "      <td>950</td>\n",
       "      <td>167.797081</td>\n",
       "    </tr>\n",
       "  </tbody>\n",
       "</table>\n",
       "<p>5 rows × 259 columns</p>\n",
       "</div>"
      ],
      "text/plain": [
       "              0      1      2     3          4    5    6    7    8    9    \\\n",
       "0       Homeopath  100.0  False  24.0  Ernakulam    0    0    0    0    0   \n",
       "1        Ayurveda   98.0  False  12.0  Bangalore    0    0    1    1    0   \n",
       "2  ENT Specialist -999.0   True   9.0  Bangalore    0    0    0    0    0   \n",
       "3        Ayurveda -999.0   True  12.0  Bangalore    0    0    0    1    0   \n",
       "4        Ayurveda  100.0  False  20.0    Chennai    0    0    0    1    0   \n",
       "\n",
       "      ...      249  250  251  252  253  254         255  256  257         258  \n",
       "0     ...        0    0    0    0    0    0  188.431373   10  600  111.474080  \n",
       "1     ...        0    0    1    0    0    0  328.842607   30  900  159.136744  \n",
       "2     ...        0    0    0    0    0    0  328.842607   30  900  159.136744  \n",
       "3     ...        0    0    0    0    0    0  328.842607   30  900  159.136744  \n",
       "4     ...        0    0    0    0    0    0  283.602339   50  950  167.797081  \n",
       "\n",
       "[5 rows x 259 columns]"
      ]
     },
     "execution_count": 144,
     "metadata": {},
     "output_type": "execute_result"
    }
   ],
   "source": [
    "X1.head()"
   ]
  },
  {
   "cell_type": "code",
   "execution_count": 145,
   "metadata": {
    "_uuid": "049ea7839240251188e824f870d76dda74934836"
   },
   "outputs": [],
   "source": [
    "#Samekey\n",
    "from sklearn.preprocessing import LabelEncoder\n",
    "cols=(0,2,4)\n",
    "for c in cols:\n",
    "    lbl=LabelEncoder()\n",
    "    lbl.fit(list(X1[c].values))\n",
    "    X1[c]=lbl.transform(list(X1[c].values))\n",
    "    test2[c]=lbl.transform(list(test2[c].values))"
   ]
  },
  {
   "cell_type": "code",
   "execution_count": 146,
   "metadata": {
    "_uuid": "b4245355715c9bafba01340003fe08fb3a57f8f4"
   },
   "outputs": [],
   "source": [
    "#df[\"Qual1\"]"
   ]
  },
  {
   "cell_type": "code",
   "execution_count": 147,
   "metadata": {
    "_uuid": "d3725375c00e43e9949dbe9320a61072c1784750"
   },
   "outputs": [],
   "source": [
    "#X=df.drop(\"Fees\",axis=1)\n",
    "#y=df[\"Fees\"]"
   ]
  },
  {
   "cell_type": "code",
   "execution_count": 148,
   "metadata": {
    "_uuid": "90b74fc4a94ee0e0bd0293d9b6c25229b7c98eed"
   },
   "outputs": [],
   "source": [
    "#X"
   ]
  },
  {
   "cell_type": "markdown",
   "metadata": {
    "_uuid": "f6eeaafda0a9055f2a56fe5fab724b85a15e8e2b"
   },
   "source": [
    "<h1>AdaBoost Regressor</h1>"
   ]
  },
  {
   "cell_type": "code",
   "execution_count": 149,
   "metadata": {
    "_uuid": "2031fd04dfde6f691e5fa51fa3d5ab8086019999"
   },
   "outputs": [],
   "source": [
    "from sklearn.ensemble import AdaBoostRegressor"
   ]
  },
  {
   "cell_type": "code",
   "execution_count": 150,
   "metadata": {
    "_uuid": "feaffa651833d3730160f8c82705d109f1f1428d"
   },
   "outputs": [],
   "source": [
    "ada=AdaBoostRegressor(n_estimators=800)"
   ]
  },
  {
   "cell_type": "code",
   "execution_count": 151,
   "metadata": {
    "_uuid": "01be9780df1bca104f21fbf569fcba53e66665e7",
    "scrolled": true
   },
   "outputs": [
    {
     "data": {
      "text/plain": [
       "AdaBoostRegressor(base_estimator=None, learning_rate=1.0, loss='linear',\n",
       "         n_estimators=800, random_state=None)"
      ]
     },
     "execution_count": 151,
     "metadata": {},
     "output_type": "execute_result"
    }
   ],
   "source": [
    "ada.fit(X,y)"
   ]
  },
  {
   "cell_type": "code",
   "execution_count": 235,
   "metadata": {
    "_uuid": "f5eb8781cf65b75b8bfc1d8f642e8f71b9fbd587"
   },
   "outputs": [],
   "source": [
    "pred_ada=ada.predict(test)"
   ]
  },
  {
   "cell_type": "markdown",
   "metadata": {
    "_uuid": "01ecff1591227702f8ad99638a26232e0aaa4d11"
   },
   "source": [
    "<h1>GradientBoost Regressor</h1>"
   ]
  },
  {
   "cell_type": "code",
   "execution_count": 153,
   "metadata": {
    "_uuid": "7d70fe2f8b64b9d9ff3221f58b2f81889df1866c"
   },
   "outputs": [],
   "source": [
    "from sklearn.ensemble import GradientBoostingRegressor"
   ]
  },
  {
   "cell_type": "code",
   "execution_count": 154,
   "metadata": {
    "_uuid": "bef853e77f18a382d98e9a95bfb687a55d39ae8b"
   },
   "outputs": [],
   "source": [
    "gb=GradientBoostingRegressor(n_estimators=500)"
   ]
  },
  {
   "cell_type": "code",
   "execution_count": 155,
   "metadata": {
    "_uuid": "3f122a44daa56207b1a0ee9e799ce0007dfdb970"
   },
   "outputs": [
    {
     "data": {
      "text/plain": [
       "GradientBoostingRegressor(alpha=0.9, criterion='friedman_mse', init=None,\n",
       "             learning_rate=0.1, loss='ls', max_depth=3, max_features=None,\n",
       "             max_leaf_nodes=None, min_impurity_decrease=0.0,\n",
       "             min_impurity_split=None, min_samples_leaf=1,\n",
       "             min_samples_split=2, min_weight_fraction_leaf=0.0,\n",
       "             n_estimators=500, n_iter_no_change=None, presort='auto',\n",
       "             random_state=None, subsample=1.0, tol=0.0001,\n",
       "             validation_fraction=0.1, verbose=0, warm_start=False)"
      ]
     },
     "execution_count": 155,
     "metadata": {},
     "output_type": "execute_result"
    }
   ],
   "source": [
    "gb.fit(X,y)"
   ]
  },
  {
   "cell_type": "code",
   "execution_count": 219,
   "metadata": {
    "_uuid": "36d19083e6c46f26824a1ec545637adf7390ae3e"
   },
   "outputs": [],
   "source": [
    "pred_gb=gb.predict(test)"
   ]
  },
  {
   "cell_type": "markdown",
   "metadata": {
    "_uuid": "396fef17963ddb54f9e02981badd656ac50d7fa8"
   },
   "source": [
    "<h1>Bagging Regressor</h1>"
   ]
  },
  {
   "cell_type": "code",
   "execution_count": 157,
   "metadata": {
    "_uuid": "eed9e67b21b739db97975b7cb9f65a81cb19eaab"
   },
   "outputs": [],
   "source": [
    "from sklearn.ensemble import BaggingRegressor"
   ]
  },
  {
   "cell_type": "code",
   "execution_count": 158,
   "metadata": {
    "_uuid": "6baf316cc7feb35f8b098c7adb51fa31fa6498c0"
   },
   "outputs": [],
   "source": [
    "br=BaggingRegressor(n_estimators=700)"
   ]
  },
  {
   "cell_type": "code",
   "execution_count": 159,
   "metadata": {
    "_uuid": "99c4484b7733b8d52cfdaa17fe7f48c4fd3cbeb6"
   },
   "outputs": [
    {
     "data": {
      "text/plain": [
       "BaggingRegressor(base_estimator=None, bootstrap=True,\n",
       "         bootstrap_features=False, max_features=1.0, max_samples=1.0,\n",
       "         n_estimators=700, n_jobs=None, oob_score=False, random_state=None,\n",
       "         verbose=0, warm_start=False)"
      ]
     },
     "execution_count": 159,
     "metadata": {},
     "output_type": "execute_result"
    }
   ],
   "source": [
    "br.fit(X,y)"
   ]
  },
  {
   "cell_type": "code",
   "execution_count": 220,
   "metadata": {
    "_uuid": "75fa5bbaae8ff73c3bd1feecccbb1eee5fdca466"
   },
   "outputs": [],
   "source": [
    "pred_br=br.predict(test)"
   ]
  },
  {
   "cell_type": "markdown",
   "metadata": {
    "_uuid": "0af0050a8ada468b1e18ed6cbda222bcef31598a"
   },
   "source": [
    "<h1>ExtraTreesRegressor</h1>"
   ]
  },
  {
   "cell_type": "code",
   "execution_count": 161,
   "metadata": {
    "_uuid": "86aa5c5b5d40040412312a7243abbade4efe7e86"
   },
   "outputs": [],
   "source": [
    "from sklearn.ensemble import ExtraTreesRegressor"
   ]
  },
  {
   "cell_type": "code",
   "execution_count": 162,
   "metadata": {
    "_uuid": "df3b5982c54a1626709fd61128934299e7e6a0f9"
   },
   "outputs": [],
   "source": [
    "etr=ExtraTreesRegressor(n_estimators=500)"
   ]
  },
  {
   "cell_type": "code",
   "execution_count": 163,
   "metadata": {
    "_uuid": "86513e3684d34eb95d33f51e1c77972feb65bb32"
   },
   "outputs": [
    {
     "data": {
      "text/plain": [
       "ExtraTreesRegressor(bootstrap=False, criterion='mse', max_depth=None,\n",
       "          max_features='auto', max_leaf_nodes=None,\n",
       "          min_impurity_decrease=0.0, min_impurity_split=None,\n",
       "          min_samples_leaf=1, min_samples_split=2,\n",
       "          min_weight_fraction_leaf=0.0, n_estimators=500, n_jobs=None,\n",
       "          oob_score=False, random_state=None, verbose=0, warm_start=False)"
      ]
     },
     "execution_count": 163,
     "metadata": {},
     "output_type": "execute_result"
    }
   ],
   "source": [
    "etr.fit(X,y)"
   ]
  },
  {
   "cell_type": "code",
   "execution_count": 221,
   "metadata": {
    "_uuid": "3df76088ecf602befa22d284ca76ccf461bfde52"
   },
   "outputs": [],
   "source": [
    "pred_etr=etr.predict(test)"
   ]
  },
  {
   "cell_type": "markdown",
   "metadata": {
    "_uuid": "dca0f68acfc434964805792549e1933ca486280c"
   },
   "source": [
    "<h1>MLP Regressor</h1>"
   ]
  },
  {
   "cell_type": "code",
   "execution_count": 165,
   "metadata": {
    "_uuid": "645a8e20ca8df32eb99e1af121dd13506560f472"
   },
   "outputs": [],
   "source": [
    "from sklearn.neural_network import MLPRegressor"
   ]
  },
  {
   "cell_type": "code",
   "execution_count": 166,
   "metadata": {
    "_uuid": "af56e4be803aa753c82747ccd3fdbf94320bcb39"
   },
   "outputs": [],
   "source": [
    "mlp=MLPRegressor()"
   ]
  },
  {
   "cell_type": "code",
   "execution_count": 167,
   "metadata": {
    "_uuid": "1ff831b20304fde02f578bb98ad50700351a2263"
   },
   "outputs": [
    {
     "data": {
      "text/plain": [
       "MLPRegressor(activation='relu', alpha=0.0001, batch_size='auto', beta_1=0.9,\n",
       "       beta_2=0.999, early_stopping=False, epsilon=1e-08,\n",
       "       hidden_layer_sizes=(100,), learning_rate='constant',\n",
       "       learning_rate_init=0.001, max_iter=200, momentum=0.9,\n",
       "       n_iter_no_change=10, nesterovs_momentum=True, power_t=0.5,\n",
       "       random_state=None, shuffle=True, solver='adam', tol=0.0001,\n",
       "       validation_fraction=0.1, verbose=False, warm_start=False)"
      ]
     },
     "execution_count": 167,
     "metadata": {},
     "output_type": "execute_result"
    }
   ],
   "source": [
    "mlp.fit(X,y)"
   ]
  },
  {
   "cell_type": "code",
   "execution_count": 222,
   "metadata": {
    "_uuid": "3036510683794e1481a803d96d68dbe3d028c7dc"
   },
   "outputs": [],
   "source": [
    "pred_mlp=mlp.predict(test)"
   ]
  },
  {
   "cell_type": "markdown",
   "metadata": {
    "_uuid": "45cb099001970dcfc0467f3554a60f9375d2988c"
   },
   "source": [
    "<h1>KNN Regressor</h1>"
   ]
  },
  {
   "cell_type": "code",
   "execution_count": 169,
   "metadata": {
    "_uuid": "2c15a87a96a26c4085bd1d90c9d96609ecbd1a12"
   },
   "outputs": [],
   "source": [
    "from sklearn.neighbors import KNeighborsRegressor"
   ]
  },
  {
   "cell_type": "code",
   "execution_count": 170,
   "metadata": {
    "_uuid": "89cc33b5087b531d78997e04a38bc63a75b94206"
   },
   "outputs": [],
   "source": [
    "knn=KNeighborsRegressor(n_neighbors=500)"
   ]
  },
  {
   "cell_type": "code",
   "execution_count": 171,
   "metadata": {
    "_uuid": "597fb0ee061628d8f0e4abb67f4c1103c778f009"
   },
   "outputs": [
    {
     "data": {
      "text/plain": [
       "KNeighborsRegressor(algorithm='auto', leaf_size=30, metric='minkowski',\n",
       "          metric_params=None, n_jobs=None, n_neighbors=500, p=2,\n",
       "          weights='uniform')"
      ]
     },
     "execution_count": 171,
     "metadata": {},
     "output_type": "execute_result"
    }
   ],
   "source": [
    "knn.fit(X,y)"
   ]
  },
  {
   "cell_type": "code",
   "execution_count": 223,
   "metadata": {
    "_uuid": "58223d8bd7cd38db3e3f61f13b4e3d125d12b12b"
   },
   "outputs": [],
   "source": [
    "pred_knn=knn.predict(test)"
   ]
  },
  {
   "cell_type": "markdown",
   "metadata": {
    "_uuid": "5e4d3707b8abee1e9f6e040e1d9bf51bac34bbde"
   },
   "source": [
    "<h1>Decision Tree Regressor</h1>"
   ]
  },
  {
   "cell_type": "code",
   "execution_count": 173,
   "metadata": {
    "_uuid": "28a3a27202ea2c34df912f71402cd4965b83b440"
   },
   "outputs": [],
   "source": [
    "from sklearn.tree import DecisionTreeRegressor"
   ]
  },
  {
   "cell_type": "code",
   "execution_count": 174,
   "metadata": {
    "_uuid": "30d9f5dfeb2765745fcaa80043d2dbc38e1d7ad8"
   },
   "outputs": [],
   "source": [
    "dtr=DecisionTreeRegressor()"
   ]
  },
  {
   "cell_type": "code",
   "execution_count": 175,
   "metadata": {
    "_uuid": "d615e94908b850be4b0eab2d5fe86258944279b0"
   },
   "outputs": [
    {
     "data": {
      "text/plain": [
       "DecisionTreeRegressor(criterion='mse', max_depth=None, max_features=None,\n",
       "           max_leaf_nodes=None, min_impurity_decrease=0.0,\n",
       "           min_impurity_split=None, min_samples_leaf=1,\n",
       "           min_samples_split=2, min_weight_fraction_leaf=0.0,\n",
       "           presort=False, random_state=None, splitter='best')"
      ]
     },
     "execution_count": 175,
     "metadata": {},
     "output_type": "execute_result"
    }
   ],
   "source": [
    "dtr.fit(X,y)"
   ]
  },
  {
   "cell_type": "code",
   "execution_count": 224,
   "metadata": {
    "_uuid": "923846f4016a047f9d077d414a33b281ef409fb2"
   },
   "outputs": [],
   "source": [
    "pred_dtr=dtr.predict(test)"
   ]
  },
  {
   "cell_type": "markdown",
   "metadata": {
    "_uuid": "cf08ab27f6426ebab1ace085872c4683e928a3bd"
   },
   "source": [
    "<h2>Random Forest</h2>"
   ]
  },
  {
   "cell_type": "markdown",
   "metadata": {
    "_uuid": "4d343911ec43b8903b57a0e5ba4266b4f86bdf55"
   },
   "source": [
    "With Location"
   ]
  },
  {
   "cell_type": "code",
   "execution_count": 177,
   "metadata": {
    "_uuid": "1d011dcec1ae27f5a02ecdf94a50ee772fac4153"
   },
   "outputs": [],
   "source": [
    "from sklearn.ensemble import RandomForestRegressor"
   ]
  },
  {
   "cell_type": "code",
   "execution_count": 178,
   "metadata": {
    "_uuid": "d9ac41aa0cc8befeb497abecad99239d50f59beb"
   },
   "outputs": [],
   "source": [
    "rfc=RandomForestRegressor(n_estimators=500)"
   ]
  },
  {
   "cell_type": "code",
   "execution_count": 179,
   "metadata": {
    "_uuid": "38a4dc6f912fd0fbed7be7345cb213bd3df3fd29"
   },
   "outputs": [
    {
     "data": {
      "text/plain": [
       "RandomForestRegressor(bootstrap=True, criterion='mse', max_depth=None,\n",
       "           max_features='auto', max_leaf_nodes=None,\n",
       "           min_impurity_decrease=0.0, min_impurity_split=None,\n",
       "           min_samples_leaf=1, min_samples_split=2,\n",
       "           min_weight_fraction_leaf=0.0, n_estimators=500, n_jobs=None,\n",
       "           oob_score=False, random_state=None, verbose=0, warm_start=False)"
      ]
     },
     "execution_count": 179,
     "metadata": {},
     "output_type": "execute_result"
    }
   ],
   "source": [
    "rfc.fit(X,y) "
   ]
  },
  {
   "cell_type": "code",
   "execution_count": 212,
   "metadata": {
    "_uuid": "bf4afbede10dd42d94ee07f3fe6fa8ee2df452cf"
   },
   "outputs": [],
   "source": [
    "pred_rfc=rfc.predict(test)"
   ]
  },
  {
   "cell_type": "markdown",
   "metadata": {
    "_uuid": "b72da84332e348aa20205fef9d7f55ef2915290d"
   },
   "source": [
    "Without Location"
   ]
  },
  {
   "cell_type": "code",
   "execution_count": 181,
   "metadata": {
    "_uuid": "2dec1be8b47c105643ea8ba5fca9caf5cd3207bd"
   },
   "outputs": [],
   "source": [
    "rfc1=RandomForestRegressor(n_estimators=100)"
   ]
  },
  {
   "cell_type": "code",
   "execution_count": 182,
   "metadata": {
    "_uuid": "3313ceaee7dd30027e72e46297d5f725360cca7f"
   },
   "outputs": [
    {
     "data": {
      "text/plain": [
       "RandomForestRegressor(bootstrap=True, criterion='mse', max_depth=None,\n",
       "           max_features='auto', max_leaf_nodes=None,\n",
       "           min_impurity_decrease=0.0, min_impurity_split=None,\n",
       "           min_samples_leaf=1, min_samples_split=2,\n",
       "           min_weight_fraction_leaf=0.0, n_estimators=100, n_jobs=None,\n",
       "           oob_score=False, random_state=None, verbose=0, warm_start=False)"
      ]
     },
     "execution_count": 182,
     "metadata": {},
     "output_type": "execute_result"
    }
   ],
   "source": [
    "rfc1.fit(X1,y1) "
   ]
  },
  {
   "cell_type": "code",
   "execution_count": 183,
   "metadata": {
    "_uuid": "9dba564cc1b07c0e106f05000db70e62395660f2"
   },
   "outputs": [],
   "source": [
    "pred1=rfc1.predict(test2)"
   ]
  },
  {
   "cell_type": "code",
   "execution_count": 184,
   "metadata": {
    "_uuid": "c8be3c352fe52a6cb1ae4068566cc5f93e5b9098"
   },
   "outputs": [
    {
     "data": {
      "text/plain": [
       "(5961,)"
      ]
     },
     "execution_count": 184,
     "metadata": {},
     "output_type": "execute_result"
    }
   ],
   "source": [
    "pred_rfc.shape"
   ]
  },
  {
   "cell_type": "code",
   "execution_count": 185,
   "metadata": {
    "_uuid": "3b8a9eb17cb1d0e4794411f96cadbdd4f9491c1d"
   },
   "outputs": [
    {
     "data": {
      "text/plain": [
       "(83,)"
      ]
     },
     "execution_count": 185,
     "metadata": {},
     "output_type": "execute_result"
    }
   ],
   "source": [
    "pred1.shape"
   ]
  },
  {
   "cell_type": "markdown",
   "metadata": {
    "_uuid": "a70c0fab96a75fa519cc71e88fbf5d42b77a979e"
   },
   "source": [
    "<h1>XGBoost</h1>"
   ]
  },
  {
   "cell_type": "code",
   "execution_count": 186,
   "metadata": {
    "_uuid": "d1a26bbe2e73d4347500d30ffda56d34d12dfe22"
   },
   "outputs": [],
   "source": [
    "import xgboost as xgb"
   ]
  },
  {
   "cell_type": "code",
   "execution_count": 187,
   "metadata": {
    "_uuid": "e795b3d2878a4f8d6b204c288a0a5f57cd0b0be0"
   },
   "outputs": [],
   "source": [
    "xgb = xgb.XGBRegressor(learning_rate=0.05,n_estimators= 700,silent=True, nthread=1)"
   ]
  },
  {
   "cell_type": "code",
   "execution_count": 188,
   "metadata": {
    "_uuid": "5da698f52d9518b72d21c42d8d857794cab5caf8"
   },
   "outputs": [
    {
     "data": {
      "text/plain": [
       "XGBRegressor(base_score=0.5, booster='gbtree', colsample_bylevel=1,\n",
       "       colsample_bytree=1, gamma=0, learning_rate=0.05, max_delta_step=0,\n",
       "       max_depth=3, min_child_weight=1, missing=None, n_estimators=700,\n",
       "       n_jobs=1, nthread=1, objective='reg:linear', random_state=0,\n",
       "       reg_alpha=0, reg_lambda=1, scale_pos_weight=1, seed=None,\n",
       "       silent=True, subsample=1)"
      ]
     },
     "execution_count": 188,
     "metadata": {},
     "output_type": "execute_result"
    }
   ],
   "source": [
    "xgb.fit(X,y)"
   ]
  },
  {
   "cell_type": "code",
   "execution_count": 234,
   "metadata": {
    "_uuid": "41f3a550f3d24af9faa5d6062f5d1373bb5c1d4f"
   },
   "outputs": [],
   "source": [
    "pred_xgb=xgb.predict(test)"
   ]
  },
  {
   "cell_type": "markdown",
   "metadata": {
    "_uuid": "823e2f62c4dce438b19bd94198ba514fc1989651"
   },
   "source": [
    "<h1>LightGBM</h1>"
   ]
  },
  {
   "cell_type": "code",
   "execution_count": 190,
   "metadata": {
    "_uuid": "a079bad5c78770af061a4280720e0d19c36ba844"
   },
   "outputs": [],
   "source": [
    "import lightgbm as lgbm"
   ]
  },
  {
   "cell_type": "code",
   "execution_count": 191,
   "metadata": {
    "_uuid": "98a66fe27acaa0250ff9be71431041db970cbf5c"
   },
   "outputs": [],
   "source": [
    "lgbm=lgbm.LGBMRegressor(n_estimators=700)"
   ]
  },
  {
   "cell_type": "code",
   "execution_count": 192,
   "metadata": {
    "_uuid": "1540311421d11ededd76c155992f6f4c2d5dee0e"
   },
   "outputs": [
    {
     "data": {
      "text/plain": [
       "LGBMRegressor(boosting_type='gbdt', class_weight=None, colsample_bytree=1.0,\n",
       "       importance_type='split', learning_rate=0.1, max_depth=-1,\n",
       "       min_child_samples=20, min_child_weight=0.001, min_split_gain=0.0,\n",
       "       n_estimators=700, n_jobs=-1, num_leaves=31, objective=None,\n",
       "       random_state=None, reg_alpha=0.0, reg_lambda=0.0, silent=True,\n",
       "       subsample=1.0, subsample_for_bin=200000, subsample_freq=0)"
      ]
     },
     "execution_count": 192,
     "metadata": {},
     "output_type": "execute_result"
    }
   ],
   "source": [
    "lgbm.fit(X,y)"
   ]
  },
  {
   "cell_type": "code",
   "execution_count": 233,
   "metadata": {
    "_uuid": "93721a6f09c38534521df94041081f80f3db8e0b"
   },
   "outputs": [],
   "source": [
    "pred_lgbm=lgbm.predict(test)"
   ]
  },
  {
   "cell_type": "markdown",
   "metadata": {
    "_uuid": "b33a5182188e41f290e634bcb82e3b65a9ee8a20"
   },
   "source": [
    "<h2>Feature Importance</h2>"
   ]
  },
  {
   "cell_type": "code",
   "execution_count": null,
   "metadata": {
    "_uuid": "a28c6cbd89972172208156dac49c41b517de37ab"
   },
   "outputs": [],
   "source": [
    "X.head()"
   ]
  },
  {
   "cell_type": "code",
   "execution_count": null,
   "metadata": {
    "_uuid": "dae135ce89cb63f6b0bc7873a39b954d71bab4a7"
   },
   "outputs": [],
   "source": [
    "importances = rfc.feature_importances_\n",
    "std = np.std([tree.feature_importances_ for tree in rfc.estimators_],\n",
    "             axis=0)\n",
    "indices = np.argsort(importances)[::-1]\n",
    "\n",
    "# Print the feature ranking\n",
    "print(\"Feature ranking:\")\n",
    "\n",
    "for f in range(X.shape[1]):\n",
    "    print(\"%d. feature %d (%f)\" % (f + 1, indices[f], importances[indices[f]]))\n",
    "\n",
    "# Plot the feature importances of the forest\n",
    "plt.figure()\n",
    "plt.title(\"Feature importances\")\n",
    "plt.bar(range(X.shape[1]), importances[indices],\n",
    "       color=\"r\", yerr=std[indices], align=\"center\")\n",
    "plt.xticks(range(X.shape[1]), indices)\n",
    "plt.xlim([-1, X.shape[1]])\n",
    "plt.show()"
   ]
  },
  {
   "cell_type": "markdown",
   "metadata": {
    "_uuid": "40235099be9a5e9590341c96a63a01cf51f163b3"
   },
   "source": [
    "<h2>StackNET Regressor</h2>"
   ]
  },
  {
   "cell_type": "code",
   "execution_count": null,
   "metadata": {
    "_uuid": "0bd4ba5246e096d5ed6b49767650fac828d74313"
   },
   "outputs": [],
   "source": [
    "from pystacknet.pystacknet import StackNetRegressor\n",
    "from sklearn.ensemble import RandomForestRegressor,GradientBoostingRegressor,ExtraTreesRegressor, AdaBoostRegressor\n",
    "from sklearn.tree import DecisionTreeRegressor\n",
    "from sklearn.neighbors import KNeighborsRegressor"
   ]
  },
  {
   "cell_type": "code",
   "execution_count": null,
   "metadata": {
    "_uuid": "59de672e001d34eece652784a3f15ae5ef87a826"
   },
   "outputs": [],
   "source": [
    "models=[[KNeighborsRegressor (n_neighbors=300), GradientBoostingRegressor (n_estimators=300),\n",
    "         ExtraTreesRegressor (n_estimators=300) , DecisionTreeRegressor (),\n",
    "         AdaBoostRegressor (n_estimators=300)\n",
    "        ],\n",
    "        [RandomForestRegressor (n_estimators=400)]\n",
    "       ]"
   ]
  },
  {
   "cell_type": "code",
   "execution_count": null,
   "metadata": {
    "_uuid": "208f6afeaeed6a3cbe296957298da7169070147e"
   },
   "outputs": [],
   "source": [
    "model=StackNetRegressor(models, folds=4,restacking=True, n_jobs=1, verbose=1)"
   ]
  },
  {
   "cell_type": "code",
   "execution_count": null,
   "metadata": {
    "_uuid": "17b5d3275b2881bee993c794dae62e1c88e2901f"
   },
   "outputs": [],
   "source": [
    "model.fit(X,y)"
   ]
  },
  {
   "cell_type": "code",
   "execution_count": null,
   "metadata": {
    "_uuid": "3ddf0c9219872e9cdd52ff2695d40fe80e81e79a"
   },
   "outputs": [],
   "source": [
    "predictions_stk=model.predict(test)"
   ]
  },
  {
   "cell_type": "markdown",
   "metadata": {
    "_uuid": "48495c331a0d2eb88986e0d2b12c4dc605fa2dfa"
   },
   "source": [
    "<h2>Evaluation Metric</h2>"
   ]
  },
  {
   "cell_type": "code",
   "execution_count": null,
   "metadata": {
    "_uuid": "99eb175e5264a42708c2ced82c1e157591297fe1"
   },
   "outputs": [],
   "source": [
    "#def rmsle(p, a):\n",
    "    #sum = 0\n",
    "    #for i in  range(0,len(p)):\n",
    "     #   sum += math.pow(math.log(float(p[i]) + 1) - math.log(float(a[i]) + 1),2)\n",
    "    #sum = sum * (1/len(p))\n",
    "    #return float(math.sqrt(sum))"
   ]
  },
  {
   "cell_type": "code",
   "execution_count": null,
   "metadata": {
    "_uuid": "e8e71ffa73b7491f17d9e265e26d3cc665539753"
   },
   "outputs": [],
   "source": [
    "#rmsle(pred,y)"
   ]
  },
  {
   "cell_type": "code",
   "execution_count": null,
   "metadata": {
    "_uuid": "abf2686e24ecacb3270e9d017ea60c44a9d45db2"
   },
   "outputs": [],
   "source": [
    "def rmsle(y, y_):\n",
    "   log1 = np.nan_to_num(np.array([np.log(v + 1) for v in y]))\n",
    "   log2 = np.nan_to_num(np.array([np.log(v + 1) for v in y_]))\n",
    "   calc = (log1 - log2) ** 2\n",
    "   return np.sqrt(np.mean(calc))"
   ]
  },
  {
   "cell_type": "code",
   "execution_count": null,
   "metadata": {
    "_uuid": "a4abc9e6faa6d1999502283661874de7801a4457"
   },
   "outputs": [],
   "source": [
    "rmsle(pred_rfc,y)"
   ]
  },
  {
   "cell_type": "code",
   "execution_count": null,
   "metadata": {},
   "outputs": [],
   "source": [
    "y.head()"
   ]
  },
  {
   "cell_type": "code",
   "execution_count": null,
   "metadata": {},
   "outputs": [],
   "source": [
    "pred_ada"
   ]
  },
  {
   "cell_type": "markdown",
   "metadata": {
    "_uuid": "855090fb8f24393e900f00e44f3357705c8286b7"
   },
   "source": [
    "<h2>Cross Validation</h2>"
   ]
  },
  {
   "cell_type": "code",
   "execution_count": null,
   "metadata": {
    "_uuid": "65fdf429e4c5e8aca5ddf47a8f8e9740ef437332"
   },
   "outputs": [],
   "source": [
    "from pprint import pprint\n",
    "print('Parameters currently in use:\\n')\n",
    "pprint(gb.get_params())"
   ]
  },
  {
   "cell_type": "code",
   "execution_count": null,
   "metadata": {
    "_uuid": "409e7ee3f5f60350ba39b6f642249bd80c5c8f09"
   },
   "outputs": [],
   "source": [
    "from sklearn.model_selection import RandomizedSearchCV\n",
    "# Number of trees in random forest\n",
    "#n_estimators = [int(x) for x in np.linspace(start = 200, stop = 2000, num = 10)]\n",
    "# Number of features to consider at every split\n",
    "max_features = ['auto', 'sqrt']\n",
    "# Maximum number of levels in tree\n",
    "max_depth = [int(x) for x in np.linspace(10, 110, num = 11)]\n",
    "max_depth.append(None)\n",
    "# Minimum number of samples required to split a node\n",
    "min_samples_split = [2, 5, 10]\n",
    "# Minimum number of samples required at each leaf node\n",
    "min_samples_leaf = [1, 2, 4]\n",
    "# Method of selecting samples for training each tree\n",
    "bootstrap = [True, False]\n",
    "# Create the random grid\n",
    "random_grid = {'n_estimators': n_estimators,\n",
    "               'max_features': max_features,\n",
    "               'max_depth': max_depth,\n",
    "               'min_samples_split': min_samples_split,\n",
    "               'min_samples_leaf': min_samples_leaf,\n",
    "               'bootstrap': bootstrap}\n",
    "pprint(random_grid)"
   ]
  },
  {
   "cell_type": "code",
   "execution_count": null,
   "metadata": {
    "_uuid": "3da247d01720155cdd8828fcb5b61f8ece9bad62"
   },
   "outputs": [],
   "source": [
    "from sklearn.model_selection import RandomizedSearchCV, GridSearchCV\n",
    "from sklearn.model_selection import KFold"
   ]
  },
  {
   "cell_type": "code",
   "execution_count": null,
   "metadata": {
    "_uuid": "f578769c95ec444ae6d427acdcad932070959e2b"
   },
   "outputs": [],
   "source": [
    "folds = 3\n",
    "param_comb = 5\n",
    "\n",
    "skf = KFold(n_splits=folds, shuffle = True, random_state = 1001)\n",
    "\n",
    "random_search = RandomizedSearchCV(rfc, param_distributions=random_grid, n_iter=param_comb, scoring=lol, n_jobs=4, cv=skf.split(X,y), verbose=3, random_state=1001 )"
   ]
  },
  {
   "cell_type": "code",
   "execution_count": null,
   "metadata": {
    "_uuid": "9dc020c1e17cecdc1cf7f1c99fca6b75bca22e2a"
   },
   "outputs": [],
   "source": [
    "random_search.fit(X, y)"
   ]
  },
  {
   "cell_type": "code",
   "execution_count": null,
   "metadata": {
    "_uuid": "9165147e45f89cffbf15adaf027d35b743891387"
   },
   "outputs": [],
   "source": [
    "print('\\n All results:')\n",
    "print(random_search.cv_results_)\n",
    "print('\\n Best estimator:')\n",
    "print(random_search.best_estimator_)\n",
    "print('\\n Best normalized gini score for %d-fold search with %d parameter combinations:' % (folds, param_comb))\n",
    "print(random_search.best_score_ * 2 - 1)\n",
    "print('\\n Best hyperparameters:')\n",
    "print(random_search.best_params_)"
   ]
  },
  {
   "cell_type": "markdown",
   "metadata": {
    "_uuid": "aae5cf979221f7d14871e29e70e7e2a5163fea37"
   },
   "source": [
    "<h2>Combining</h2>"
   ]
  },
  {
   "cell_type": "code",
   "execution_count": 213,
   "metadata": {
    "_uuid": "e0079aa41232f9a0b712ac223bf916acf56d280f"
   },
   "outputs": [
    {
     "data": {
      "text/plain": [
       "(83, 259)"
      ]
     },
     "execution_count": 213,
     "metadata": {},
     "output_type": "execute_result"
    }
   ],
   "source": [
    "test2.shape"
   ]
  },
  {
   "cell_type": "code",
   "execution_count": 214,
   "metadata": {
    "_uuid": "900cd2f9b91073c682bfe2ce0433ca899b35a5a2"
   },
   "outputs": [
    {
     "data": {
      "text/plain": [
       "(83,)"
      ]
     },
     "execution_count": 214,
     "metadata": {},
     "output_type": "execute_result"
    }
   ],
   "source": [
    "pred1.shape"
   ]
  },
  {
   "cell_type": "code",
   "execution_count": 241,
   "metadata": {
    "_uuid": "9a727071652ad2bf58b44182bc27c0736bd27abb"
   },
   "outputs": [],
   "source": [
    "sub=pd.DataFrame()\n",
    "sub[0]=test2[0]\n",
    "sub.drop([0],axis=1,inplace=True)\n",
    "sub['Fees']=pred1"
   ]
  },
  {
   "cell_type": "code",
   "execution_count": 272,
   "metadata": {
    "_uuid": "8d5626449e94ba7c28f0f832bf489466d1922756"
   },
   "outputs": [],
   "source": [
    "sub1=pd.DataFrame()\n",
    "sub1[0]=test[0]\n",
    "sub1.drop([0],axis=1,inplace=True)\n",
    "sub1['Fees']=pred_xgb"
   ]
  },
  {
   "cell_type": "markdown",
   "metadata": {
    "_uuid": "fd4d7c0c9277eb3a7691bf74f755e5cda4ff21da"
   },
   "source": [
    "<h2>Submission</h2>"
   ]
  },
  {
   "cell_type": "code",
   "execution_count": 273,
   "metadata": {
    "_uuid": "d40862bee00cf90f42094578b5cb62a3c59f6ed3"
   },
   "outputs": [],
   "source": [
    "finalsub=pd.concat([sub,sub1],axis=0)\n",
    "finalsub=finalsub.sort_index(axis=0)"
   ]
  },
  {
   "cell_type": "code",
   "execution_count": 274,
   "metadata": {},
   "outputs": [],
   "source": [
    "pred_xgb=finalsub['Fees']"
   ]
  },
  {
   "cell_type": "code",
   "execution_count": 277,
   "metadata": {
    "_uuid": "24c033d2081da5e5700b9c94dd249072b1d37de7"
   },
   "outputs": [],
   "source": [
    "finalsub.to_excel(\"Try.xlsx\")"
   ]
  },
  {
   "cell_type": "code",
   "execution_count": null,
   "metadata": {
    "_uuid": "a92404c7d432ff15b323e3fef95bc1fa607c9b62"
   },
   "outputs": [],
   "source": [
    "from sklearn.metrics import make_scorer\n",
    "lol=make_scorer(rmsle)"
   ]
  },
  {
   "cell_type": "markdown",
   "metadata": {
    "_uuid": "5a3aef06ef2e30e704cb81d53eb4731cb57502fd"
   },
   "source": [
    "<h4>Rounding Off</h4>"
   ]
  },
  {
   "cell_type": "code",
   "execution_count": null,
   "metadata": {
    "_uuid": "ceee935a9c494a2ff3e5875593070aec487b6373"
   },
   "outputs": [],
   "source": [
    "a=[]\n"
   ]
  },
  {
   "cell_type": "code",
   "execution_count": null,
   "metadata": {
    "_uuid": "efb950dd8fca95eb571809aa7b65de7a883700a9"
   },
   "outputs": [],
   "source": [
    "haha=[]\n",
    "for i in range(0,len(a)):\n",
    "    lel=(round(a[i]/50)*50)\n",
    "    haha.append(lel)"
   ]
  },
  {
   "cell_type": "code",
   "execution_count": null,
   "metadata": {},
   "outputs": [],
   "source": [
    "finalsub['Fees']=round(finalsub['Fees'])"
   ]
  },
  {
   "cell_type": "markdown",
   "metadata": {
    "_uuid": "e6f0736d42772c1e93c910f6dcefdbb1483f3cc7"
   },
   "source": [
    "<h2>Combining to get weights</h2>"
   ]
  },
  {
   "cell_type": "code",
   "execution_count": 194,
   "metadata": {},
   "outputs": [],
   "source": [
    "weights=pd.DataFrame()"
   ]
  },
  {
   "cell_type": "code",
   "execution_count": 195,
   "metadata": {},
   "outputs": [],
   "source": [
    "weights['Ada']=pred_ada"
   ]
  },
  {
   "cell_type": "code",
   "execution_count": 196,
   "metadata": {},
   "outputs": [],
   "source": [
    "weights['GBR']=pred_gb"
   ]
  },
  {
   "cell_type": "code",
   "execution_count": 197,
   "metadata": {},
   "outputs": [],
   "source": [
    "weights['Bagging']=pred_br"
   ]
  },
  {
   "cell_type": "code",
   "execution_count": 198,
   "metadata": {},
   "outputs": [],
   "source": [
    "weights['MLP']=pred_mlp"
   ]
  },
  {
   "cell_type": "code",
   "execution_count": 199,
   "metadata": {},
   "outputs": [],
   "source": [
    "weights['KNN']=pred_knn"
   ]
  },
  {
   "cell_type": "code",
   "execution_count": 200,
   "metadata": {},
   "outputs": [],
   "source": [
    "weights['ExtraTrees']=pred_etr"
   ]
  },
  {
   "cell_type": "code",
   "execution_count": 201,
   "metadata": {},
   "outputs": [],
   "source": [
    "weights['DescionTree']=pred_dtr"
   ]
  },
  {
   "cell_type": "code",
   "execution_count": 202,
   "metadata": {},
   "outputs": [],
   "source": [
    "weights['XGBoost']=pred_xgb"
   ]
  },
  {
   "cell_type": "code",
   "execution_count": 203,
   "metadata": {},
   "outputs": [],
   "source": [
    "weights['LightGBM']=pred_lgbm"
   ]
  },
  {
   "cell_type": "code",
   "execution_count": 204,
   "metadata": {},
   "outputs": [],
   "source": [
    "weights['RFC']=pred_rfc"
   ]
  },
  {
   "cell_type": "code",
   "execution_count": 205,
   "metadata": {},
   "outputs": [],
   "source": [
    "weights['True']=y"
   ]
  },
  {
   "cell_type": "code",
   "execution_count": 206,
   "metadata": {},
   "outputs": [
    {
     "data": {
      "text/html": [
       "<div>\n",
       "<style scoped>\n",
       "    .dataframe tbody tr th:only-of-type {\n",
       "        vertical-align: middle;\n",
       "    }\n",
       "\n",
       "    .dataframe tbody tr th {\n",
       "        vertical-align: top;\n",
       "    }\n",
       "\n",
       "    .dataframe thead th {\n",
       "        text-align: right;\n",
       "    }\n",
       "</style>\n",
       "<table border=\"1\" class=\"dataframe\">\n",
       "  <thead>\n",
       "    <tr style=\"text-align: right;\">\n",
       "      <th></th>\n",
       "      <th>Ada</th>\n",
       "      <th>GBR</th>\n",
       "      <th>Bagging</th>\n",
       "      <th>MLP</th>\n",
       "      <th>KNN</th>\n",
       "      <th>ExtraTrees</th>\n",
       "      <th>DescionTree</th>\n",
       "      <th>XGBoost</th>\n",
       "      <th>LightGBM</th>\n",
       "      <th>RFC</th>\n",
       "      <th>True</th>\n",
       "    </tr>\n",
       "  </thead>\n",
       "  <tbody>\n",
       "    <tr>\n",
       "      <th>0</th>\n",
       "      <td>113.407258</td>\n",
       "      <td>91.217615</td>\n",
       "      <td>114.714286</td>\n",
       "      <td>124.614225</td>\n",
       "      <td>216.860</td>\n",
       "      <td>100.0</td>\n",
       "      <td>100.0</td>\n",
       "      <td>131.705048</td>\n",
       "      <td>93.600195</td>\n",
       "      <td>116.000000</td>\n",
       "      <td>100</td>\n",
       "    </tr>\n",
       "    <tr>\n",
       "      <th>1</th>\n",
       "      <td>332.964023</td>\n",
       "      <td>350.222174</td>\n",
       "      <td>348.607143</td>\n",
       "      <td>353.884505</td>\n",
       "      <td>335.360</td>\n",
       "      <td>350.0</td>\n",
       "      <td>350.0</td>\n",
       "      <td>351.591919</td>\n",
       "      <td>347.259732</td>\n",
       "      <td>342.466667</td>\n",
       "      <td>350</td>\n",
       "    </tr>\n",
       "    <tr>\n",
       "      <th>2</th>\n",
       "      <td>332.964023</td>\n",
       "      <td>295.174764</td>\n",
       "      <td>300.785714</td>\n",
       "      <td>313.776754</td>\n",
       "      <td>279.220</td>\n",
       "      <td>300.0</td>\n",
       "      <td>300.0</td>\n",
       "      <td>297.307861</td>\n",
       "      <td>300.593243</td>\n",
       "      <td>302.600000</td>\n",
       "      <td>300</td>\n",
       "    </tr>\n",
       "    <tr>\n",
       "      <th>3</th>\n",
       "      <td>271.480879</td>\n",
       "      <td>194.438851</td>\n",
       "      <td>245.857143</td>\n",
       "      <td>202.520296</td>\n",
       "      <td>268.596</td>\n",
       "      <td>250.0</td>\n",
       "      <td>250.0</td>\n",
       "      <td>177.983368</td>\n",
       "      <td>226.656504</td>\n",
       "      <td>242.100000</td>\n",
       "      <td>250</td>\n",
       "    </tr>\n",
       "    <tr>\n",
       "      <th>4</th>\n",
       "      <td>271.480879</td>\n",
       "      <td>241.848756</td>\n",
       "      <td>245.500000</td>\n",
       "      <td>255.815280</td>\n",
       "      <td>240.620</td>\n",
       "      <td>250.0</td>\n",
       "      <td>250.0</td>\n",
       "      <td>241.401901</td>\n",
       "      <td>241.577746</td>\n",
       "      <td>244.900000</td>\n",
       "      <td>250</td>\n",
       "    </tr>\n",
       "  </tbody>\n",
       "</table>\n",
       "</div>"
      ],
      "text/plain": [
       "          Ada         GBR     Bagging         MLP      KNN  ExtraTrees  \\\n",
       "0  113.407258   91.217615  114.714286  124.614225  216.860       100.0   \n",
       "1  332.964023  350.222174  348.607143  353.884505  335.360       350.0   \n",
       "2  332.964023  295.174764  300.785714  313.776754  279.220       300.0   \n",
       "3  271.480879  194.438851  245.857143  202.520296  268.596       250.0   \n",
       "4  271.480879  241.848756  245.500000  255.815280  240.620       250.0   \n",
       "\n",
       "   DescionTree     XGBoost    LightGBM         RFC  True  \n",
       "0        100.0  131.705048   93.600195  116.000000   100  \n",
       "1        350.0  351.591919  347.259732  342.466667   350  \n",
       "2        300.0  297.307861  300.593243  302.600000   300  \n",
       "3        250.0  177.983368  226.656504  242.100000   250  \n",
       "4        250.0  241.401901  241.577746  244.900000   250  "
      ]
     },
     "execution_count": 206,
     "metadata": {},
     "output_type": "execute_result"
    }
   ],
   "source": [
    "weights.head()"
   ]
  },
  {
   "cell_type": "markdown",
   "metadata": {},
   "source": [
    "<h2>Linear Regression</h2>"
   ]
  },
  {
   "cell_type": "code",
   "execution_count": 207,
   "metadata": {},
   "outputs": [],
   "source": [
    "X3=weights.drop(['True'],axis=1)\n",
    "y3=weights['True']"
   ]
  },
  {
   "cell_type": "code",
   "execution_count": 208,
   "metadata": {},
   "outputs": [],
   "source": [
    "from sklearn.linear_model import LinearRegression"
   ]
  },
  {
   "cell_type": "code",
   "execution_count": 209,
   "metadata": {},
   "outputs": [],
   "source": [
    "lr=LinearRegression()"
   ]
  },
  {
   "cell_type": "code",
   "execution_count": 228,
   "metadata": {},
   "outputs": [
    {
     "data": {
      "text/plain": [
       "LinearRegression(copy_X=True, fit_intercept=True, n_jobs=None,\n",
       "         normalize=False)"
      ]
     },
     "execution_count": 228,
     "metadata": {},
     "output_type": "execute_result"
    }
   ],
   "source": [
    "lr.fit(X3,y3)"
   ]
  },
  {
   "cell_type": "code",
   "execution_count": 229,
   "metadata": {},
   "outputs": [
    {
     "data": {
      "text/plain": [
       "array([-3.52308068e-16, -6.10622664e-16,  9.15933995e-16, -2.35922393e-16,\n",
       "        1.38777878e-17,  6.93889390e-17,  1.00000000e+00,  4.16333634e-17,\n",
       "        6.93889390e-17,  1.52655666e-16])"
      ]
     },
     "execution_count": 229,
     "metadata": {},
     "output_type": "execute_result"
    }
   ],
   "source": [
    "lr.coef_"
   ]
  },
  {
   "cell_type": "markdown",
   "metadata": {},
   "source": [
    "<h2>Combining the weights</h2>"
   ]
  },
  {
   "cell_type": "code",
   "execution_count": 237,
   "metadata": {},
   "outputs": [
    {
     "data": {
      "text/plain": [
       "(1987, 1)"
      ]
     },
     "execution_count": 237,
     "metadata": {},
     "output_type": "execute_result"
    }
   ],
   "source": [
    "finalsub.shape"
   ]
  },
  {
   "cell_type": "code",
   "execution_count": 240,
   "metadata": {},
   "outputs": [
    {
     "data": {
      "text/plain": [
       "1904"
      ]
     },
     "execution_count": 240,
     "metadata": {},
     "output_type": "execute_result"
    }
   ],
   "source": [
    "len(pred_ada)"
   ]
  },
  {
   "cell_type": "code",
   "execution_count": 275,
   "metadata": {},
   "outputs": [],
   "source": [
    "finalsub['Fees']=((pred_ada*(-0.000000000000000352308068))+(pred_gb*(-0.000000000000000610622664))+(pred_br*(0.000000000000000915933995))+(pred_mlp*(-0.000000000000000235922393))+(pred_knn*(0.0000000000000000138777878))+(pred_etr*(0.0000000000000000693889390))+(pred_dtr*(1))+(pred_xgb*(0.0000000000000000416333634))+(pred_lgbm*(0.0000000000000000693889390))+(pred_rfc*(0.000000000000000152655666)))"
   ]
  },
  {
   "cell_type": "code",
   "execution_count": 276,
   "metadata": {},
   "outputs": [
    {
     "data": {
      "text/html": [
       "<div>\n",
       "<style scoped>\n",
       "    .dataframe tbody tr th:only-of-type {\n",
       "        vertical-align: middle;\n",
       "    }\n",
       "\n",
       "    .dataframe tbody tr th {\n",
       "        vertical-align: top;\n",
       "    }\n",
       "\n",
       "    .dataframe thead th {\n",
       "        text-align: right;\n",
       "    }\n",
       "</style>\n",
       "<table border=\"1\" class=\"dataframe\">\n",
       "  <thead>\n",
       "    <tr style=\"text-align: right;\">\n",
       "      <th></th>\n",
       "      <th>Fees</th>\n",
       "    </tr>\n",
       "  </thead>\n",
       "  <tbody>\n",
       "    <tr>\n",
       "      <th>0</th>\n",
       "      <td>300.0</td>\n",
       "    </tr>\n",
       "    <tr>\n",
       "      <th>1</th>\n",
       "      <td>500.0</td>\n",
       "    </tr>\n",
       "    <tr>\n",
       "      <th>2</th>\n",
       "      <td>150.0</td>\n",
       "    </tr>\n",
       "    <tr>\n",
       "      <th>3</th>\n",
       "      <td>200.0</td>\n",
       "    </tr>\n",
       "    <tr>\n",
       "      <th>4</th>\n",
       "      <td>800.0</td>\n",
       "    </tr>\n",
       "  </tbody>\n",
       "</table>\n",
       "</div>"
      ],
      "text/plain": [
       "    Fees\n",
       "0  300.0\n",
       "1  500.0\n",
       "2  150.0\n",
       "3  200.0\n",
       "4  800.0"
      ]
     },
     "execution_count": 276,
     "metadata": {},
     "output_type": "execute_result"
    }
   ],
   "source": [
    "finalsub.head()"
   ]
  }
 ],
 "metadata": {
  "hide_input": false,
  "kernelspec": {
   "display_name": "Python 3",
   "language": "python",
   "name": "python3"
  },
  "language_info": {
   "codemirror_mode": {
    "name": "ipython",
    "version": 3
   },
   "file_extension": ".py",
   "mimetype": "text/x-python",
   "name": "python",
   "nbconvert_exporter": "python",
   "pygments_lexer": "ipython3",
   "version": "3.6.8"
  },
  "varInspector": {
   "cols": {
    "lenName": 16,
    "lenType": 16,
    "lenVar": 40
   },
   "kernels_config": {
    "python": {
     "delete_cmd_postfix": "",
     "delete_cmd_prefix": "del ",
     "library": "var_list.py",
     "varRefreshCmd": "print(var_dic_list())"
    },
    "r": {
     "delete_cmd_postfix": ") ",
     "delete_cmd_prefix": "rm(",
     "library": "var_list.r",
     "varRefreshCmd": "cat(var_dic_list()) "
    }
   },
   "position": {
    "height": "217.014px",
    "left": "888.495px",
    "right": "20px",
    "top": "99.9884px",
    "width": "338.49px"
   },
   "types_to_exclude": [
    "module",
    "function",
    "builtin_function_or_method",
    "instance",
    "_Feature"
   ],
   "window_display": false
  }
 },
 "nbformat": 4,
 "nbformat_minor": 1
}
